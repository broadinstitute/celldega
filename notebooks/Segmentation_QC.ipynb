{
 "cells": [
  {
   "cell_type": "markdown",
   "id": "8af40919-471f-489c-b99f-925dcee30c87",
   "metadata": {},
   "source": [
    "# Segmentation QC"
   ]
  },
  {
   "cell_type": "code",
   "execution_count": 1,
   "id": "d28ad6c4-ac99-4494-ad7d-6376a0b3cd18",
   "metadata": {},
   "outputs": [
    {
     "name": "stdout",
     "output_type": "stream",
     "text": [
      "env: ANYWIDGET_HMR=1\n"
     ]
    }
   ],
   "source": [
    "%load_ext autoreload\n",
    "%autoreload 2\n",
    "%env ANYWIDGET_HMR=1"
   ]
  },
  {
   "cell_type": "code",
   "execution_count": 2,
   "id": "1ba4053d-2df3-4f14-9bd1-5950514306da",
   "metadata": {},
   "outputs": [],
   "source": [
    "# macOS requirement\n",
    "import os\n",
    "import pandas as pd\n",
    "import geopandas as gpd\n",
    "os.environ['DYLD_LIBRARY_PATH'] = '/opt/homebrew/lib:' + os.environ.get('DYLD_LIBRARY_PATH', '')"
   ]
  },
  {
   "cell_type": "code",
   "execution_count": 37,
   "id": "19c3c2ac-0b38-42ea-87b1-d98e3be40d65",
   "metadata": {},
   "outputs": [
    {
     "name": "stdout",
     "output_type": "stream",
     "text": [
      "segmentation metrics calculation completed\n"
     ]
    }
   ],
   "source": [
    "import celldega as dega\n",
    "dataset_metrics_df = dega.qc.ist_segmentation_metrics(transcript_metadata_file=\"../../../Downloads/data_for_testing_metrics_script/submissions_b41b6b90-1a22-4e63-9fa8-6a80bbeacfc9_MAIN_WORKFLOW_8d99fba5-76b7-466f-afa0-d33105c75de0_call-partitioning_transcript_cell_by_gene_partitioned_transcripts_metadata.parquet\",\n",
    "                                 transcript_data_file=\"../../../Downloads/data_for_testing_metrics_script/submissions_b41b6b90-1a22-4e63-9fa8-6a80bbeacfc9_MAIN_WORKFLOW_8d99fba5-76b7-466f-afa0-d33105c75de0_call-create_subset_subset_coordinates.csv\", \n",
    "                                 cell_polygon_metadata_file=\"../../../Downloads/data_for_testing_metrics_script/submissions_b41b6b90-1a22-4e63-9fa8-6a80bbeacfc9_MAIN_WORKFLOW_8d99fba5-76b7-466f-afa0-d33105c75de0_call-partitioning_transcript_cell_by_gene_cell_metadata.parquet\",\n",
    "                                 cell_polygon_data_file=\"../../../Downloads/data_for_testing_metrics_script/submissions_b41b6b90-1a22-4e63-9fa8-6a80bbeacfc9_MAIN_WORKFLOW_8d99fba5-76b7-466f-afa0-d33105c75de0_call-partitioning_transcript_cell_by_gene_cell_polygons.parquet\", \n",
    "                                 image_files=[\"../../../Documents/cell_segmentation/segmentation_data/original_data/Xenium_Prime_Human_Prostate_FFPE_outs/morphology_focus/morphology_focus_0000.ome.tif\",\n",
    "                                              \"../../../Documents/cell_segmentation/segmentation_data/original_data/Xenium_Prime_Human_Prostate_FFPE_outs/morphology_focus/morphology_focus_0001.ome.tif\",\n",
    "                                              \"../../../Documents/cell_segmentation/segmentation_data/original_data/Xenium_Prime_Human_Prostate_FFPE_outs/morphology_focus/morphology_focus_0002.ome.tif\",\n",
    "                                              \"../../../Documents/cell_segmentation/segmentation_data/original_data/Xenium_Prime_Human_Prostate_FFPE_outs/morphology_focus/morphology_focus_0003.ome.tif\"], \n",
    "                                 subset_interval_y_x=[0,20294,0,42748],\n",
    "                                 pixel_size=0.2125,\n",
    "                                 thickness=1)"
   ]
  },
  {
   "cell_type": "code",
   "execution_count": 38,
   "id": "fe3e72d6-6a2e-4424-be21-e4b69290e936",
   "metadata": {},
   "outputs": [
    {
     "data": {
      "text/html": [
       "<div>\n",
       "<style scoped>\n",
       "    .dataframe tbody tr th:only-of-type {\n",
       "        vertical-align: middle;\n",
       "    }\n",
       "\n",
       "    .dataframe tbody tr th {\n",
       "        vertical-align: top;\n",
       "    }\n",
       "\n",
       "    .dataframe thead th {\n",
       "        text-align: right;\n",
       "    }\n",
       "</style>\n",
       "<table border=\"1\" class=\"dataframe\">\n",
       "  <thead>\n",
       "    <tr style=\"text-align: right;\">\n",
       "      <th></th>\n",
       "      <th>0_indexed_image_channel_intensity</th>\n",
       "      <th>1_indexed_image_channel_intensity</th>\n",
       "      <th>2_indexed_image_channel_intensity</th>\n",
       "      <th>3_indexed_image_channel_intensity</th>\n",
       "      <th>proportion_transcripts_assigned_to_cells</th>\n",
       "      <th>total_number_of_cells</th>\n",
       "      <th>average_cell_area</th>\n",
       "      <th>average_cell_volume</th>\n",
       "      <th>average_transcripts_per_cell</th>\n",
       "      <th>median_transcripts_per_cell</th>\n",
       "      <th>average_genes_per_cell</th>\n",
       "      <th>median_genes_per_cell</th>\n",
       "      <th>cells_per_100_um^2</th>\n",
       "      <th>percent_empty_cells</th>\n",
       "    </tr>\n",
       "  </thead>\n",
       "  <tbody>\n",
       "    <tr>\n",
       "      <th>0</th>\n",
       "      <td>0.069536</td>\n",
       "      <td>0.154016</td>\n",
       "      <td>0.025722</td>\n",
       "      <td>0.043835</td>\n",
       "      <td>91.175765</td>\n",
       "      <td>222902</td>\n",
       "      <td>2326.244272</td>\n",
       "      <td>2326.244272</td>\n",
       "      <td>244.308589</td>\n",
       "      <td>175.0</td>\n",
       "      <td>179.442647</td>\n",
       "      <td>143.0</td>\n",
       "      <td>0.569</td>\n",
       "      <td>5.702634</td>\n",
       "    </tr>\n",
       "  </tbody>\n",
       "</table>\n",
       "</div>"
      ],
      "text/plain": [
       "   0_indexed_image_channel_intensity  1_indexed_image_channel_intensity  \\\n",
       "0                           0.069536                           0.154016   \n",
       "\n",
       "   2_indexed_image_channel_intensity  3_indexed_image_channel_intensity  \\\n",
       "0                           0.025722                           0.043835   \n",
       "\n",
       "   proportion_transcripts_assigned_to_cells  total_number_of_cells  \\\n",
       "0                                 91.175765                 222902   \n",
       "\n",
       "   average_cell_area  average_cell_volume  average_transcripts_per_cell  \\\n",
       "0        2326.244272          2326.244272                    244.308589   \n",
       "\n",
       "   median_transcripts_per_cell  average_genes_per_cell  median_genes_per_cell  \\\n",
       "0                        175.0              179.442647                  143.0   \n",
       "\n",
       "   cells_per_100_um^2  percent_empty_cells  \n",
       "0               0.569             5.702634  "
      ]
     },
     "execution_count": 38,
     "metadata": {},
     "output_type": "execute_result"
    }
   ],
   "source": [
    "dataset_metrics_df"
   ]
  },
  {
   "cell_type": "code",
   "execution_count": null,
   "id": "86e18001-ce80-4f7b-a05f-b1657df19054",
   "metadata": {},
   "outputs": [],
   "source": []
  },
  {
   "cell_type": "code",
   "execution_count": 16,
   "id": "e7ca425d-b99f-4544-8207-b506402dc823",
   "metadata": {},
   "outputs": [],
   "source": [
    "trx_meta = pd.read_parquet(\"../../../Downloads/data_for_testing_metrics_script/submissions_b41b6b90-1a22-4e63-9fa8-6a80bbeacfc9_MAIN_WORKFLOW_8d99fba5-76b7-466f-afa0-d33105c75de0_call-partitioning_transcript_cell_by_gene_partitioned_transcripts_metadata.parquet\")\n",
    "trx = pd.read_csv(\"../../../Downloads/data_for_testing_metrics_script/submissions_b41b6b90-1a22-4e63-9fa8-6a80bbeacfc9_MAIN_WORKFLOW_8d99fba5-76b7-466f-afa0-d33105c75de0_call-create_subset_subset_coordinates.csv\")"
   ]
  },
  {
   "cell_type": "code",
   "execution_count": 17,
   "id": "002cd33d-752d-48d4-8527-ab3a437f076c",
   "metadata": {},
   "outputs": [],
   "source": [
    "cell_meta = gpd.read_parquet(\"../../../Downloads/data_for_testing_metrics_script/submissions_b41b6b90-1a22-4e63-9fa8-6a80bbeacfc9_MAIN_WORKFLOW_8d99fba5-76b7-466f-afa0-d33105c75de0_call-partitioning_transcript_cell_by_gene_cell_metadata.parquet\")\n",
    "cell = gpd.read_parquet(\"../../../Downloads/data_for_testing_metrics_script/submissions_b41b6b90-1a22-4e63-9fa8-6a80bbeacfc9_MAIN_WORKFLOW_8d99fba5-76b7-466f-afa0-d33105c75de0_call-partitioning_transcript_cell_by_gene_cell_polygons.parquet\")"
   ]
  },
  {
   "cell_type": "code",
   "execution_count": null,
   "id": "a388545c-8bcd-4974-b7ff-45dff7c1decc",
   "metadata": {},
   "outputs": [],
   "source": []
  }
 ],
 "metadata": {
  "kernelspec": {
   "display_name": "Python 3 (ipykernel)",
   "language": "python",
   "name": "python3"
  },
  "language_info": {
   "codemirror_mode": {
    "name": "ipython",
    "version": 3
   },
   "file_extension": ".py",
   "mimetype": "text/x-python",
   "name": "python",
   "nbconvert_exporter": "python",
   "pygments_lexer": "ipython3",
   "version": "3.9.20"
  },
  "widgets": {
   "application/vnd.jupyter.widget-state+json": {
    "state": {},
    "version_major": 2,
    "version_minor": 0
   }
  }
 },
 "nbformat": 4,
 "nbformat_minor": 5
}
