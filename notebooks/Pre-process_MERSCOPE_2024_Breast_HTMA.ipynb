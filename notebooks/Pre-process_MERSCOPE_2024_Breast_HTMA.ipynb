{
 "cells": [
  {
   "cell_type": "markdown",
   "id": "8ce6b74e-54af-48ba-abf2-7ce2caa573bf",
   "metadata": {},
   "source": [
    "# Secret Pre-Landscape Notebook MERSCOPE"
   ]
  },
  {
   "cell_type": "code",
   "execution_count": 1,
   "id": "b81ab32e",
   "metadata": {},
   "outputs": [
    {
     "name": "stdout",
     "output_type": "stream",
     "text": [
      "env: ANYWIDGET_HMR=1\n"
     ]
    }
   ],
   "source": [
    "%load_ext autoreload\n",
    "%autoreload 2\n",
    "%env ANYWIDGET_HMR=1"
   ]
  },
  {
   "cell_type": "code",
   "execution_count": 5,
   "id": "7feac363",
   "metadata": {},
   "outputs": [
    {
     "name": "stdout",
     "output_type": "stream",
     "text": [
      "/Users/whuan/dev/celldega/src/celldega/pre/__init__.py\n"
     ]
    }
   ],
   "source": [
    "import pandas as pd\n",
    "from skimage.io import imread\n",
    "import os\n",
    "import celldega as dega\n",
    "print(dega.pre.__file__)\n",
    "\n",
    "technology = 'MERSCOPE'"
   ]
  },
  {
   "cell_type": "code",
   "execution_count": 6,
   "id": "04b18115",
   "metadata": {},
   "outputs": [],
   "source": [
    "sample = '2024_merscope_breast_htma'\n",
    "region = 0\n",
    "\n",
    "DATA_DIR = f'/Users/whuan/dev/ist_benchmarking/data'\n",
    "\n",
    "data_dir = f'{DATA_DIR}/{sample}'\n",
    "data_dir_region = f'{DATA_DIR}/{sample}/region_{region}'\n",
    "path_landscape_files = f'{DATA_DIR}/landscapes/{sample}'\n",
    "path_landscape_files_region = f'{DATA_DIR}/landscapes/{sample}/region_{region}'\n",
    "\n",
    "\n",
    "for folder in [data_dir, data_dir_region, path_landscape_files, path_landscape_files_region]:\n",
    "    if not os.path.exists(folder):\n",
    "        os.mkdir(folder)\n",
    "        print (folder)"
   ]
  },
  {
   "cell_type": "markdown",
   "id": "313cbe24",
   "metadata": {},
   "source": [
    "# Copy data from Google bucket"
   ]
  },
  {
   "cell_type": "code",
   "execution_count": 7,
   "id": "6817b8f6-76d0-40a8-aeee-b03bf60ac499",
   "metadata": {},
   "outputs": [
    {
     "name": "stdout",
     "output_type": "stream",
     "text": [
      "images/mosaic_DAPI_z1.tif is previously downloaded\n",
      "images/mosaic_Cellbound1_z1.tif is previously downloaded\n",
      "images/micron_to_mosaic_pixel_transform.csv is previously downloaded\n",
      "cell_metadata.csv is previously downloaded\n",
      "detected_transcripts.csv is previously downloaded\n",
      "cell_boundaries.parquet is previously downloaded\n",
      "cell_by_gene.csv is previously downloaded\n"
     ]
    }
   ],
   "source": [
    "raw_data_bucket = 'fc-b8e703d3-de2d-4532-94cc-efe864b4feea/SPARC/Revisions/202405032008_SPARCRevisionsHTMAJN3May24_VMSC11302'\n",
    "\n",
    "for file in [\n",
    "    'images/mosaic_DAPI_z1.tif',\n",
    "    'images/mosaic_Cellbound1_z1.tif',\n",
    "    'images/micron_to_mosaic_pixel_transform.csv',\n",
    "    'cell_metadata.csv',\n",
    "    'detected_transcripts.csv',\n",
    "    'cell_boundaries.parquet',\n",
    "    'cell_by_gene.csv'\n",
    "    ]:\n",
    "\n",
    "    if os.path.exists(f\"{data_dir_region}/{file.split('/')[-1]}\"):\n",
    "        print (f'{file} is previously downloaded')\n",
    "    else:\n",
    "        cmd = f'gsutil cp gs://{raw_data_bucket}/region_{region}/{file} {data_dir_region}/'\n",
    "        print (cmd)\n",
    "        ! {cmd}"
   ]
  },
  {
   "cell_type": "markdown",
   "id": "af75475c-ab68-4606-9539-cb56e5d3db33",
   "metadata": {},
   "source": [
    "## Make Pyramidal Image"
   ]
  },
  {
   "cell_type": "code",
   "execution_count": 8,
   "id": "7507827f",
   "metadata": {},
   "outputs": [],
   "source": [
    "image_scale = 1\n",
    "channel = 'dapi'\n",
    "\n",
    "img = imread(f'{data_dir_region}/mosaic_DAPI_z1.tif')\n",
    "img_8bit = dega.pre.check_and_convert_16_to_8_bit(img)\n",
    "dega.pre.make_deepzoom_pyramid(img_8bit, f\"{path_landscape_files_region}/pyramid_images\", channel, clahe_tile_size=64, clahe_contrast_limit=20, suffix=\".webp[Q=100]\")"
   ]
  },
  {
   "cell_type": "markdown",
   "id": "3a31126a-6889-4c8b-b36c-2033a2e18a95",
   "metadata": {},
   "source": [
    "## Cell Metadata"
   ]
  },
  {
   "cell_type": "code",
   "execution_count": 9,
   "id": "9af24a54-3091-4079-ba5d-1b59a4221fe9",
   "metadata": {},
   "outputs": [],
   "source": [
    "path_transformation_matrix = f'{data_dir_region}/micron_to_mosaic_pixel_transform.csv'\n",
    "path_meta_cell_micron = f'{data_dir_region}/cell_metadata.csv'\n",
    "path_meta_cell_image = f'{path_landscape_files_region}/cell_metadata.parquet'"
   ]
  },
  {
   "cell_type": "code",
   "execution_count": 10,
   "id": "49889d92-db9e-43f9-a10f-9ad26d26919a",
   "metadata": {},
   "outputs": [],
   "source": [
    "dega.pre.make_meta_cell_image_coord(\n",
    "    'MERSCOPE', \n",
    "    path_transformation_matrix, \n",
    "    path_meta_cell_micron, \n",
    "    path_meta_cell_image, \n",
    "    image_scale=image_scale\n",
    ")"
   ]
  },
  {
   "cell_type": "markdown",
   "id": "a3ff1e07-cdfa-4010-a6c0-913d75286557",
   "metadata": {},
   "source": [
    "## Transcripts"
   ]
  },
  {
   "cell_type": "code",
   "execution_count": 11,
   "id": "205741d0-ab73-442a-a476-9090c3f7a3ef",
   "metadata": {},
   "outputs": [
    {
     "name": "stderr",
     "output_type": "stream",
     "text": [
      "python(47532) MallocStackLogging: can't turn off malloc stack logging because it was not enabled.\n",
      "Processing chunks: 100%|██████████| 15/15 [00:00<00:00, 223.91it/s]\n",
      "Processing coarse tiles: 231tile [01:05,  3.54tile/s]"
     ]
    },
    {
     "name": "stdout",
     "output_type": "stream",
     "text": [
      "CPU times: user 2min 12s, sys: 3min 3s, total: 5min 16s\n",
      "Wall time: 1min 5s\n"
     ]
    },
    {
     "name": "stderr",
     "output_type": "stream",
     "text": [
      "\n"
     ]
    },
    {
     "data": {
      "text/plain": [
       "{'x_min': 435.0, 'x_max': 53836.16, 'y_min': 131.36, 'y_max': 100389.39}"
      ]
     },
     "execution_count": 11,
     "metadata": {},
     "output_type": "execute_result"
    }
   ],
   "source": [
    "%%time\n",
    "tile_size = 250 #\n",
    "path_trx = f'{data_dir_region}/detected_transcripts.csv'\n",
    "path_trx_tiles = f'{path_landscape_files_region}/transcript_tiles'\n",
    "\n",
    "tile_bounds = dega.pre.make_trx_tiles(\n",
    "                'MERSCOPE',\n",
    "                path_trx,\n",
    "                path_transformation_matrix,\n",
    "                path_trx_tiles,\n",
    "                coarse_tile_size=5000,\n",
    "                fine_tile_size=tile_size,\n",
    "                chunk_size=100000,\n",
    "                verbose=False,\n",
    "                image_scale=1,\n",
    "                max_workers=4)\n",
    "                \n",
    "\n",
    "tile_bounds\n"
   ]
  },
  {
   "cell_type": "markdown",
   "id": "02c1b11b-0c8d-4dce-a265-6b9a1b623e99",
   "metadata": {},
   "source": [
    "## Cell Boundaries"
   ]
  },
  {
   "cell_type": "code",
   "execution_count": 12,
   "id": "43d99bf8-550f-480a-91ee-a59815adda5c",
   "metadata": {},
   "outputs": [
    {
     "name": "stderr",
     "output_type": "stream",
     "text": [
      "Processing coarse tiles: 100%|██████████| 11/11 [02:46<00:00, 15.14s/it]\n"
     ]
    },
    {
     "name": "stdout",
     "output_type": "stream",
     "text": [
      "CPU times: user 3min 9s, sys: 35.2 s, total: 3min 44s\n",
      "Wall time: 3min 9s\n"
     ]
    }
   ],
   "source": [
    "%%time\n",
    "\n",
    "path_cell_boundaries = f'{data_dir_region}/cell_boundaries.parquet'\n",
    "path_meta_cell_micron = f'{data_dir_region}/cell_metadata.csv'\n",
    "path_transformation_matrix = f'{data_dir_region}/micron_to_mosaic_pixel_transform.csv'\n",
    "path_output = f'{path_landscape_files_region}/cell_segmentation'\n",
    "\n",
    "dega.pre.make_cell_boundary_tiles(\n",
    "    'MERSCOPE',\n",
    "    path_cell_boundaries,\n",
    "    path_meta_cell_micron,\n",
    "    path_transformation_matrix,\n",
    "    path_output,\n",
    "    coarse_tile_size=5000,\n",
    "    fine_tile_size=250,\n",
    "    tile_bounds=tile_bounds,\n",
    "    image_scale=1,\n",
    "    max_workers=8)\n"
   ]
  },
  {
   "cell_type": "markdown",
   "id": "70b029b4-0c12-41ff-a120-bbffee2693a3",
   "metadata": {},
   "source": [
    "## Gene Metadata"
   ]
  },
  {
   "cell_type": "code",
   "execution_count": 18,
   "id": "b69f28a4-6187-47f4-bf0e-afdfbe502fd0",
   "metadata": {},
   "outputs": [
    {
     "name": "stdout",
     "output_type": "stream",
     "text": [
      "cbg is a dense DataFrame. Proceeding with dense operations.\n",
      "Calculating mean expression\n",
      "Calculating variance\n",
      "Calculating maximum expression\n",
      "Calculating proportion of non-zero expression\n"
     ]
    }
   ],
   "source": [
    "path_cbg = f'{data_dir_region}/cell_by_gene.csv'\n",
    "path_output = f'{path_landscape_files_region}/meta_gene.parquet'\n",
    "dega.pre.make_meta_gene(technology, path_cbg, path_output)\n"
   ]
  },
  {
   "cell_type": "code",
   "execution_count": 14,
   "id": "4d9da170",
   "metadata": {},
   "outputs": [
    {
     "data": {
      "text/html": [
       "<div>\n",
       "<style scoped>\n",
       "    .dataframe tbody tr th:only-of-type {\n",
       "        vertical-align: middle;\n",
       "    }\n",
       "\n",
       "    .dataframe tbody tr th {\n",
       "        vertical-align: top;\n",
       "    }\n",
       "\n",
       "    .dataframe thead th {\n",
       "        text-align: right;\n",
       "    }\n",
       "</style>\n",
       "<table border=\"1\" class=\"dataframe\">\n",
       "  <thead>\n",
       "    <tr style=\"text-align: right;\">\n",
       "      <th>__index_level_0__</th>\n",
       "      <th>PDK4</th>\n",
       "      <th>CD79B</th>\n",
       "      <th>CD9</th>\n",
       "      <th>CD4</th>\n",
       "      <th>TNFRSF17</th>\n",
       "      <th>CEACAM6</th>\n",
       "      <th>LAG3</th>\n",
       "      <th>ESR1</th>\n",
       "      <th>KRT23</th>\n",
       "      <th>CTSG</th>\n",
       "      <th>...</th>\n",
       "      <th>Blank-21</th>\n",
       "      <th>Blank-22</th>\n",
       "      <th>Blank-23</th>\n",
       "      <th>Blank-24</th>\n",
       "      <th>Blank-25</th>\n",
       "      <th>Blank-26</th>\n",
       "      <th>Blank-27</th>\n",
       "      <th>Blank-28</th>\n",
       "      <th>Blank-29</th>\n",
       "      <th>Blank-30</th>\n",
       "    </tr>\n",
       "    <tr>\n",
       "      <th>cell</th>\n",
       "      <th></th>\n",
       "      <th></th>\n",
       "      <th></th>\n",
       "      <th></th>\n",
       "      <th></th>\n",
       "      <th></th>\n",
       "      <th></th>\n",
       "      <th></th>\n",
       "      <th></th>\n",
       "      <th></th>\n",
       "      <th></th>\n",
       "      <th></th>\n",
       "      <th></th>\n",
       "      <th></th>\n",
       "      <th></th>\n",
       "      <th></th>\n",
       "      <th></th>\n",
       "      <th></th>\n",
       "      <th></th>\n",
       "      <th></th>\n",
       "      <th></th>\n",
       "    </tr>\n",
       "  </thead>\n",
       "  <tbody>\n",
       "    <tr>\n",
       "      <th>w6wHcCNCq</th>\n",
       "      <td>0</td>\n",
       "      <td>0</td>\n",
       "      <td>0</td>\n",
       "      <td>0</td>\n",
       "      <td>0</td>\n",
       "      <td>0</td>\n",
       "      <td>0</td>\n",
       "      <td>0</td>\n",
       "      <td>0</td>\n",
       "      <td>0</td>\n",
       "      <td>...</td>\n",
       "      <td>0</td>\n",
       "      <td>0</td>\n",
       "      <td>0</td>\n",
       "      <td>0</td>\n",
       "      <td>0</td>\n",
       "      <td>0</td>\n",
       "      <td>0</td>\n",
       "      <td>0</td>\n",
       "      <td>0</td>\n",
       "      <td>0</td>\n",
       "    </tr>\n",
       "    <tr>\n",
       "      <th>RDvx4MllU</th>\n",
       "      <td>0</td>\n",
       "      <td>0</td>\n",
       "      <td>0</td>\n",
       "      <td>0</td>\n",
       "      <td>0</td>\n",
       "      <td>0</td>\n",
       "      <td>0</td>\n",
       "      <td>0</td>\n",
       "      <td>0</td>\n",
       "      <td>0</td>\n",
       "      <td>...</td>\n",
       "      <td>0</td>\n",
       "      <td>0</td>\n",
       "      <td>0</td>\n",
       "      <td>0</td>\n",
       "      <td>0</td>\n",
       "      <td>0</td>\n",
       "      <td>0</td>\n",
       "      <td>0</td>\n",
       "      <td>0</td>\n",
       "      <td>0</td>\n",
       "    </tr>\n",
       "    <tr>\n",
       "      <th>XLdToFTaV</th>\n",
       "      <td>0</td>\n",
       "      <td>0</td>\n",
       "      <td>0</td>\n",
       "      <td>1.0</td>\n",
       "      <td>0</td>\n",
       "      <td>0</td>\n",
       "      <td>0</td>\n",
       "      <td>0</td>\n",
       "      <td>0</td>\n",
       "      <td>0</td>\n",
       "      <td>...</td>\n",
       "      <td>0</td>\n",
       "      <td>0</td>\n",
       "      <td>0</td>\n",
       "      <td>0</td>\n",
       "      <td>0</td>\n",
       "      <td>0</td>\n",
       "      <td>0</td>\n",
       "      <td>0</td>\n",
       "      <td>0</td>\n",
       "      <td>0</td>\n",
       "    </tr>\n",
       "    <tr>\n",
       "      <th>5kDxZ8TiG</th>\n",
       "      <td>0</td>\n",
       "      <td>0</td>\n",
       "      <td>0</td>\n",
       "      <td>0</td>\n",
       "      <td>0</td>\n",
       "      <td>0</td>\n",
       "      <td>0</td>\n",
       "      <td>0</td>\n",
       "      <td>0</td>\n",
       "      <td>0</td>\n",
       "      <td>...</td>\n",
       "      <td>0</td>\n",
       "      <td>0</td>\n",
       "      <td>0</td>\n",
       "      <td>0</td>\n",
       "      <td>0</td>\n",
       "      <td>0</td>\n",
       "      <td>0</td>\n",
       "      <td>0</td>\n",
       "      <td>0</td>\n",
       "      <td>0</td>\n",
       "    </tr>\n",
       "    <tr>\n",
       "      <th>iDvhSyThC</th>\n",
       "      <td>0</td>\n",
       "      <td>0</td>\n",
       "      <td>0</td>\n",
       "      <td>0</td>\n",
       "      <td>0</td>\n",
       "      <td>0</td>\n",
       "      <td>0</td>\n",
       "      <td>0</td>\n",
       "      <td>0</td>\n",
       "      <td>0</td>\n",
       "      <td>...</td>\n",
       "      <td>0</td>\n",
       "      <td>0</td>\n",
       "      <td>0</td>\n",
       "      <td>0</td>\n",
       "      <td>0</td>\n",
       "      <td>0</td>\n",
       "      <td>0</td>\n",
       "      <td>0</td>\n",
       "      <td>0</td>\n",
       "      <td>0</td>\n",
       "    </tr>\n",
       "  </tbody>\n",
       "</table>\n",
       "<p>5 rows × 285 columns</p>\n",
       "</div>"
      ],
      "text/plain": [
       "__index_level_0__  PDK4  CD79B  CD9  CD4  TNFRSF17  CEACAM6  LAG3  ESR1  \\\n",
       "cell                                                                      \n",
       "w6wHcCNCq             0      0    0    0         0        0     0     0   \n",
       "RDvx4MllU             0      0    0    0         0        0     0     0   \n",
       "XLdToFTaV             0      0    0  1.0         0        0     0     0   \n",
       "5kDxZ8TiG             0      0    0    0         0        0     0     0   \n",
       "iDvhSyThC             0      0    0    0         0        0     0     0   \n",
       "\n",
       "__index_level_0__  KRT23  CTSG  ...  Blank-21  Blank-22  Blank-23  Blank-24  \\\n",
       "cell                            ...                                           \n",
       "w6wHcCNCq              0     0  ...         0         0         0         0   \n",
       "RDvx4MllU              0     0  ...         0         0         0         0   \n",
       "XLdToFTaV              0     0  ...         0         0         0         0   \n",
       "5kDxZ8TiG              0     0  ...         0         0         0         0   \n",
       "iDvhSyThC              0     0  ...         0         0         0         0   \n",
       "\n",
       "__index_level_0__  Blank-25  Blank-26  Blank-27  Blank-28  Blank-29  Blank-30  \n",
       "cell                                                                           \n",
       "w6wHcCNCq                 0         0         0         0         0         0  \n",
       "RDvx4MllU                 0         0         0         0         0         0  \n",
       "XLdToFTaV                 0         0         0         0         0         0  \n",
       "5kDxZ8TiG                 0         0         0         0         0         0  \n",
       "iDvhSyThC                 0         0         0         0         0         0  \n",
       "\n",
       "[5 rows x 285 columns]"
      ]
     },
     "metadata": {},
     "output_type": "display_data"
    },
    {
     "name": "stdout",
     "output_type": "stream",
     "text": [
      "Processing gene 0: PDK4\n",
      "Processing gene 100: CD86\n",
      "Processing gene 200: BANK1\n"
     ]
    }
   ],
   "source": [
    "cbg = pd.read_csv(path_cbg)\n",
    "cbg = cbg.set_index('cell')\n",
    "cbg = cbg.rename_axis('__index_level_0__', axis='columns')\n",
    "cbg = cbg.astype(pd.SparseDtype(\"float\", fill_value=0))\n",
    "\n",
    "\n",
    "df_meta = pd.read_parquet(f\"{path_landscape_files_region}/cell_metadata.parquet\")\n",
    "entity_to_cell_id_dict = pd.Series(df_meta.index.values, index=df_meta.EntityID).to_dict()\n",
    "\n",
    "cbg['cell'] = cbg.index.map(entity_to_cell_id_dict)\n",
    "\n",
    "cbg = cbg.set_index('cell')\n",
    "display(cbg.head())\n",
    "\n",
    "dega.pre.save_cbg_gene_parquets(path_landscape_files_region, cbg, verbose=True)"
   ]
  },
  {
   "cell_type": "markdown",
   "id": "744becff-ce8d-4ae6-a24a-3b63bc3fd5cf",
   "metadata": {},
   "source": [
    "## Get Max Zoom\n",
    "Save this to a file in the landscape files, read it on the front-end, and use it in the code. "
   ]
  },
  {
   "cell_type": "code",
   "execution_count": 15,
   "id": "db351b05-adc0-4195-8b54-5fa032bb00e6",
   "metadata": {},
   "outputs": [
    {
     "name": "stdout",
     "output_type": "stream",
     "text": [
      "17\n"
     ]
    }
   ],
   "source": [
    "# Example usage:\n",
    "path_image_pyramid = f\"{path_landscape_files_region}/pyramid_images/dapi_files\"  # Change this to your actual directory path\n",
    "max_pyramid_zoom = dega.pre.get_max_zoom_level(path_image_pyramid)\n",
    "\n",
    "print(max_pyramid_zoom)"
   ]
  },
  {
   "cell_type": "markdown",
   "id": "27927351",
   "metadata": {},
   "source": [
    "## Save Landscape Parameters JSON"
   ]
  },
  {
   "cell_type": "code",
   "execution_count": 16,
   "id": "781cc33b",
   "metadata": {},
   "outputs": [],
   "source": [
    "image_info =  [\n",
    "        {\n",
    "            \"name\": \"dapi\",\n",
    "            \"button_name\": \"DAPI\",\n",
    "            \"color\": [\n",
    "                0,\n",
    "                0,\n",
    "                255\n",
    "            ]\n",
    "        }\n",
    "    ]\n",
    "\n",
    "tile_size = 250"
   ]
  },
  {
   "cell_type": "code",
   "execution_count": 17,
   "id": "2d3d3c3a-8cbb-44a8-9d56-8317bd8dd70f",
   "metadata": {},
   "outputs": [
    {
     "name": "stdout",
     "output_type": "stream",
     "text": [
      "/Users/whuan/dev/ist_benchmarking/data/landscapes/2024_merscope_breast_htma/region_0/pyramid_images/dapi_files\n"
     ]
    }
   ],
   "source": [
    "dega.pre.save_landscape_parameters(\n",
    "    technology, \n",
    "    path_landscape_files_region,\n",
    "    'dapi_files',\n",
    "    tile_size=tile_size,\n",
    "    image_info=image_info,\n",
    "    image_format='.webp'\n",
    ")"
   ]
  },
  {
   "cell_type": "code",
   "execution_count": 16,
   "id": "9c963e92-9e79-4dff-8349-2b357297f270",
   "metadata": {},
   "outputs": [
    {
     "name": "stdout",
     "output_type": "stream",
     "text": [
      "gsutil -m cp -r /Users/whuan/dev/ist_benchmarking/data/landscapes/2024_merscope_breast_htma gs://fc-secure-cbb15268-8969-436a-818b-ae40f52e3b41/ist_data/landscape_files/\n"
     ]
    }
   ],
   "source": [
    "des_bucket_name = \"fc-secure-cbb15268-8969-436a-818b-ae40f52e3b41/ist_data/landscape_files/\"\n",
    "cmd = f\"gsutil -m cp -r {path_landscape_files} gs://{des_bucket_name}\"\n",
    "print (cmd)"
   ]
  }
 ],
 "metadata": {
  "kernelspec": {
   "display_name": "celldega_env",
   "language": "python",
   "name": "python3"
  },
  "language_info": {
   "codemirror_mode": {
    "name": "ipython",
    "version": 3
   },
   "file_extension": ".py",
   "mimetype": "text/x-python",
   "name": "python",
   "nbconvert_exporter": "python",
   "pygments_lexer": "ipython3",
   "version": "3.9.20"
  },
  "toc": {
   "base_numbering": 1,
   "nav_menu": {},
   "number_sections": true,
   "sideBar": true,
   "skip_h1_title": false,
   "title_cell": "Table of Contents",
   "title_sidebar": "Contents",
   "toc_cell": false,
   "toc_position": {},
   "toc_section_display": true,
   "toc_window_display": false
  },
  "widgets": {
   "application/vnd.jupyter.widget-state+json": {
    "state": {},
    "version_major": 2,
    "version_minor": 0
   }
  }
 },
 "nbformat": 4,
 "nbformat_minor": 5
}
