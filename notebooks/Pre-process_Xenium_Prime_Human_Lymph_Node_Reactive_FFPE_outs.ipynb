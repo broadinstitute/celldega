{
 "cells": [
  {
   "cell_type": "markdown",
   "id": "60120245-91a9-4f50-88ef-356faf4687c3",
   "metadata": {},
   "source": [
    "# Pre-process_Xenium_Prime_Human_Lymph_Node_Reactive_FFPE_outs"
   ]
  },
  {
   "cell_type": "code",
   "execution_count": 1,
   "id": "8aedda0a-f8a2-46cf-a5b5-371b444c917f",
   "metadata": {},
   "outputs": [
    {
     "name": "stdout",
     "output_type": "stream",
     "text": [
      "env: ANYWIDGET_HMR=1\n"
     ]
    }
   ],
   "source": [
    "%load_ext autoreload\n",
    "%autoreload 2\n",
    "%env ANYWIDGET_HMR=1"
   ]
  },
  {
   "cell_type": "code",
   "execution_count": 2,
   "id": "d220d081-49d8-44e5-a7af-7d0d08fe27af",
   "metadata": {},
   "outputs": [],
   "source": [
    "import numpy as np\n",
    "import pandas as pd\n",
    "import celldega as dega\n",
    "import tifffile\n",
    "import zarr\n",
    "import matplotlib.pyplot as plt\n",
    "from matplotlib.colors import to_hex\n",
    "import geopandas as gpd\n",
    "import shapely\n",
    "import tarfile\n",
    "\n",
    "# macOS requirement\n",
    "import os\n",
    "os.environ['DYLD_LIBRARY_PATH'] = '/opt/homebrew/lib:' + os.environ.get('DYLD_LIBRARY_PATH', '')"
   ]
  },
  {
   "cell_type": "code",
   "execution_count": null,
   "id": "4c0b5695-ee4b-4b2b-b620-dfb1780d5d0e",
   "metadata": {},
   "outputs": [],
   "source": [
    "# pass values to the following variables\n",
    "\n",
    "dataset_name = 'Xenium_Prime_Human_Lymph_Node_Reactive_FFPE_outs'\n",
    "base_path = 'data/xenium_data/' + dataset_name + '/'\n",
    "path_landscape_files = 'data/xenium_landscapes/' + dataset_name + '_landscape_files/'\n",
    "\n",
    "# zipped files are not always present in xenium\n",
    "# input variable of celldega version\n",
    "\n",
    "tile_size = 250\n",
    "image_scale = 0.5\n",
    "technology = 'Xenium'\n",
    "\n",
    "suffix = '.webp[Q=100]'\n",
    "\n",
    "if not os.path.exists(path_landscape_files):\n",
    "    os.mkdir(path_landscape_files)\n",
    "\n",
    "if not os.path.exists(path_landscape_files + 'cell_clusters/'):\n",
    "    os.mkdir(path_landscape_files + 'cell_clusters/')"
   ]
  },
  {
   "cell_type": "code",
   "execution_count": 20,
   "id": "d59a0077-444c-49f4-ab3a-fadca0cd6e61",
   "metadata": {},
   "outputs": [],
   "source": []
  },
  {
   "cell_type": "markdown",
   "id": "a1f032ab-8cb3-4046-9768-eda31cfbd46b",
   "metadata": {},
   "source": [
    "## Unzip Xenium Data"
   ]
  },
  {
   "cell_type": "markdown",
   "id": "711efec8-3ffc-4df8-8e83-6d374b10e79d",
   "metadata": {},
   "source": [
    "#### Decompress Cell Feature Matrix MTX Files"
   ]
  },
  {
   "cell_type": "code",
   "execution_count": 11,
   "id": "1584517b-d2a7-4713-976b-fd0fc6b0d370",
   "metadata": {},
   "outputs": [
    {
     "name": "stdout",
     "output_type": "stream",
     "text": [
      "File ../data/xenium_data/Xenium_Prime_Human_Lymph_Node_Reactive_FFPE_outs/cell_feature_matrix.tar.gz has been decompressed to ../data/xenium_landscapes/Xenium_Prime_Human_Lymph_Node_Reactive_FFPE_outs_landscape_files/\n"
     ]
    }
   ],
   "source": [
    "# Path to the tar.gz file you want to decompress\n",
    "tar_file_path = base_path + 'cell_feature_matrix.tar.gz'\n",
    "\n",
    "# Open the tar.gz file\n",
    "with tarfile.open(tar_file_path, \"r:gz\") as tar:\n",
    "    # Extract all contents to the specified directory\n",
    "    tar.extractall(path=path_landscape_files)\n",
    "\n",
    "print(f\"File {tar_file_path} has been decompressed to {path_landscape_files}\")"
   ]
  },
  {
   "cell_type": "markdown",
   "id": "f1ab29ee-5168-4688-8644-cf8b9f5bf389",
   "metadata": {},
   "source": [
    "#### Decompress Xenium Analysis Files"
   ]
  },
  {
   "cell_type": "code",
   "execution_count": 12,
   "id": "f9c789fc-9c35-42e8-91f2-e30f16076015",
   "metadata": {},
   "outputs": [
    {
     "name": "stdout",
     "output_type": "stream",
     "text": [
      "File ../data/xenium_data/Xenium_Prime_Human_Lymph_Node_Reactive_FFPE_outs/analysis.tar.gz has been decompressed to ../data/xenium_landscapes/Xenium_Prime_Human_Lymph_Node_Reactive_FFPE_outs_landscape_files/\n"
     ]
    }
   ],
   "source": [
    "# Path to the tar.gz file you want to decompress\n",
    "tar_file_path = base_path + 'analysis.tar.gz'\n",
    "\n",
    "# Open the tar.gz file\n",
    "with tarfile.open(tar_file_path, \"r:gz\") as tar:\n",
    "    # Extract all contents to the specified directory\n",
    "    tar.extractall(path=path_landscape_files)\n",
    "\n",
    "print(f\"File {tar_file_path} has been decompressed to {path_landscape_files}\")"
   ]
  },
  {
   "cell_type": "markdown",
   "id": "fd672cd6-5d92-4dd8-8473-840e6e9538bd",
   "metadata": {},
   "source": [
    "# CBG"
   ]
  },
  {
   "cell_type": "code",
   "execution_count": 13,
   "id": "42a5bc73-6bbc-4bfe-8dba-6a905695d561",
   "metadata": {},
   "outputs": [
    {
     "name": "stdout",
     "output_type": "stream",
     "text": [
      "read mtx file from  ../data/xenium_landscapes/Xenium_Prime_Human_Lymph_Node_Reactive_FFPE_outs_landscape_files/cell_feature_matrix/\n"
     ]
    },
    {
     "data": {
      "text/html": [
       "<div>\n",
       "<style scoped>\n",
       "    .dataframe tbody tr th:only-of-type {\n",
       "        vertical-align: middle;\n",
       "    }\n",
       "\n",
       "    .dataframe tbody tr th {\n",
       "        vertical-align: top;\n",
       "    }\n",
       "\n",
       "    .dataframe thead th {\n",
       "        text-align: right;\n",
       "    }\n",
       "</style>\n",
       "<table border=\"1\" class=\"dataframe\">\n",
       "  <thead>\n",
       "    <tr style=\"text-align: right;\">\n",
       "      <th>1</th>\n",
       "      <th>A2ML1</th>\n",
       "      <th>AAMP</th>\n",
       "      <th>AAR2</th>\n",
       "      <th>AARSD1</th>\n",
       "      <th>ABAT</th>\n",
       "      <th>ABCA1</th>\n",
       "      <th>ABCA3</th>\n",
       "      <th>ABCA4</th>\n",
       "      <th>ABCB1</th>\n",
       "      <th>ABCB4</th>\n",
       "      <th>...</th>\n",
       "      <th>DeprecatedCodeword_18589</th>\n",
       "      <th>DeprecatedCodeword_18601</th>\n",
       "      <th>DeprecatedCodeword_18609</th>\n",
       "      <th>DeprecatedCodeword_18616</th>\n",
       "      <th>DeprecatedCodeword_18620</th>\n",
       "      <th>DeprecatedCodeword_18632</th>\n",
       "      <th>DeprecatedCodeword_18637</th>\n",
       "      <th>DeprecatedCodeword_18639</th>\n",
       "      <th>DeprecatedCodeword_18646</th>\n",
       "      <th>DeprecatedCodeword_18649</th>\n",
       "    </tr>\n",
       "    <tr>\n",
       "      <th>0</th>\n",
       "      <th></th>\n",
       "      <th></th>\n",
       "      <th></th>\n",
       "      <th></th>\n",
       "      <th></th>\n",
       "      <th></th>\n",
       "      <th></th>\n",
       "      <th></th>\n",
       "      <th></th>\n",
       "      <th></th>\n",
       "      <th></th>\n",
       "      <th></th>\n",
       "      <th></th>\n",
       "      <th></th>\n",
       "      <th></th>\n",
       "      <th></th>\n",
       "      <th></th>\n",
       "      <th></th>\n",
       "      <th></th>\n",
       "      <th></th>\n",
       "      <th></th>\n",
       "    </tr>\n",
       "  </thead>\n",
       "  <tbody>\n",
       "    <tr>\n",
       "      <th>aaaaadoa-1</th>\n",
       "      <td>0</td>\n",
       "      <td>0</td>\n",
       "      <td>0</td>\n",
       "      <td>0</td>\n",
       "      <td>0</td>\n",
       "      <td>1</td>\n",
       "      <td>0</td>\n",
       "      <td>0</td>\n",
       "      <td>0</td>\n",
       "      <td>0</td>\n",
       "      <td>...</td>\n",
       "      <td>0</td>\n",
       "      <td>0</td>\n",
       "      <td>0</td>\n",
       "      <td>0</td>\n",
       "      <td>0</td>\n",
       "      <td>0</td>\n",
       "      <td>0</td>\n",
       "      <td>0</td>\n",
       "      <td>0</td>\n",
       "      <td>0</td>\n",
       "    </tr>\n",
       "    <tr>\n",
       "      <th>aaaaclhf-1</th>\n",
       "      <td>0</td>\n",
       "      <td>0</td>\n",
       "      <td>0</td>\n",
       "      <td>0</td>\n",
       "      <td>0</td>\n",
       "      <td>0</td>\n",
       "      <td>0</td>\n",
       "      <td>0</td>\n",
       "      <td>0</td>\n",
       "      <td>0</td>\n",
       "      <td>...</td>\n",
       "      <td>0</td>\n",
       "      <td>0</td>\n",
       "      <td>0</td>\n",
       "      <td>0</td>\n",
       "      <td>0</td>\n",
       "      <td>0</td>\n",
       "      <td>0</td>\n",
       "      <td>0</td>\n",
       "      <td>0</td>\n",
       "      <td>0</td>\n",
       "    </tr>\n",
       "    <tr>\n",
       "      <th>aaaafcfj-1</th>\n",
       "      <td>0</td>\n",
       "      <td>0</td>\n",
       "      <td>0</td>\n",
       "      <td>0</td>\n",
       "      <td>0</td>\n",
       "      <td>0</td>\n",
       "      <td>0</td>\n",
       "      <td>0</td>\n",
       "      <td>0</td>\n",
       "      <td>0</td>\n",
       "      <td>...</td>\n",
       "      <td>0</td>\n",
       "      <td>0</td>\n",
       "      <td>0</td>\n",
       "      <td>0</td>\n",
       "      <td>0</td>\n",
       "      <td>0</td>\n",
       "      <td>0</td>\n",
       "      <td>0</td>\n",
       "      <td>0</td>\n",
       "      <td>0</td>\n",
       "    </tr>\n",
       "    <tr>\n",
       "      <th>aaaagamp-1</th>\n",
       "      <td>0</td>\n",
       "      <td>0</td>\n",
       "      <td>0</td>\n",
       "      <td>0</td>\n",
       "      <td>0</td>\n",
       "      <td>0</td>\n",
       "      <td>0</td>\n",
       "      <td>0</td>\n",
       "      <td>0</td>\n",
       "      <td>0</td>\n",
       "      <td>...</td>\n",
       "      <td>0</td>\n",
       "      <td>0</td>\n",
       "      <td>0</td>\n",
       "      <td>0</td>\n",
       "      <td>0</td>\n",
       "      <td>0</td>\n",
       "      <td>0</td>\n",
       "      <td>0</td>\n",
       "      <td>0</td>\n",
       "      <td>0</td>\n",
       "    </tr>\n",
       "    <tr>\n",
       "      <th>aaaaiako-1</th>\n",
       "      <td>0</td>\n",
       "      <td>0</td>\n",
       "      <td>0</td>\n",
       "      <td>0</td>\n",
       "      <td>0</td>\n",
       "      <td>0</td>\n",
       "      <td>0</td>\n",
       "      <td>0</td>\n",
       "      <td>0</td>\n",
       "      <td>0</td>\n",
       "      <td>...</td>\n",
       "      <td>0</td>\n",
       "      <td>0</td>\n",
       "      <td>0</td>\n",
       "      <td>0</td>\n",
       "      <td>0</td>\n",
       "      <td>0</td>\n",
       "      <td>0</td>\n",
       "      <td>0</td>\n",
       "      <td>0</td>\n",
       "      <td>0</td>\n",
       "    </tr>\n",
       "    <tr>\n",
       "      <th>...</th>\n",
       "      <td>...</td>\n",
       "      <td>...</td>\n",
       "      <td>...</td>\n",
       "      <td>...</td>\n",
       "      <td>...</td>\n",
       "      <td>...</td>\n",
       "      <td>...</td>\n",
       "      <td>...</td>\n",
       "      <td>...</td>\n",
       "      <td>...</td>\n",
       "      <td>...</td>\n",
       "      <td>...</td>\n",
       "      <td>...</td>\n",
       "      <td>...</td>\n",
       "      <td>...</td>\n",
       "      <td>...</td>\n",
       "      <td>...</td>\n",
       "      <td>...</td>\n",
       "      <td>...</td>\n",
       "      <td>...</td>\n",
       "      <td>...</td>\n",
       "    </tr>\n",
       "    <tr>\n",
       "      <th>oikoinno-1</th>\n",
       "      <td>0</td>\n",
       "      <td>0</td>\n",
       "      <td>0</td>\n",
       "      <td>0</td>\n",
       "      <td>0</td>\n",
       "      <td>0</td>\n",
       "      <td>0</td>\n",
       "      <td>0</td>\n",
       "      <td>0</td>\n",
       "      <td>0</td>\n",
       "      <td>...</td>\n",
       "      <td>0</td>\n",
       "      <td>0</td>\n",
       "      <td>0</td>\n",
       "      <td>0</td>\n",
       "      <td>0</td>\n",
       "      <td>0</td>\n",
       "      <td>0</td>\n",
       "      <td>0</td>\n",
       "      <td>0</td>\n",
       "      <td>0</td>\n",
       "    </tr>\n",
       "    <tr>\n",
       "      <th>oikojopg-1</th>\n",
       "      <td>0</td>\n",
       "      <td>0</td>\n",
       "      <td>0</td>\n",
       "      <td>0</td>\n",
       "      <td>0</td>\n",
       "      <td>1</td>\n",
       "      <td>0</td>\n",
       "      <td>0</td>\n",
       "      <td>0</td>\n",
       "      <td>0</td>\n",
       "      <td>...</td>\n",
       "      <td>0</td>\n",
       "      <td>0</td>\n",
       "      <td>0</td>\n",
       "      <td>0</td>\n",
       "      <td>0</td>\n",
       "      <td>0</td>\n",
       "      <td>0</td>\n",
       "      <td>0</td>\n",
       "      <td>0</td>\n",
       "      <td>0</td>\n",
       "    </tr>\n",
       "    <tr>\n",
       "      <th>oikokaeg-1</th>\n",
       "      <td>0</td>\n",
       "      <td>0</td>\n",
       "      <td>0</td>\n",
       "      <td>0</td>\n",
       "      <td>0</td>\n",
       "      <td>0</td>\n",
       "      <td>0</td>\n",
       "      <td>0</td>\n",
       "      <td>0</td>\n",
       "      <td>0</td>\n",
       "      <td>...</td>\n",
       "      <td>0</td>\n",
       "      <td>0</td>\n",
       "      <td>0</td>\n",
       "      <td>0</td>\n",
       "      <td>0</td>\n",
       "      <td>0</td>\n",
       "      <td>0</td>\n",
       "      <td>0</td>\n",
       "      <td>0</td>\n",
       "      <td>0</td>\n",
       "    </tr>\n",
       "    <tr>\n",
       "      <th>oikooakd-1</th>\n",
       "      <td>0</td>\n",
       "      <td>0</td>\n",
       "      <td>0</td>\n",
       "      <td>0</td>\n",
       "      <td>0</td>\n",
       "      <td>0</td>\n",
       "      <td>0</td>\n",
       "      <td>0</td>\n",
       "      <td>0</td>\n",
       "      <td>0</td>\n",
       "      <td>...</td>\n",
       "      <td>0</td>\n",
       "      <td>0</td>\n",
       "      <td>0</td>\n",
       "      <td>0</td>\n",
       "      <td>0</td>\n",
       "      <td>0</td>\n",
       "      <td>0</td>\n",
       "      <td>0</td>\n",
       "      <td>0</td>\n",
       "      <td>0</td>\n",
       "    </tr>\n",
       "    <tr>\n",
       "      <th>oikoolfj-1</th>\n",
       "      <td>0</td>\n",
       "      <td>0</td>\n",
       "      <td>0</td>\n",
       "      <td>0</td>\n",
       "      <td>0</td>\n",
       "      <td>0</td>\n",
       "      <td>0</td>\n",
       "      <td>0</td>\n",
       "      <td>0</td>\n",
       "      <td>0</td>\n",
       "      <td>...</td>\n",
       "      <td>0</td>\n",
       "      <td>0</td>\n",
       "      <td>0</td>\n",
       "      <td>0</td>\n",
       "      <td>0</td>\n",
       "      <td>0</td>\n",
       "      <td>0</td>\n",
       "      <td>0</td>\n",
       "      <td>0</td>\n",
       "      <td>0</td>\n",
       "    </tr>\n",
       "  </tbody>\n",
       "</table>\n",
       "<p>708983 rows × 11094 columns</p>\n",
       "</div>"
      ],
      "text/plain": [
       "1           A2ML1  AAMP  AAR2  AARSD1  ABAT  ABCA1  ABCA3  ABCA4  ABCB1  \\\n",
       "0                                                                         \n",
       "aaaaadoa-1      0     0     0       0     0      1      0      0      0   \n",
       "aaaaclhf-1      0     0     0       0     0      0      0      0      0   \n",
       "aaaafcfj-1      0     0     0       0     0      0      0      0      0   \n",
       "aaaagamp-1      0     0     0       0     0      0      0      0      0   \n",
       "aaaaiako-1      0     0     0       0     0      0      0      0      0   \n",
       "...           ...   ...   ...     ...   ...    ...    ...    ...    ...   \n",
       "oikoinno-1      0     0     0       0     0      0      0      0      0   \n",
       "oikojopg-1      0     0     0       0     0      1      0      0      0   \n",
       "oikokaeg-1      0     0     0       0     0      0      0      0      0   \n",
       "oikooakd-1      0     0     0       0     0      0      0      0      0   \n",
       "oikoolfj-1      0     0     0       0     0      0      0      0      0   \n",
       "\n",
       "1           ABCB4  ...  DeprecatedCodeword_18589  DeprecatedCodeword_18601  \\\n",
       "0                  ...                                                       \n",
       "aaaaadoa-1      0  ...                         0                         0   \n",
       "aaaaclhf-1      0  ...                         0                         0   \n",
       "aaaafcfj-1      0  ...                         0                         0   \n",
       "aaaagamp-1      0  ...                         0                         0   \n",
       "aaaaiako-1      0  ...                         0                         0   \n",
       "...           ...  ...                       ...                       ...   \n",
       "oikoinno-1      0  ...                         0                         0   \n",
       "oikojopg-1      0  ...                         0                         0   \n",
       "oikokaeg-1      0  ...                         0                         0   \n",
       "oikooakd-1      0  ...                         0                         0   \n",
       "oikoolfj-1      0  ...                         0                         0   \n",
       "\n",
       "1           DeprecatedCodeword_18609  DeprecatedCodeword_18616  \\\n",
       "0                                                                \n",
       "aaaaadoa-1                         0                         0   \n",
       "aaaaclhf-1                         0                         0   \n",
       "aaaafcfj-1                         0                         0   \n",
       "aaaagamp-1                         0                         0   \n",
       "aaaaiako-1                         0                         0   \n",
       "...                              ...                       ...   \n",
       "oikoinno-1                         0                         0   \n",
       "oikojopg-1                         0                         0   \n",
       "oikokaeg-1                         0                         0   \n",
       "oikooakd-1                         0                         0   \n",
       "oikoolfj-1                         0                         0   \n",
       "\n",
       "1           DeprecatedCodeword_18620  DeprecatedCodeword_18632  \\\n",
       "0                                                                \n",
       "aaaaadoa-1                         0                         0   \n",
       "aaaaclhf-1                         0                         0   \n",
       "aaaafcfj-1                         0                         0   \n",
       "aaaagamp-1                         0                         0   \n",
       "aaaaiako-1                         0                         0   \n",
       "...                              ...                       ...   \n",
       "oikoinno-1                         0                         0   \n",
       "oikojopg-1                         0                         0   \n",
       "oikokaeg-1                         0                         0   \n",
       "oikooakd-1                         0                         0   \n",
       "oikoolfj-1                         0                         0   \n",
       "\n",
       "1           DeprecatedCodeword_18637  DeprecatedCodeword_18639  \\\n",
       "0                                                                \n",
       "aaaaadoa-1                         0                         0   \n",
       "aaaaclhf-1                         0                         0   \n",
       "aaaafcfj-1                         0                         0   \n",
       "aaaagamp-1                         0                         0   \n",
       "aaaaiako-1                         0                         0   \n",
       "...                              ...                       ...   \n",
       "oikoinno-1                         0                         0   \n",
       "oikojopg-1                         0                         0   \n",
       "oikokaeg-1                         0                         0   \n",
       "oikooakd-1                         0                         0   \n",
       "oikoolfj-1                         0                         0   \n",
       "\n",
       "1           DeprecatedCodeword_18646  DeprecatedCodeword_18649  \n",
       "0                                                               \n",
       "aaaaadoa-1                         0                         0  \n",
       "aaaaclhf-1                         0                         0  \n",
       "aaaafcfj-1                         0                         0  \n",
       "aaaagamp-1                         0                         0  \n",
       "aaaaiako-1                         0                         0  \n",
       "...                              ...                       ...  \n",
       "oikoinno-1                         0                         0  \n",
       "oikojopg-1                         0                         0  \n",
       "oikokaeg-1                         0                         0  \n",
       "oikooakd-1                         0                         0  \n",
       "oikoolfj-1                         0                         0  \n",
       "\n",
       "[708983 rows x 11094 columns]"
      ]
     },
     "execution_count": 13,
     "metadata": {},
     "output_type": "execute_result"
    }
   ],
   "source": [
    "cbg = dega.pre.read_cbg_mtx(path_landscape_files + 'cell_feature_matrix/')"
   ]
  },
  {
   "cell_type": "code",
   "execution_count": 14,
   "id": "98afda8e-27d5-40d1-9d04-3cb94f31f0a1",
   "metadata": {},
   "outputs": [
    {
     "name": "stdout",
     "output_type": "stream",
     "text": [
      "calculating mean expression from sparse float data\n",
      "calculating variance by looping over rows\n"
     ]
    }
   ],
   "source": [
    "meta_gene_exp = dega.pre.calc_meta_gene_data(cbg)"
   ]
  },
  {
   "cell_type": "markdown",
   "id": "02e389f7-4b45-4b9c-a671-0a0a8d095f0e",
   "metadata": {},
   "source": [
    "### Gene Metadata"
   ]
  },
  {
   "cell_type": "code",
   "execution_count": 15,
   "id": "ba4177f0-cde5-44fa-acf9-70a492d58771",
   "metadata": {},
   "outputs": [
    {
     "name": "stdout",
     "output_type": "stream",
     "text": [
      "read mtx file from  ../data/xenium_landscapes/Xenium_Prime_Human_Lymph_Node_Reactive_FFPE_outs_landscape_files/cell_feature_matrix/\n",
      "calculating mean expression from sparse float data\n",
      "calculating variance by looping over rows\n"
     ]
    }
   ],
   "source": [
    "path_cbg = path_landscape_files + 'cell_feature_matrix/'\n",
    "path_output = path_landscape_files + 'meta_gene.parquet'\n",
    "dega.pre.make_meta_gene(technology, path_cbg, path_output)"
   ]
  },
  {
   "cell_type": "markdown",
   "id": "fdd13ecc-dbc9-4fca-8e45-4318e6831784",
   "metadata": {},
   "source": [
    "### Cell-by-gene Files"
   ]
  },
  {
   "cell_type": "code",
   "execution_count": 17,
   "id": "804d645f-6bf4-4ef3-9972-6d9b9df56afe",
   "metadata": {},
   "outputs": [],
   "source": [
    "dega.pre.save_cbg_gene_parquets(path_landscape_files, cbg, verbose=True)"
   ]
  },
  {
   "cell_type": "markdown",
   "id": "95f1c52d-8ac3-4d97-88a7-4752fee554fb",
   "metadata": {},
   "source": [
    "### Image Tiles"
   ]
  },
  {
   "cell_type": "code",
   "execution_count": null,
   "id": "6bc3160b-8c6a-424e-8db6-fb755b0a60c7",
   "metadata": {},
   "outputs": [],
   "source": [
    "# Path to your OME-TIFF file\n",
    "file_path = base_path + 'morphology_focus/morphology_focus_0000.ome.tif'\n",
    "\n",
    "# Open the OME-TIFF file and read the image data\n",
    "with tifffile.TiffFile(file_path) as tif:\n",
    "    series = tif.series[0]  # Assuming you are interested in the first series\n",
    "    image_data = series.asarray()"
   ]
  },
  {
   "cell_type": "code",
   "execution_count": null,
   "id": "76297112-ef6d-4993-ae28-83d40aace55f",
   "metadata": {},
   "outputs": [],
   "source": []
  },
  {
   "cell_type": "markdown",
   "id": "582a5f05-5ee3-4c0d-b20d-96367ff1300e",
   "metadata": {},
   "source": [
    "### DAPI"
   ]
  },
  {
   "cell_type": "code",
   "execution_count": 34,
   "id": "f7bcc568-a283-4a90-96a5-0999cc1bd754",
   "metadata": {},
   "outputs": [],
   "source": [
    "for channel_index, channel_name in zip(range(image_data.shape[0]), ['dapi','bound','rna','prot']):\n",
    "\n",
    "    image_data_scaled = image_data[channel_index,:,:] * 2\n",
    "    \n",
    "    # Save the image data to a regular TIFF file without compression\n",
    "    tifffile.imwrite(path_landscape_files + 'output_regular.tif', image_data_scaled, compression=None)\n",
    "    image_ds = dega.pre.reduce_image_size(path_landscape_files + 'output_regular.tif', image_scale, path_landscape_files)\n",
    "    image_png = dega.pre.convert_to_png(image_ds)\n",
    "    dega.pre.make_deepzoom_pyramid(image_png, path_landscape_files + 'pyramid_images/', channel_name, suffix=suffix)"
   ]
  },
  {
   "cell_type": "markdown",
   "id": "76719566-51da-48da-92e8-1edd6ef0bba3",
   "metadata": {},
   "source": [
    "### Cell Metadata"
   ]
  },
  {
   "cell_type": "code",
   "execution_count": 26,
   "id": "eaa2a440-accc-4538-acb7-6963d173c71e",
   "metadata": {},
   "outputs": [],
   "source": [
    "# Function to open a Zarr file\n",
    "def open_zarr(path: str) -> zarr.Group:\n",
    "    store = (zarr.ZipStore(path, mode=\"r\")\n",
    "    if path.endswith(\".zip\")\n",
    "    else zarr.DirectoryStore(path)\n",
    "    )\n",
    "    return zarr.group(store=store)\n",
    "\n",
    "# For example, use the above function to open the cells Zarr file, which contains segmentation mask Zarr arrays\n",
    "root = open_zarr(base_path + \"cells.zarr.zip\")\n",
    "transformation_matrix = root['masks']['homogeneous_transform'][:]"
   ]
  },
  {
   "cell_type": "code",
   "execution_count": 28,
   "id": "3805253f-43ac-4c45-9dcb-c2ed3e530cdb",
   "metadata": {},
   "outputs": [],
   "source": [
    "pd.DataFrame(transformation_matrix[:3,:3]).to_csv(\n",
    "    path_landscape_files + 'xenium_transform.csv', \n",
    "    sep=' ', \n",
    "    header=False, \n",
    "    index=False\n",
    ")"
   ]
  },
  {
   "cell_type": "code",
   "execution_count": 11,
   "id": "e60bfec5-bb5e-467b-a39f-d9c41f228f37",
   "metadata": {},
   "outputs": [],
   "source": [
    "path_transformation_matrix = path_landscape_files + 'xenium_transform.csv'\n",
    "path_meta_cell_micron = base_path + 'cells.csv.gz'\n",
    "path_meta_cell_image = path_landscape_files + 'cell_metadata.parquet'"
   ]
  },
  {
   "cell_type": "code",
   "execution_count": 12,
   "id": "5d3083c9-8c55-4747-9686-b389decc8917",
   "metadata": {},
   "outputs": [
    {
     "data": {
      "text/html": [
       "<div>\n",
       "<style scoped>\n",
       "    .dataframe tbody tr th:only-of-type {\n",
       "        vertical-align: middle;\n",
       "    }\n",
       "\n",
       "    .dataframe tbody tr th {\n",
       "        vertical-align: top;\n",
       "    }\n",
       "\n",
       "    .dataframe thead th {\n",
       "        text-align: right;\n",
       "    }\n",
       "</style>\n",
       "<table border=\"1\" class=\"dataframe\">\n",
       "  <thead>\n",
       "    <tr style=\"text-align: right;\">\n",
       "      <th></th>\n",
       "      <th>Cluster</th>\n",
       "    </tr>\n",
       "    <tr>\n",
       "      <th>Barcode</th>\n",
       "      <th></th>\n",
       "    </tr>\n",
       "  </thead>\n",
       "  <tbody>\n",
       "    <tr>\n",
       "      <th>aaaaadoa-1</th>\n",
       "      <td>19</td>\n",
       "    </tr>\n",
       "    <tr>\n",
       "      <th>aaaaclhf-1</th>\n",
       "      <td>6</td>\n",
       "    </tr>\n",
       "    <tr>\n",
       "      <th>aaaafcfj-1</th>\n",
       "      <td>2</td>\n",
       "    </tr>\n",
       "    <tr>\n",
       "      <th>aaaagamp-1</th>\n",
       "      <td>19</td>\n",
       "    </tr>\n",
       "    <tr>\n",
       "      <th>aaaaiako-1</th>\n",
       "      <td>10</td>\n",
       "    </tr>\n",
       "    <tr>\n",
       "      <th>...</th>\n",
       "      <td>...</td>\n",
       "    </tr>\n",
       "    <tr>\n",
       "      <th>oikoinno-1</th>\n",
       "      <td>7</td>\n",
       "    </tr>\n",
       "    <tr>\n",
       "      <th>oikojopg-1</th>\n",
       "      <td>3</td>\n",
       "    </tr>\n",
       "    <tr>\n",
       "      <th>oikokaeg-1</th>\n",
       "      <td>13</td>\n",
       "    </tr>\n",
       "    <tr>\n",
       "      <th>oikooakd-1</th>\n",
       "      <td>15</td>\n",
       "    </tr>\n",
       "    <tr>\n",
       "      <th>oikoolfj-1</th>\n",
       "      <td>3</td>\n",
       "    </tr>\n",
       "  </tbody>\n",
       "</table>\n",
       "<p>708647 rows × 1 columns</p>\n",
       "</div>"
      ],
      "text/plain": [
       "            Cluster\n",
       "Barcode            \n",
       "aaaaadoa-1       19\n",
       "aaaaclhf-1        6\n",
       "aaaafcfj-1        2\n",
       "aaaagamp-1       19\n",
       "aaaaiako-1       10\n",
       "...             ...\n",
       "oikoinno-1        7\n",
       "oikojopg-1        3\n",
       "oikokaeg-1       13\n",
       "oikooakd-1       15\n",
       "oikoolfj-1        3\n",
       "\n",
       "[708647 rows x 1 columns]"
      ]
     },
     "execution_count": 12,
     "metadata": {},
     "output_type": "execute_result"
    }
   ],
   "source": [
    "default_clustering = pd.read_csv(path_landscape_files + 'analysis/clustering/gene_expression_graphclust/clusters.csv', index_col=0)"
   ]
  },
  {
   "cell_type": "markdown",
   "id": "6378ca2b-e007-42a2-b7b5-240c59053b54",
   "metadata": {},
   "source": [
    "### Save default clustering results"
   ]
  },
  {
   "cell_type": "code",
   "execution_count": 29,
   "id": "648700ca-f835-4236-bef4-b7bf26ab89d8",
   "metadata": {},
   "outputs": [
    {
     "data": {
      "text/html": [
       "<div>\n",
       "<style scoped>\n",
       "    .dataframe tbody tr th:only-of-type {\n",
       "        vertical-align: middle;\n",
       "    }\n",
       "\n",
       "    .dataframe tbody tr th {\n",
       "        vertical-align: top;\n",
       "    }\n",
       "\n",
       "    .dataframe thead th {\n",
       "        text-align: right;\n",
       "    }\n",
       "</style>\n",
       "<table border=\"1\" class=\"dataframe\">\n",
       "  <thead>\n",
       "    <tr style=\"text-align: right;\">\n",
       "      <th></th>\n",
       "      <th>cluster</th>\n",
       "    </tr>\n",
       "  </thead>\n",
       "  <tbody>\n",
       "    <tr>\n",
       "      <th>aaaaadoa-1</th>\n",
       "      <td>19</td>\n",
       "    </tr>\n",
       "    <tr>\n",
       "      <th>aaaaclhf-1</th>\n",
       "      <td>6</td>\n",
       "    </tr>\n",
       "    <tr>\n",
       "      <th>aaaafcfj-1</th>\n",
       "      <td>2</td>\n",
       "    </tr>\n",
       "    <tr>\n",
       "      <th>aaaagamp-1</th>\n",
       "      <td>19</td>\n",
       "    </tr>\n",
       "    <tr>\n",
       "      <th>aaaaiako-1</th>\n",
       "      <td>10</td>\n",
       "    </tr>\n",
       "  </tbody>\n",
       "</table>\n",
       "</div>"
      ],
      "text/plain": [
       "           cluster\n",
       "aaaaadoa-1      19\n",
       "aaaaclhf-1       6\n",
       "aaaafcfj-1       2\n",
       "aaaagamp-1      19\n",
       "aaaaiako-1      10"
      ]
     },
     "execution_count": 29,
     "metadata": {},
     "output_type": "execute_result"
    }
   ],
   "source": [
    "default_clustering_ini = pd.DataFrame(default_clustering.values, index=default_clustering.index.tolist(), columns=['cluster'])\n",
    "default_clustering_ini['cluster'] = default_clustering_ini['cluster'].astype('string')\n",
    "default_clustering = pd.DataFrame(index=meta_cell.index.tolist())\n",
    "default_clustering.loc[default_clustering_ini.index.tolist(), 'cluster'] = default_clustering_ini['cluster']\n",
    "default_clustering.to_parquet(path_landscape_files + 'cell_clusters/cluster.parquet')\n",
    "\n",
    "ser_counts = default_clustering['cluster'].value_counts()\n",
    "clusters = ser_counts.index.tolist()"
   ]
  },
  {
   "cell_type": "markdown",
   "id": "22034f21-d694-4c46-8a0b-961c2d911d90",
   "metadata": {},
   "source": [
    "### Save cell metadata"
   ]
  },
  {
   "cell_type": "code",
   "execution_count": 17,
   "id": "6cb911a3-2620-4c8f-b37b-967016a06c0b",
   "metadata": {},
   "outputs": [],
   "source": [
    "# do not including clustering information in default cell metadata\n",
    "dega.pre.make_meta_cell_image_coord(\n",
    "    technology, \n",
    "    path_transformation_matrix, \n",
    "    path_meta_cell_micron, \n",
    "    path_meta_cell_image, \n",
    ")"
   ]
  },
  {
   "cell_type": "markdown",
   "id": "e998016a-756e-44b2-8cb3-d04b91e49d01",
   "metadata": {},
   "source": [
    "### Cluster Colors"
   ]
  },
  {
   "cell_type": "code",
   "execution_count": 19,
   "id": "4cbead13-4350-4e3f-9e3a-a6d94d4fac4e",
   "metadata": {},
   "outputs": [],
   "source": [
    "# Get all categorical color palettes from Matplotlib and flatten them into a single list of colors\n",
    "palettes = [plt.get_cmap(name).colors for name in plt.colormaps() if \"tab\" in name]\n",
    "flat_colors = [color for palette in palettes for color in palette]\n",
    "\n",
    "# Convert RGB tuples to hex codes\n",
    "flat_colors_hex = [to_hex(color) for color in flat_colors]\n",
    "\n",
    "# Use modular arithmetic to assign a color to each gene, white for genes with \"Blank\"\n",
    "colors = [\n",
    "    flat_colors_hex[i % len(flat_colors_hex)] if \"Blank\" not in cluster else \"#FFFFFF\"\n",
    "    for i, cluster in enumerate(clusters)\n",
    "]\n",
    "\n",
    "# Create a DataFrame with genes and their assigned colors\n",
    "ser_color = pd.Series(colors, index=clusters, name='color')\n",
    "\n",
    "meta_cluster = pd.DataFrame(ser_color)\n",
    "\n",
    "meta_cluster['count'] = ser_counts\n",
    "\n",
    "meta_cluster.to_parquet(path_landscape_files + 'cell_clusters/meta_cluster.parquet')"
   ]
  },
  {
   "cell_type": "markdown",
   "id": "82bdf36c-7ecc-4f74-a296-6eae57837233",
   "metadata": {},
   "source": [
    "### Transcripts"
   ]
  },
  {
   "cell_type": "code",
   "execution_count": null,
   "id": "5ae4d92b-8fc2-4545-8d01-38ce4102032d",
   "metadata": {},
   "outputs": [],
   "source": [
    "%%time \n",
    "\n",
    "path_trx = base_path + 'transcripts.parquet'\n",
    "path_trx_tiles = path_landscape_files + 'transcript_tiles'\n",
    "tile_bounds = dega.pre.make_trx_tiles(\n",
    "    technology, \n",
    "    path_trx, \n",
    "    path_transformation_matrix, \n",
    "    path_trx_tiles,\n",
    "    tile_size=tile_size,\n",
    "    image_scale=image_scale\n",
    ")"
   ]
  },
  {
   "cell_type": "markdown",
   "id": "d433c47a-246c-4157-a6ac-3297e07606ff",
   "metadata": {},
   "source": [
    "### Cell Boundaries"
   ]
  },
  {
   "cell_type": "code",
   "execution_count": 35,
   "id": "5dc9b6fa-0164-4656-a19b-cc4f277c2a23",
   "metadata": {},
   "outputs": [
    {
     "name": "stdout",
     "output_type": "stream",
     "text": [
      "CPU times: user 11min 24s, sys: 1min 4s, total: 12min 28s\n",
      "Wall time: 12min 41s\n"
     ]
    }
   ],
   "source": [
    "%%time\n",
    "path_cell_boundaries = base_path + 'cell_boundaries.parquet'\n",
    "path_output = path_landscape_files + 'cell_segmentation'\n",
    "dega.pre.make_cell_boundary_tiles(\n",
    "    technology,\n",
    "    path_cell_boundaries, \n",
    "    path_meta_cell_micron, \n",
    "    path_transformation_matrix, \n",
    "    path_output,\n",
    "    tile_size=tile_size,\n",
    "    tile_bounds=tile_bounds\n",
    ")"
   ]
  },
  {
   "cell_type": "markdown",
   "id": "20844304-6026-43c8-9696-5a3b406a7843",
   "metadata": {},
   "source": [
    "### Gene Metadata"
   ]
  },
  {
   "cell_type": "code",
   "execution_count": 36,
   "id": "fb0c8928-e98d-4d94-96f0-e0de04105cf2",
   "metadata": {},
   "outputs": [
    {
     "name": "stdout",
     "output_type": "stream",
     "text": [
      "read mtx file from  ../data/xenium_landscapes/Xenium_Prime_Human_Lymph_Node_Reactive_FFPE_outs_landscape_files/cell_feature_matrix/\n",
      "calculating mean expression from sparse float data\n",
      "calculating variance by looping over rows\n"
     ]
    }
   ],
   "source": [
    "path_cbg = path_landscape_files + 'cell_feature_matrix/'\n",
    "path_output = path_landscape_files + 'gene_metadata.parquet'\n",
    "dega.pre.make_meta_gene(technology, path_cbg, path_output)"
   ]
  },
  {
   "cell_type": "markdown",
   "id": "2bb4cdb9-25ca-4de9-a10f-99052e4d8ac4",
   "metadata": {},
   "source": [
    "### Cluster Gene Expression"
   ]
  },
  {
   "cell_type": "code",
   "execution_count": 39,
   "id": "f229beac-26bb-4cc8-a012-716fcccefadb",
   "metadata": {},
   "outputs": [
    {
     "data": {
      "text/html": [
       "<div>\n",
       "<style scoped>\n",
       "    .dataframe tbody tr th:only-of-type {\n",
       "        vertical-align: middle;\n",
       "    }\n",
       "\n",
       "    .dataframe tbody tr th {\n",
       "        vertical-align: top;\n",
       "    }\n",
       "\n",
       "    .dataframe thead th {\n",
       "        text-align: right;\n",
       "    }\n",
       "</style>\n",
       "<table border=\"1\" class=\"dataframe\">\n",
       "  <thead>\n",
       "    <tr style=\"text-align: right;\">\n",
       "      <th></th>\n",
       "      <th>center_x</th>\n",
       "      <th>center_y</th>\n",
       "    </tr>\n",
       "    <tr>\n",
       "      <th>cell_id</th>\n",
       "      <th></th>\n",
       "      <th></th>\n",
       "    </tr>\n",
       "  </thead>\n",
       "  <tbody>\n",
       "    <tr>\n",
       "      <th>aaaaadoa-1</th>\n",
       "      <td>2871.859619</td>\n",
       "      <td>347.729767</td>\n",
       "    </tr>\n",
       "    <tr>\n",
       "      <th>aaaaclhf-1</th>\n",
       "      <td>2882.301025</td>\n",
       "      <td>349.938110</td>\n",
       "    </tr>\n",
       "    <tr>\n",
       "      <th>aaaafcfj-1</th>\n",
       "      <td>2880.217041</td>\n",
       "      <td>338.575897</td>\n",
       "    </tr>\n",
       "    <tr>\n",
       "      <th>aaaagamp-1</th>\n",
       "      <td>2852.795166</td>\n",
       "      <td>356.880615</td>\n",
       "    </tr>\n",
       "    <tr>\n",
       "      <th>aaaaiako-1</th>\n",
       "      <td>2854.036133</td>\n",
       "      <td>361.754639</td>\n",
       "    </tr>\n",
       "    <tr>\n",
       "      <th>...</th>\n",
       "      <td>...</td>\n",
       "      <td>...</td>\n",
       "    </tr>\n",
       "    <tr>\n",
       "      <th>oikoinno-1</th>\n",
       "      <td>6281.145996</td>\n",
       "      <td>4459.715332</td>\n",
       "    </tr>\n",
       "    <tr>\n",
       "      <th>oikojopg-1</th>\n",
       "      <td>6231.592285</td>\n",
       "      <td>4434.088379</td>\n",
       "    </tr>\n",
       "    <tr>\n",
       "      <th>oikokaeg-1</th>\n",
       "      <td>6243.616211</td>\n",
       "      <td>4449.573730</td>\n",
       "    </tr>\n",
       "    <tr>\n",
       "      <th>oikooakd-1</th>\n",
       "      <td>6224.635254</td>\n",
       "      <td>4435.554688</td>\n",
       "    </tr>\n",
       "    <tr>\n",
       "      <th>oikoolfj-1</th>\n",
       "      <td>6228.200684</td>\n",
       "      <td>4432.040039</td>\n",
       "    </tr>\n",
       "  </tbody>\n",
       "</table>\n",
       "<p>708983 rows × 2 columns</p>\n",
       "</div>"
      ],
      "text/plain": [
       "               center_x     center_y\n",
       "cell_id                             \n",
       "aaaaadoa-1  2871.859619   347.729767\n",
       "aaaaclhf-1  2882.301025   349.938110\n",
       "aaaafcfj-1  2880.217041   338.575897\n",
       "aaaagamp-1  2852.795166   356.880615\n",
       "aaaaiako-1  2854.036133   361.754639\n",
       "...                 ...          ...\n",
       "oikoinno-1  6281.145996  4459.715332\n",
       "oikojopg-1  6231.592285  4434.088379\n",
       "oikokaeg-1  6243.616211  4449.573730\n",
       "oikooakd-1  6224.635254  4435.554688\n",
       "oikoolfj-1  6228.200684  4432.040039\n",
       "\n",
       "[708983 rows x 2 columns]"
      ]
     },
     "execution_count": 39,
     "metadata": {},
     "output_type": "execute_result"
    }
   ],
   "source": [
    "usecols = ['cell_id', 'x_centroid', 'y_centroid']\n",
    "meta_cell = pd.read_csv(base_path + 'cells.csv.gz', index_col=0, usecols=usecols)\n",
    "meta_cell.columns = ['center_x', 'center_y']\n",
    "\n",
    "df_meta = pd.read_csv(path_landscape_files + 'analysis/clustering/gene_expression_graphclust/clusters.csv', index_col=0)\n",
    "df_meta['Cluster'] = df_meta['Cluster'].astype('string')\n",
    "df_meta.columns = ['cluster']\n",
    "\n",
    "meta_cell['cluster'] = df_meta['cluster']"
   ]
  },
  {
   "cell_type": "code",
   "execution_count": 41,
   "id": "3df98031-5d3a-49dc-9517-b2cb7b18a2d0",
   "metadata": {},
   "outputs": [],
   "source": [
    "list_ser = []\n",
    "for inst_cat in meta_cell['cluster'].unique().tolist():\n",
    "    if inst_cat is not None:\n",
    "        inst_cells = meta_cell[meta_cell['cluster'] == inst_cat].index.tolist()\n",
    "\n",
    "        inst_ser = cbg.loc[inst_cells].sum()/len(inst_cells)\n",
    "        inst_ser.name = inst_cat\n",
    "\n",
    "        list_ser.append(inst_ser)\n",
    "\n",
    "df_sig = pd.concat(list_ser, axis=1)    "
   ]
  },
  {
   "cell_type": "code",
   "execution_count": 42,
   "id": "e27f560d-ad9a-44e6-8804-81cb26d0bec4",
   "metadata": {},
   "outputs": [],
   "source": [
    "# handling weird behavior where there is a multiindex it appears\n",
    "\n",
    "df_sig.columns = df_sig.columns.tolist()\n",
    "df_sig.index = df_sig.index.tolist()"
   ]
  },
  {
   "cell_type": "code",
   "execution_count": 47,
   "id": "85271307-3858-4683-92cb-e56566a1be87",
   "metadata": {},
   "outputs": [
    {
     "data": {
      "text/plain": [
       "(4645, 35)"
      ]
     },
     "execution_count": 47,
     "metadata": {},
     "output_type": "execute_result"
    }
   ],
   "source": [
    "keep_genes = df_sig.index.tolist()\n",
    "keep_genes = [x for x in keep_genes if 'Unassigned' not in x]\n",
    "keep_genes = [x for x in keep_genes if 'NegControl' not in x]\n",
    "keep_genes = [x for x in keep_genes if 'DeprecatedCodeword' not in x]\n",
    "\n",
    "df_sig = df_sig.loc[keep_genes, clusters]"
   ]
  },
  {
   "cell_type": "code",
   "execution_count": 48,
   "id": "4b5a96d1-0b12-4242-ab0f-206fe4d435fb",
   "metadata": {},
   "outputs": [],
   "source": [
    "df_sig.sparse.to_dense().to_parquet(path_landscape_files + 'df_sig.parquet')"
   ]
  },
  {
   "cell_type": "markdown",
   "id": "5959d69b-63db-4cab-903d-450f05c814ca",
   "metadata": {},
   "source": [
    "### Save Landscape Parameters JSON"
   ]
  },
  {
   "cell_type": "code",
   "execution_count": 30,
   "id": "cc0cc889-2a7a-49d9-9698-6798db28c202",
   "metadata": {},
   "outputs": [],
   "source": [
    "image_info =  [\n",
    "        {\n",
    "            \"name\": \"dapi\",\n",
    "            \"button_name\": \"DAPI\",\n",
    "            \"color\": [\n",
    "                0,\n",
    "                0,\n",
    "                255\n",
    "            ]\n",
    "        },\n",
    "        {\n",
    "            \"name\": \"bound\",\n",
    "            \"button_name\": \"BOUND\",\n",
    "            \"color\": [\n",
    "                0,\n",
    "                255,\n",
    "                0\n",
    "            ]\n",
    "        },\n",
    "        {\n",
    "            \"name\": \"rna\",\n",
    "            \"button_name\": \"RNA\",\n",
    "            \"color\": [\n",
    "                255,\n",
    "                0,\n",
    "                0\n",
    "            ]\n",
    "        },\n",
    "        {\n",
    "            \"name\": \"prot\",\n",
    "            \"button_name\": \"PROT\",\n",
    "            \"color\": [\n",
    "                255,\n",
    "                255,\n",
    "                255\n",
    "            ]\n",
    "        }\n",
    "    ]"
   ]
  },
  {
   "cell_type": "code",
   "execution_count": 39,
   "id": "aafef853-1a99-464c-b6c1-913e50f0a2e0",
   "metadata": {},
   "outputs": [
    {
     "name": "stdout",
     "output_type": "stream",
     "text": [
      "../data/xenium_landscapes/Xenium_Prime_Human_Lymph_Node_Reactive_FFPE_outs_landscape_files/pyramid_images/dapi_files/\n"
     ]
    }
   ],
   "source": [
    "dega.pre.save_landscape_parameters(\n",
    "    technology, \n",
    "    path_landscape_files,\n",
    "    'dapi_files',\n",
    "    tile_size=100,\n",
    "    image_info=image_info,\n",
    "    image_format='.webp'\n",
    ")"
   ]
  },
  {
   "cell_type": "code",
   "execution_count": null,
   "id": "f8b8f86b-831c-421c-886a-0163f7f44145",
   "metadata": {},
   "outputs": [],
   "source": []
  }
 ],
 "metadata": {
  "kernelspec": {
   "display_name": "Python 3 (ipykernel)",
   "language": "python",
   "name": "python3"
  },
  "language_info": {
   "codemirror_mode": {
    "name": "ipython",
    "version": 3
   },
   "file_extension": ".py",
   "mimetype": "text/x-python",
   "name": "python",
   "nbconvert_exporter": "python",
   "pygments_lexer": "ipython3",
   "version": "3.9.20"
  },
  "widgets": {
   "application/vnd.jupyter.widget-state+json": {
    "state": {},
    "version_major": 2,
    "version_minor": 0
   }
  }
 },
 "nbformat": 4,
 "nbformat_minor": 5
}
