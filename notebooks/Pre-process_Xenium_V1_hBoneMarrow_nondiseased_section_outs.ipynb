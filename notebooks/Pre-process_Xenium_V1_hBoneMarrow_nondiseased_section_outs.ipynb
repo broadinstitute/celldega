{
 "cells": [
  {
   "cell_type": "markdown",
   "id": "60120245-91a9-4f50-88ef-356faf4687c3",
   "metadata": {},
   "source": [
    "# Pre-process_Xenium_V1_hBoneMarrow_nondiseased_section_outs"
   ]
  },
  {
   "cell_type": "code",
   "execution_count": 1,
   "id": "8aedda0a-f8a2-46cf-a5b5-371b444c917f",
   "metadata": {},
   "outputs": [
    {
     "name": "stdout",
     "output_type": "stream",
     "text": [
      "env: ANYWIDGET_HMR=1\n"
     ]
    }
   ],
   "source": [
    "%load_ext autoreload\n",
    "%autoreload 2\n",
    "%env ANYWIDGET_HMR=1"
   ]
  },
  {
   "cell_type": "code",
   "execution_count": 2,
   "id": "d220d081-49d8-44e5-a7af-7d0d08fe27af",
   "metadata": {},
   "outputs": [],
   "source": [
    "import numpy as np\n",
    "import pandas as pd\n",
    "\n",
    "# macOS requirement\n",
    "import os\n",
    "os.environ['DYLD_LIBRARY_PATH'] = '/opt/homebrew/lib:' + os.environ.get('DYLD_LIBRARY_PATH', '')\n",
    "\n",
    "import celldega as dega\n",
    "\n",
    "import tifffile\n",
    "import zarr\n",
    "\n",
    "import matplotlib.pyplot as plt\n",
    "from matplotlib.colors import to_hex\n",
    "\n",
    "import geopandas as gpd\n",
    "import shapely\n",
    "\n",
    "import tarfile"
   ]
  },
  {
   "cell_type": "code",
   "execution_count": 3,
   "id": "5cad54fd-5eb5-4b5c-bbda-1cfcbf1a12d2",
   "metadata": {},
   "outputs": [
    {
     "name": "stdout",
     "output_type": "stream",
     "text": [
      "analysis.tar.gz               experiment.xenium\n",
      "analysis.zarr.zip             gene_panel.json\n",
      "analysis_summary.html         meta_cluster.parquet\n",
      "aux_outputs.tar.gz            metrics_summary.csv\n",
      "cell_boundaries.csv.gz        morphology.ome.tif\n",
      "cell_boundaries.parquet       morphology_focus.ome.tif\n",
      "cell_feature_matrix.h5        morphology_mip.ome.tif\n",
      "cell_feature_matrix.tar.gz    nucleus_boundaries.csv.gz\n",
      "cell_feature_matrix.zarr.zip  nucleus_boundaries.parquet\n",
      "\u001b[1m\u001b[36mcell_segmentation\u001b[m\u001b[m/            transcripts.csv.gz\n",
      "cells.csv.gz                  transcripts.parquet\n",
      "cells.parquet                 transcripts.zarr.zip\n",
      "cells.zarr.zip\n"
     ]
    }
   ],
   "source": [
    "ls ../data/xenium_data/Xenium_V1_hBoneMarrow_nondiseased_section_outs/"
   ]
  },
  {
   "cell_type": "code",
   "execution_count": 4,
   "id": "e7f41415-36d8-48f9-bf82-b465871a9a66",
   "metadata": {},
   "outputs": [
    {
     "name": "stdout",
     "output_type": "stream",
     "text": [
      "\u001b[1m\u001b[36mXenium_Prime_Human_Lymph_Node_Reactive_FFPE_outs_landscape_files\u001b[m\u001b[m/\n",
      "\u001b[1m\u001b[36mXenium_V1_hBoneMarrow_nondiseased_section_outs_landscape_files\u001b[m\u001b[m/\n"
     ]
    }
   ],
   "source": [
    "ls ../data/xenium_landscapes/"
   ]
  },
  {
   "cell_type": "code",
   "execution_count": 5,
   "id": "4c0b5695-ee4b-4b2b-b620-dfb1780d5d0e",
   "metadata": {},
   "outputs": [],
   "source": [
    "dataset_name = 'Xenium_V1_hBoneMarrow_nondiseased_section_outs'"
   ]
  },
  {
   "cell_type": "code",
   "execution_count": 6,
   "id": "58b5924d-5a8d-45e6-9d0b-1a846c506104",
   "metadata": {},
   "outputs": [],
   "source": [
    "base_path = '../data/xenium_data/' + dataset_name + '/'"
   ]
  },
  {
   "cell_type": "code",
   "execution_count": 7,
   "id": "e62bc950-cc8c-4f16-8df2-f9818fd44ae9",
   "metadata": {},
   "outputs": [],
   "source": [
    "path_landscape_files = '../data/xenium_landscapes/' + dataset_name + '_landscape_files/'"
   ]
  },
  {
   "cell_type": "code",
   "execution_count": 8,
   "id": "c26ec3ba-b9c2-480d-bf2e-fe5f7469d531",
   "metadata": {},
   "outputs": [
    {
     "data": {
      "text/plain": [
       "'../data/xenium_data/Xenium_V1_hBoneMarrow_nondiseased_section_outs/'"
      ]
     },
     "execution_count": 8,
     "metadata": {},
     "output_type": "execute_result"
    }
   ],
   "source": [
    "base_path"
   ]
  },
  {
   "cell_type": "code",
   "execution_count": 9,
   "id": "ab8798a4-b3ca-4bba-bafb-b74acc2365c1",
   "metadata": {},
   "outputs": [
    {
     "data": {
      "text/plain": [
       "'../data/xenium_landscapes/Xenium_V1_hBoneMarrow_nondiseased_section_outs_landscape_files/'"
      ]
     },
     "execution_count": 9,
     "metadata": {},
     "output_type": "execute_result"
    }
   ],
   "source": [
    "path_landscape_files"
   ]
  },
  {
   "cell_type": "code",
   "execution_count": 10,
   "id": "d59a0077-444c-49f4-ab3a-fadca0cd6e61",
   "metadata": {},
   "outputs": [],
   "source": [
    "if not os.path.exists(path_landscape_files):\n",
    "    os.mkdir(path_landscape_files)"
   ]
  },
  {
   "cell_type": "markdown",
   "id": "a1f032ab-8cb3-4046-9768-eda31cfbd46b",
   "metadata": {},
   "source": [
    "## Unzip Xenium Data"
   ]
  },
  {
   "cell_type": "markdown",
   "id": "711efec8-3ffc-4df8-8e83-6d374b10e79d",
   "metadata": {},
   "source": [
    "#### Decompress Cell Feature Matrix MTX Files"
   ]
  },
  {
   "cell_type": "code",
   "execution_count": 13,
   "id": "1584517b-d2a7-4713-976b-fd0fc6b0d370",
   "metadata": {},
   "outputs": [
    {
     "name": "stdout",
     "output_type": "stream",
     "text": [
      "File ../data/xenium_data/Xenium_V1_hBoneMarrow_nondiseased_section_outs/cell_feature_matrix.tar.gz has been decompressed to ../data/xenium_landscapes/Xenium_V1_hBoneMarrow_nondiseased_section_outs_landscape_files/\n"
     ]
    }
   ],
   "source": [
    "# Path to the tar.gz file you want to decompress\n",
    "tar_file_path = base_path + 'cell_feature_matrix.tar.gz'\n",
    "# Path to the directory where you want to extract the contents\n",
    "output_directory = path_landscape_files\n",
    "\n",
    "# Open the tar.gz file\n",
    "with tarfile.open(tar_file_path, \"r:gz\") as tar:\n",
    "    # Extract all contents to the specified directory\n",
    "    tar.extractall(path=output_directory)\n",
    "\n",
    "print(f\"File {tar_file_path} has been decompressed to {output_directory}\")\n"
   ]
  },
  {
   "cell_type": "markdown",
   "id": "f1ab29ee-5168-4688-8644-cf8b9f5bf389",
   "metadata": {},
   "source": [
    "#### Decompress Xenium Analysis Files"
   ]
  },
  {
   "cell_type": "code",
   "execution_count": 35,
   "id": "f9c789fc-9c35-42e8-91f2-e30f16076015",
   "metadata": {},
   "outputs": [
    {
     "name": "stdout",
     "output_type": "stream",
     "text": [
      "File ../data/xenium_data/Xenium_V1_hBoneMarrow_nondiseased_section_outs/analysis.tar.gz has been decompressed to ../data/xenium_landscapes/Xenium_V1_hBoneMarrow_nondiseased_section_outs_landscape_files/\n"
     ]
    }
   ],
   "source": [
    "# Path to the tar.gz file you want to decompress\n",
    "tar_file_path = base_path + 'analysis.tar.gz'\n",
    "# Path to the directory where you want to extract the contents\n",
    "output_directory = path_landscape_files\n",
    "\n",
    "# Open the tar.gz file\n",
    "with tarfile.open(tar_file_path, \"r:gz\") as tar:\n",
    "    # Extract all contents to the specified directory\n",
    "    tar.extractall(path=output_directory)\n",
    "\n",
    "print(f\"File {tar_file_path} has been decompressed to {output_directory}\")\n"
   ]
  },
  {
   "cell_type": "markdown",
   "id": "fd672cd6-5d92-4dd8-8473-840e6e9538bd",
   "metadata": {},
   "source": [
    "# CBG"
   ]
  },
  {
   "cell_type": "code",
   "execution_count": 14,
   "id": "42a5bc73-6bbc-4bfe-8dba-6a905695d561",
   "metadata": {},
   "outputs": [
    {
     "name": "stdout",
     "output_type": "stream",
     "text": [
      "read mtx file from  ../data/xenium_landscapes/Xenium_V1_hBoneMarrow_nondiseased_section_outs_landscape_files/cell_feature_matrix/\n"
     ]
    },
    {
     "data": {
      "text/html": [
       "<div>\n",
       "<style scoped>\n",
       "    .dataframe tbody tr th:only-of-type {\n",
       "        vertical-align: middle;\n",
       "    }\n",
       "\n",
       "    .dataframe tbody tr th {\n",
       "        vertical-align: top;\n",
       "    }\n",
       "\n",
       "    .dataframe thead th {\n",
       "        text-align: right;\n",
       "    }\n",
       "</style>\n",
       "<table border=\"1\" class=\"dataframe\">\n",
       "  <thead>\n",
       "    <tr style=\"text-align: right;\">\n",
       "      <th>1</th>\n",
       "      <th>ABCC11</th>\n",
       "      <th>ACAN</th>\n",
       "      <th>ACE2</th>\n",
       "      <th>ACKR1</th>\n",
       "      <th>ACTA2</th>\n",
       "      <th>ACTG2</th>\n",
       "      <th>ADAM28</th>\n",
       "      <th>ADAMTS1</th>\n",
       "      <th>ADD2</th>\n",
       "      <th>ADGRE1</th>\n",
       "      <th>...</th>\n",
       "      <th>NegControlCodeword_0534</th>\n",
       "      <th>NegControlCodeword_0535</th>\n",
       "      <th>NegControlCodeword_0536</th>\n",
       "      <th>NegControlCodeword_0537</th>\n",
       "      <th>NegControlCodeword_0538</th>\n",
       "      <th>NegControlCodeword_0539</th>\n",
       "      <th>NegControlCodeword_0540</th>\n",
       "      <th>UnassignedCodeword_0006</th>\n",
       "      <th>UnassignedCodeword_0037</th>\n",
       "      <th>UnassignedCodeword_0069</th>\n",
       "    </tr>\n",
       "    <tr>\n",
       "      <th>0</th>\n",
       "      <th></th>\n",
       "      <th></th>\n",
       "      <th></th>\n",
       "      <th></th>\n",
       "      <th></th>\n",
       "      <th></th>\n",
       "      <th></th>\n",
       "      <th></th>\n",
       "      <th></th>\n",
       "      <th></th>\n",
       "      <th></th>\n",
       "      <th></th>\n",
       "      <th></th>\n",
       "      <th></th>\n",
       "      <th></th>\n",
       "      <th></th>\n",
       "      <th></th>\n",
       "      <th></th>\n",
       "      <th></th>\n",
       "      <th></th>\n",
       "      <th></th>\n",
       "    </tr>\n",
       "  </thead>\n",
       "  <tbody>\n",
       "    <tr>\n",
       "      <th>aaabckmo-1</th>\n",
       "      <td>0</td>\n",
       "      <td>0</td>\n",
       "      <td>0</td>\n",
       "      <td>0</td>\n",
       "      <td>0</td>\n",
       "      <td>0</td>\n",
       "      <td>0</td>\n",
       "      <td>0</td>\n",
       "      <td>0</td>\n",
       "      <td>0</td>\n",
       "      <td>...</td>\n",
       "      <td>0</td>\n",
       "      <td>0</td>\n",
       "      <td>0</td>\n",
       "      <td>0</td>\n",
       "      <td>0</td>\n",
       "      <td>0</td>\n",
       "      <td>0</td>\n",
       "      <td>0</td>\n",
       "      <td>0</td>\n",
       "      <td>0</td>\n",
       "    </tr>\n",
       "    <tr>\n",
       "      <th>aaabhbfn-1</th>\n",
       "      <td>0</td>\n",
       "      <td>0</td>\n",
       "      <td>0</td>\n",
       "      <td>0</td>\n",
       "      <td>0</td>\n",
       "      <td>0</td>\n",
       "      <td>0</td>\n",
       "      <td>0</td>\n",
       "      <td>0</td>\n",
       "      <td>0</td>\n",
       "      <td>...</td>\n",
       "      <td>0</td>\n",
       "      <td>0</td>\n",
       "      <td>0</td>\n",
       "      <td>0</td>\n",
       "      <td>0</td>\n",
       "      <td>0</td>\n",
       "      <td>0</td>\n",
       "      <td>0</td>\n",
       "      <td>0</td>\n",
       "      <td>0</td>\n",
       "    </tr>\n",
       "    <tr>\n",
       "      <th>aaabmaca-1</th>\n",
       "      <td>0</td>\n",
       "      <td>0</td>\n",
       "      <td>0</td>\n",
       "      <td>0</td>\n",
       "      <td>0</td>\n",
       "      <td>0</td>\n",
       "      <td>0</td>\n",
       "      <td>0</td>\n",
       "      <td>0</td>\n",
       "      <td>0</td>\n",
       "      <td>...</td>\n",
       "      <td>0</td>\n",
       "      <td>0</td>\n",
       "      <td>0</td>\n",
       "      <td>0</td>\n",
       "      <td>0</td>\n",
       "      <td>0</td>\n",
       "      <td>0</td>\n",
       "      <td>0</td>\n",
       "      <td>0</td>\n",
       "      <td>0</td>\n",
       "    </tr>\n",
       "    <tr>\n",
       "      <th>aaackgmh-1</th>\n",
       "      <td>0</td>\n",
       "      <td>0</td>\n",
       "      <td>0</td>\n",
       "      <td>0</td>\n",
       "      <td>0</td>\n",
       "      <td>0</td>\n",
       "      <td>0</td>\n",
       "      <td>0</td>\n",
       "      <td>0</td>\n",
       "      <td>0</td>\n",
       "      <td>...</td>\n",
       "      <td>0</td>\n",
       "      <td>0</td>\n",
       "      <td>0</td>\n",
       "      <td>0</td>\n",
       "      <td>0</td>\n",
       "      <td>0</td>\n",
       "      <td>0</td>\n",
       "      <td>0</td>\n",
       "      <td>0</td>\n",
       "      <td>0</td>\n",
       "    </tr>\n",
       "    <tr>\n",
       "      <th>aaadehho-1</th>\n",
       "      <td>0</td>\n",
       "      <td>0</td>\n",
       "      <td>0</td>\n",
       "      <td>0</td>\n",
       "      <td>0</td>\n",
       "      <td>1</td>\n",
       "      <td>0</td>\n",
       "      <td>0</td>\n",
       "      <td>0</td>\n",
       "      <td>0</td>\n",
       "      <td>...</td>\n",
       "      <td>0</td>\n",
       "      <td>0</td>\n",
       "      <td>0</td>\n",
       "      <td>0</td>\n",
       "      <td>0</td>\n",
       "      <td>0</td>\n",
       "      <td>0</td>\n",
       "      <td>0</td>\n",
       "      <td>0</td>\n",
       "      <td>0</td>\n",
       "    </tr>\n",
       "    <tr>\n",
       "      <th>...</th>\n",
       "      <td>...</td>\n",
       "      <td>...</td>\n",
       "      <td>...</td>\n",
       "      <td>...</td>\n",
       "      <td>...</td>\n",
       "      <td>...</td>\n",
       "      <td>...</td>\n",
       "      <td>...</td>\n",
       "      <td>...</td>\n",
       "      <td>...</td>\n",
       "      <td>...</td>\n",
       "      <td>...</td>\n",
       "      <td>...</td>\n",
       "      <td>...</td>\n",
       "      <td>...</td>\n",
       "      <td>...</td>\n",
       "      <td>...</td>\n",
       "      <td>...</td>\n",
       "      <td>...</td>\n",
       "      <td>...</td>\n",
       "      <td>...</td>\n",
       "    </tr>\n",
       "    <tr>\n",
       "      <th>ojcdjlla-1</th>\n",
       "      <td>0</td>\n",
       "      <td>0</td>\n",
       "      <td>0</td>\n",
       "      <td>0</td>\n",
       "      <td>0</td>\n",
       "      <td>0</td>\n",
       "      <td>0</td>\n",
       "      <td>0</td>\n",
       "      <td>0</td>\n",
       "      <td>0</td>\n",
       "      <td>...</td>\n",
       "      <td>0</td>\n",
       "      <td>0</td>\n",
       "      <td>0</td>\n",
       "      <td>0</td>\n",
       "      <td>0</td>\n",
       "      <td>0</td>\n",
       "      <td>0</td>\n",
       "      <td>0</td>\n",
       "      <td>0</td>\n",
       "      <td>0</td>\n",
       "    </tr>\n",
       "    <tr>\n",
       "      <th>ojceeaab-1</th>\n",
       "      <td>0</td>\n",
       "      <td>0</td>\n",
       "      <td>0</td>\n",
       "      <td>0</td>\n",
       "      <td>0</td>\n",
       "      <td>0</td>\n",
       "      <td>0</td>\n",
       "      <td>0</td>\n",
       "      <td>0</td>\n",
       "      <td>0</td>\n",
       "      <td>...</td>\n",
       "      <td>0</td>\n",
       "      <td>0</td>\n",
       "      <td>0</td>\n",
       "      <td>0</td>\n",
       "      <td>0</td>\n",
       "      <td>0</td>\n",
       "      <td>0</td>\n",
       "      <td>0</td>\n",
       "      <td>0</td>\n",
       "      <td>0</td>\n",
       "    </tr>\n",
       "    <tr>\n",
       "      <th>ojcfboee-1</th>\n",
       "      <td>0</td>\n",
       "      <td>0</td>\n",
       "      <td>0</td>\n",
       "      <td>0</td>\n",
       "      <td>0</td>\n",
       "      <td>0</td>\n",
       "      <td>0</td>\n",
       "      <td>0</td>\n",
       "      <td>0</td>\n",
       "      <td>0</td>\n",
       "      <td>...</td>\n",
       "      <td>0</td>\n",
       "      <td>0</td>\n",
       "      <td>0</td>\n",
       "      <td>0</td>\n",
       "      <td>0</td>\n",
       "      <td>0</td>\n",
       "      <td>0</td>\n",
       "      <td>0</td>\n",
       "      <td>0</td>\n",
       "      <td>0</td>\n",
       "    </tr>\n",
       "    <tr>\n",
       "      <th>ojchagna-1</th>\n",
       "      <td>0</td>\n",
       "      <td>0</td>\n",
       "      <td>0</td>\n",
       "      <td>0</td>\n",
       "      <td>0</td>\n",
       "      <td>0</td>\n",
       "      <td>0</td>\n",
       "      <td>0</td>\n",
       "      <td>0</td>\n",
       "      <td>0</td>\n",
       "      <td>...</td>\n",
       "      <td>0</td>\n",
       "      <td>0</td>\n",
       "      <td>0</td>\n",
       "      <td>0</td>\n",
       "      <td>0</td>\n",
       "      <td>0</td>\n",
       "      <td>0</td>\n",
       "      <td>0</td>\n",
       "      <td>0</td>\n",
       "      <td>0</td>\n",
       "    </tr>\n",
       "    <tr>\n",
       "      <th>ojchahbd-1</th>\n",
       "      <td>0</td>\n",
       "      <td>0</td>\n",
       "      <td>0</td>\n",
       "      <td>0</td>\n",
       "      <td>0</td>\n",
       "      <td>0</td>\n",
       "      <td>0</td>\n",
       "      <td>0</td>\n",
       "      <td>1</td>\n",
       "      <td>0</td>\n",
       "      <td>...</td>\n",
       "      <td>0</td>\n",
       "      <td>0</td>\n",
       "      <td>0</td>\n",
       "      <td>0</td>\n",
       "      <td>0</td>\n",
       "      <td>0</td>\n",
       "      <td>0</td>\n",
       "      <td>0</td>\n",
       "      <td>0</td>\n",
       "      <td>0</td>\n",
       "    </tr>\n",
       "  </tbody>\n",
       "</table>\n",
       "<p>84518 rows × 541 columns</p>\n",
       "</div>"
      ],
      "text/plain": [
       "1           ABCC11  ACAN  ACE2  ACKR1  ACTA2  ACTG2  ADAM28  ADAMTS1  ADD2  \\\n",
       "0                                                                            \n",
       "aaabckmo-1       0     0     0      0      0      0       0        0     0   \n",
       "aaabhbfn-1       0     0     0      0      0      0       0        0     0   \n",
       "aaabmaca-1       0     0     0      0      0      0       0        0     0   \n",
       "aaackgmh-1       0     0     0      0      0      0       0        0     0   \n",
       "aaadehho-1       0     0     0      0      0      1       0        0     0   \n",
       "...            ...   ...   ...    ...    ...    ...     ...      ...   ...   \n",
       "ojcdjlla-1       0     0     0      0      0      0       0        0     0   \n",
       "ojceeaab-1       0     0     0      0      0      0       0        0     0   \n",
       "ojcfboee-1       0     0     0      0      0      0       0        0     0   \n",
       "ojchagna-1       0     0     0      0      0      0       0        0     0   \n",
       "ojchahbd-1       0     0     0      0      0      0       0        0     1   \n",
       "\n",
       "1           ADGRE1  ...  NegControlCodeword_0534  NegControlCodeword_0535  \\\n",
       "0                   ...                                                     \n",
       "aaabckmo-1       0  ...                        0                        0   \n",
       "aaabhbfn-1       0  ...                        0                        0   \n",
       "aaabmaca-1       0  ...                        0                        0   \n",
       "aaackgmh-1       0  ...                        0                        0   \n",
       "aaadehho-1       0  ...                        0                        0   \n",
       "...            ...  ...                      ...                      ...   \n",
       "ojcdjlla-1       0  ...                        0                        0   \n",
       "ojceeaab-1       0  ...                        0                        0   \n",
       "ojcfboee-1       0  ...                        0                        0   \n",
       "ojchagna-1       0  ...                        0                        0   \n",
       "ojchahbd-1       0  ...                        0                        0   \n",
       "\n",
       "1           NegControlCodeword_0536  NegControlCodeword_0537  \\\n",
       "0                                                              \n",
       "aaabckmo-1                        0                        0   \n",
       "aaabhbfn-1                        0                        0   \n",
       "aaabmaca-1                        0                        0   \n",
       "aaackgmh-1                        0                        0   \n",
       "aaadehho-1                        0                        0   \n",
       "...                             ...                      ...   \n",
       "ojcdjlla-1                        0                        0   \n",
       "ojceeaab-1                        0                        0   \n",
       "ojcfboee-1                        0                        0   \n",
       "ojchagna-1                        0                        0   \n",
       "ojchahbd-1                        0                        0   \n",
       "\n",
       "1           NegControlCodeword_0538  NegControlCodeword_0539  \\\n",
       "0                                                              \n",
       "aaabckmo-1                        0                        0   \n",
       "aaabhbfn-1                        0                        0   \n",
       "aaabmaca-1                        0                        0   \n",
       "aaackgmh-1                        0                        0   \n",
       "aaadehho-1                        0                        0   \n",
       "...                             ...                      ...   \n",
       "ojcdjlla-1                        0                        0   \n",
       "ojceeaab-1                        0                        0   \n",
       "ojcfboee-1                        0                        0   \n",
       "ojchagna-1                        0                        0   \n",
       "ojchahbd-1                        0                        0   \n",
       "\n",
       "1           NegControlCodeword_0540  UnassignedCodeword_0006  \\\n",
       "0                                                              \n",
       "aaabckmo-1                        0                        0   \n",
       "aaabhbfn-1                        0                        0   \n",
       "aaabmaca-1                        0                        0   \n",
       "aaackgmh-1                        0                        0   \n",
       "aaadehho-1                        0                        0   \n",
       "...                             ...                      ...   \n",
       "ojcdjlla-1                        0                        0   \n",
       "ojceeaab-1                        0                        0   \n",
       "ojcfboee-1                        0                        0   \n",
       "ojchagna-1                        0                        0   \n",
       "ojchahbd-1                        0                        0   \n",
       "\n",
       "1           UnassignedCodeword_0037  UnassignedCodeword_0069  \n",
       "0                                                             \n",
       "aaabckmo-1                        0                        0  \n",
       "aaabhbfn-1                        0                        0  \n",
       "aaabmaca-1                        0                        0  \n",
       "aaackgmh-1                        0                        0  \n",
       "aaadehho-1                        0                        0  \n",
       "...                             ...                      ...  \n",
       "ojcdjlla-1                        0                        0  \n",
       "ojceeaab-1                        0                        0  \n",
       "ojcfboee-1                        0                        0  \n",
       "ojchagna-1                        0                        0  \n",
       "ojchahbd-1                        0                        0  \n",
       "\n",
       "[84518 rows x 541 columns]"
      ]
     },
     "execution_count": 14,
     "metadata": {},
     "output_type": "execute_result"
    }
   ],
   "source": [
    "cbg = dega.pre.read_cbg_mtx(path_landscape_files + 'cell_feature_matrix/')\n",
    "cbg"
   ]
  },
  {
   "cell_type": "code",
   "execution_count": 15,
   "id": "98afda8e-27d5-40d1-9d04-3cb94f31f0a1",
   "metadata": {},
   "outputs": [
    {
     "name": "stdout",
     "output_type": "stream",
     "text": [
      "calculating mean expression from sparse float data\n",
      "calculating variance by looping over rows\n"
     ]
    }
   ],
   "source": [
    "meta_gene_exp = dega.pre.calc_meta_gene_data(cbg)"
   ]
  },
  {
   "cell_type": "markdown",
   "id": "02e389f7-4b45-4b9c-a671-0a0a8d095f0e",
   "metadata": {},
   "source": [
    "### Gene Metadata"
   ]
  },
  {
   "cell_type": "code",
   "execution_count": 18,
   "id": "ba4177f0-cde5-44fa-acf9-70a492d58771",
   "metadata": {},
   "outputs": [
    {
     "name": "stdout",
     "output_type": "stream",
     "text": [
      "read mtx file from  ../data/xenium_landscapes/Xenium_V1_hBoneMarrow_nondiseased_section_outs_landscape_files/cell_feature_matrix/\n",
      "calculating mean expression from sparse float data\n",
      "calculating variance by looping over rows\n"
     ]
    }
   ],
   "source": [
    "path_cbg = path_landscape_files + 'cell_feature_matrix/'\n",
    "path_output = path_landscape_files + 'meta_gene.parquet'\n",
    "dega.pre.make_meta_gene('Xenium', path_cbg, path_output)"
   ]
  },
  {
   "cell_type": "markdown",
   "id": "fdd13ecc-dbc9-4fca-8e45-4318e6831784",
   "metadata": {},
   "source": [
    "### Cell-by-gene Files"
   ]
  },
  {
   "cell_type": "code",
   "execution_count": 19,
   "id": "804d645f-6bf4-4ef3-9972-6d9b9df56afe",
   "metadata": {},
   "outputs": [
    {
     "name": "stdout",
     "output_type": "stream",
     "text": [
      "0\n",
      "100\n",
      "200\n",
      "300\n",
      "400\n",
      "500\n"
     ]
    }
   ],
   "source": [
    "dega.pre.save_cbg_gene_parquets(path_landscape_files, cbg, verbose=True)"
   ]
  },
  {
   "cell_type": "markdown",
   "id": "95f1c52d-8ac3-4d97-88a7-4752fee554fb",
   "metadata": {},
   "source": [
    "### Image Tiles"
   ]
  },
  {
   "cell_type": "code",
   "execution_count": 20,
   "id": "6bc3160b-8c6a-424e-8db6-fb755b0a60c7",
   "metadata": {},
   "outputs": [],
   "source": [
    "import tifffile\n",
    "\n",
    "# Path to your OME-TIFF file\n",
    "file_path = base_path + 'morphology_focus.ome.tif'\n",
    "\n",
    "# Open the OME-TIFF file and read the image data\n",
    "with tifffile.TiffFile(file_path) as tif:\n",
    "    series = tif.series[0]  # Assuming you are interested in the first series\n",
    "    image_data = series.asarray()\n"
   ]
  },
  {
   "cell_type": "code",
   "execution_count": 21,
   "id": "0e0a1a57-e614-4f0b-b2eb-f8ee462d9520",
   "metadata": {},
   "outputs": [
    {
     "data": {
      "text/plain": [
       "(17142, 48268)"
      ]
     },
     "execution_count": 21,
     "metadata": {},
     "output_type": "execute_result"
    }
   ],
   "source": [
    "image_data.shape"
   ]
  },
  {
   "cell_type": "code",
   "execution_count": 83,
   "id": "2aa7e765-4494-4172-b9a6-992bcbabe86a",
   "metadata": {},
   "outputs": [],
   "source": [
    "# Save the image data to a regular TIFF file without compression\n",
    "image_data = image_data * 2\n",
    "tifffile.imwrite(path_landscape_files + 'output_regular.tif', image_data, compression=None)"
   ]
  },
  {
   "cell_type": "code",
   "execution_count": null,
   "id": "c2a68fc1-28c4-4feb-a058-fb71f8241c4f",
   "metadata": {},
   "outputs": [],
   "source": [
    "image_ds = dega.pre.reduce_image_size(\n",
    "    path_landscape_files + 'output_regular.tif', \n",
    "    0.5, \n",
    "    path_landscape_files\n",
    ")"
   ]
  },
  {
   "cell_type": "code",
   "execution_count": null,
   "id": "500431f0-46ba-4945-985b-c6ce67122bc0",
   "metadata": {},
   "outputs": [],
   "source": [
    "image_jpeg = dega.pre.convert_to_jpeg(\n",
    "    image_ds, \n",
    "    quality=100\n",
    ")"
   ]
  },
  {
   "cell_type": "code",
   "execution_count": null,
   "id": "a59516aa-761e-4031-83bd-f11f78064128",
   "metadata": {},
   "outputs": [],
   "source": [
    "dega.pre.make_deepzoom_pyramid(\n",
    "    image_jpeg, \n",
    "    path_landscape_files + 'pyramid_images/', \n",
    "    'dapi'\n",
    ")"
   ]
  },
  {
   "cell_type": "markdown",
   "id": "76719566-51da-48da-92e8-1edd6ef0bba3",
   "metadata": {},
   "source": [
    "### Cell Metadata"
   ]
  },
  {
   "cell_type": "code",
   "execution_count": 26,
   "id": "eaa2a440-accc-4538-acb7-6963d173c71e",
   "metadata": {},
   "outputs": [],
   "source": [
    "# Function to open a Zarr file\n",
    "def open_zarr(path: str) -> zarr.Group:\n",
    "    store = (zarr.ZipStore(path, mode=\"r\")\n",
    "    if path.endswith(\".zip\")\n",
    "    else zarr.DirectoryStore(path)\n",
    "    )\n",
    "    return zarr.group(store=store)\n",
    "\n",
    "# For example, use the above function to open the cells Zarr file, which contains segmentation mask Zarr arrays\n",
    "root = open_zarr(base_path + \"cells.zarr.zip\")\n",
    "\n",
    "# # Look at group array info and structure\n",
    "# root.info\n",
    "# root.tree() # shows structure, array dimensions, data types\n"
   ]
  },
  {
   "cell_type": "code",
   "execution_count": 27,
   "id": "e9bcd108-14d2-4d1a-9fa9-2650d8cb9f7c",
   "metadata": {},
   "outputs": [
    {
     "data": {
      "text/plain": [
       "array([[4.705882, 0.      , 0.      , 0.      ],\n",
       "       [0.      , 4.705882, 0.      , 0.      ],\n",
       "       [0.      , 0.      , 1.      , 0.      ],\n",
       "       [0.      , 0.      , 0.      , 1.      ]], dtype=float32)"
      ]
     },
     "execution_count": 27,
     "metadata": {},
     "output_type": "execute_result"
    }
   ],
   "source": [
    "transformation_matrix = root['masks']['homogeneous_transform'][:]\n",
    "transformation_matrix"
   ]
  },
  {
   "cell_type": "code",
   "execution_count": 28,
   "id": "3805253f-43ac-4c45-9dcb-c2ed3e530cdb",
   "metadata": {},
   "outputs": [],
   "source": [
    "pd.DataFrame(transformation_matrix[:3,:3]).to_csv(\n",
    "    path_landscape_files + 'xenium_transform.csv', \n",
    "    sep=' ', \n",
    "    header=False, \n",
    "    index=False\n",
    ")"
   ]
  },
  {
   "cell_type": "code",
   "execution_count": 39,
   "id": "e60bfec5-bb5e-467b-a39f-d9c41f228f37",
   "metadata": {},
   "outputs": [],
   "source": [
    "path_transformation_matrix = path_landscape_files + 'xenium_transform.csv'\n",
    "path_meta_cell_micron = base_path + 'cells.csv.gz'\n",
    "path_meta_cell_image = path_landscape_files + 'cell_metadata.parquet'"
   ]
  },
  {
   "cell_type": "code",
   "execution_count": 40,
   "id": "be5bfd0a-a326-4876-806b-3d3173de3cb8",
   "metadata": {},
   "outputs": [
    {
     "data": {
      "text/html": [
       "<div>\n",
       "<style scoped>\n",
       "    .dataframe tbody tr th:only-of-type {\n",
       "        vertical-align: middle;\n",
       "    }\n",
       "\n",
       "    .dataframe tbody tr th {\n",
       "        vertical-align: top;\n",
       "    }\n",
       "\n",
       "    .dataframe thead th {\n",
       "        text-align: right;\n",
       "    }\n",
       "</style>\n",
       "<table border=\"1\" class=\"dataframe\">\n",
       "  <thead>\n",
       "    <tr style=\"text-align: right;\">\n",
       "      <th></th>\n",
       "      <th>Cluster</th>\n",
       "    </tr>\n",
       "    <tr>\n",
       "      <th>Barcode</th>\n",
       "      <th></th>\n",
       "    </tr>\n",
       "  </thead>\n",
       "  <tbody>\n",
       "    <tr>\n",
       "      <th>aaabckmo-1</th>\n",
       "      <td>16</td>\n",
       "    </tr>\n",
       "    <tr>\n",
       "      <th>aaabhbfn-1</th>\n",
       "      <td>2</td>\n",
       "    </tr>\n",
       "    <tr>\n",
       "      <th>aaabmaca-1</th>\n",
       "      <td>17</td>\n",
       "    </tr>\n",
       "    <tr>\n",
       "      <th>aaackgmh-1</th>\n",
       "      <td>3</td>\n",
       "    </tr>\n",
       "    <tr>\n",
       "      <th>aaadehho-1</th>\n",
       "      <td>2</td>\n",
       "    </tr>\n",
       "    <tr>\n",
       "      <th>...</th>\n",
       "      <td>...</td>\n",
       "    </tr>\n",
       "    <tr>\n",
       "      <th>ojcdjlla-1</th>\n",
       "      <td>4</td>\n",
       "    </tr>\n",
       "    <tr>\n",
       "      <th>ojceeaab-1</th>\n",
       "      <td>5</td>\n",
       "    </tr>\n",
       "    <tr>\n",
       "      <th>ojcfboee-1</th>\n",
       "      <td>5</td>\n",
       "    </tr>\n",
       "    <tr>\n",
       "      <th>ojchagna-1</th>\n",
       "      <td>4</td>\n",
       "    </tr>\n",
       "    <tr>\n",
       "      <th>ojchahbd-1</th>\n",
       "      <td>2</td>\n",
       "    </tr>\n",
       "  </tbody>\n",
       "</table>\n",
       "<p>78899 rows × 1 columns</p>\n",
       "</div>"
      ],
      "text/plain": [
       "            Cluster\n",
       "Barcode            \n",
       "aaabckmo-1       16\n",
       "aaabhbfn-1        2\n",
       "aaabmaca-1       17\n",
       "aaackgmh-1        3\n",
       "aaadehho-1        2\n",
       "...             ...\n",
       "ojcdjlla-1        4\n",
       "ojceeaab-1        5\n",
       "ojcfboee-1        5\n",
       "ojchagna-1        4\n",
       "ojchahbd-1        2\n",
       "\n",
       "[78899 rows x 1 columns]"
      ]
     },
     "execution_count": 40,
     "metadata": {},
     "output_type": "execute_result"
    }
   ],
   "source": [
    "default_clustering = pd.read_csv(path_landscape_files + 'analysis/clustering/gene_expression_graphclust/clusters.csv', index_col=0)\n",
    "default_clustering"
   ]
  },
  {
   "cell_type": "markdown",
   "id": "8c27ce6b-2f0e-4b20-837e-202112bbdd5d",
   "metadata": {},
   "source": [
    "### Save default clustering results"
   ]
  },
  {
   "cell_type": "code",
   "execution_count": 41,
   "id": "52c0c8b9-6e07-4eff-9349-de158b772a71",
   "metadata": {},
   "outputs": [],
   "source": [
    "if not os.path.exists(path_landscape_files + 'cell_clusters/'):\n",
    "    os.mkdir(path_landscape_files + 'cell_clusters/')"
   ]
  },
  {
   "cell_type": "code",
   "execution_count": 50,
   "id": "2aecc2fc-7c60-47a9-afc4-9bb991fc4137",
   "metadata": {},
   "outputs": [
    {
     "data": {
      "text/html": [
       "<div>\n",
       "<style scoped>\n",
       "    .dataframe tbody tr th:only-of-type {\n",
       "        vertical-align: middle;\n",
       "    }\n",
       "\n",
       "    .dataframe tbody tr th {\n",
       "        vertical-align: top;\n",
       "    }\n",
       "\n",
       "    .dataframe thead th {\n",
       "        text-align: right;\n",
       "    }\n",
       "</style>\n",
       "<table border=\"1\" class=\"dataframe\">\n",
       "  <thead>\n",
       "    <tr style=\"text-align: right;\">\n",
       "      <th></th>\n",
       "      <th>cluster</th>\n",
       "    </tr>\n",
       "  </thead>\n",
       "  <tbody>\n",
       "    <tr>\n",
       "      <th>aaabckmo-1</th>\n",
       "      <td>16</td>\n",
       "    </tr>\n",
       "    <tr>\n",
       "      <th>aaabhbfn-1</th>\n",
       "      <td>2</td>\n",
       "    </tr>\n",
       "    <tr>\n",
       "      <th>aaabmaca-1</th>\n",
       "      <td>17</td>\n",
       "    </tr>\n",
       "    <tr>\n",
       "      <th>aaackgmh-1</th>\n",
       "      <td>3</td>\n",
       "    </tr>\n",
       "    <tr>\n",
       "      <th>aaadehho-1</th>\n",
       "      <td>2</td>\n",
       "    </tr>\n",
       "  </tbody>\n",
       "</table>\n",
       "</div>"
      ],
      "text/plain": [
       "           cluster\n",
       "aaabckmo-1      16\n",
       "aaabhbfn-1       2\n",
       "aaabmaca-1      17\n",
       "aaackgmh-1       3\n",
       "aaadehho-1       2"
      ]
     },
     "execution_count": 50,
     "metadata": {},
     "output_type": "execute_result"
    }
   ],
   "source": [
    "default_clustering_ini = pd.DataFrame(default_clustering.values, index=default_clustering.index.tolist(), columns=['cluster'])\n",
    "default_clustering_ini.head()"
   ]
  },
  {
   "cell_type": "code",
   "execution_count": 51,
   "id": "59574b18-20bc-48ee-9e44-1f5f15cc5ff3",
   "metadata": {},
   "outputs": [
    {
     "data": {
      "text/plain": [
       "(84518, 2)"
      ]
     },
     "execution_count": 51,
     "metadata": {},
     "output_type": "execute_result"
    }
   ],
   "source": [
    "meta_cell = pd.read_parquet(path_landscape_files + 'cell_metadata.parquet')\n",
    "meta_cell.shape"
   ]
  },
  {
   "cell_type": "code",
   "execution_count": 52,
   "id": "bcf9a4bb-3d31-47c4-9900-a6546c737a45",
   "metadata": {},
   "outputs": [],
   "source": [
    "default_clustering_ini['cluster'] = default_clustering_ini['cluster'].astype('string')"
   ]
  },
  {
   "cell_type": "code",
   "execution_count": 55,
   "id": "ffd8ac79-6fa1-4a4b-8ef8-d155a68b434f",
   "metadata": {},
   "outputs": [],
   "source": [
    "default_clustering = pd.DataFrame(index=meta_cell.index.tolist())\n",
    "\n",
    "default_clustering.loc[default_clustering_ini.index.tolist(), 'cluster'] = default_clustering_ini['cluster']"
   ]
  },
  {
   "cell_type": "code",
   "execution_count": 58,
   "id": "02c6f212-8a42-4cbe-a5fd-c9e29505b52f",
   "metadata": {},
   "outputs": [],
   "source": [
    "default_clustering.to_parquet(path_landscape_files + 'cell_clusters/cluster.parquet')"
   ]
  },
  {
   "cell_type": "markdown",
   "id": "470bf093-2490-4aea-bef2-4a186fec4e88",
   "metadata": {},
   "source": [
    "### Save cell metadata"
   ]
  },
  {
   "cell_type": "code",
   "execution_count": 36,
   "id": "7dce3079-1251-410d-b918-dad467581421",
   "metadata": {},
   "outputs": [],
   "source": [
    "# do not including clustering information in default cell metadata\n",
    "dega.pre.make_meta_cell_image_coord(\n",
    "    'Xenium', \n",
    "    path_transformation_matrix, \n",
    "    path_meta_cell_micron, \n",
    "    path_meta_cell_image, \n",
    ")"
   ]
  },
  {
   "cell_type": "markdown",
   "id": "e998016a-756e-44b2-8cb3-d04b91e49d01",
   "metadata": {},
   "source": [
    "### Cluster Colors"
   ]
  },
  {
   "cell_type": "code",
   "execution_count": 37,
   "id": "906c861e-3d4c-4f07-b2ff-42ef3a7de934",
   "metadata": {},
   "outputs": [],
   "source": [
    "ser_counts = default_clustering['cluster'].value_counts()\n",
    "clusters = ser_counts.index.tolist()"
   ]
  },
  {
   "cell_type": "code",
   "execution_count": 38,
   "id": "4cbead13-4350-4e3f-9e3a-a6d94d4fac4e",
   "metadata": {},
   "outputs": [],
   "source": [
    "# Get all categorical color palettes from Matplotlib and flatten them into a single list of colors\n",
    "palettes = [plt.get_cmap(name).colors for name in plt.colormaps() if \"tab\" in name]\n",
    "flat_colors = [color for palette in palettes for color in palette]\n",
    "\n",
    "# Convert RGB tuples to hex codes\n",
    "flat_colors_hex = [to_hex(color) for color in flat_colors]\n",
    "\n",
    "# Use modular arithmetic to assign a color to each gene, white for genes with \"Blank\"\n",
    "colors = [\n",
    "    flat_colors_hex[i % len(flat_colors_hex)] if \"Blank\" not in cluster else \"#FFFFFF\"\n",
    "    for i, cluster in enumerate(clusters)\n",
    "]\n",
    "\n",
    "# Create a DataFrame with genes and their assigned colors\n",
    "ser_color = pd.Series(colors, index=clusters, name='color')\n",
    "\n",
    "meta_cluster = pd.DataFrame(ser_color)\n",
    "\n",
    "meta_cluster['count'] = ser_counts\n",
    "\n",
    "meta_cluster.to_parquet(path_landscape_files + 'cell_clusters/meta_cluster.parquet')"
   ]
  },
  {
   "cell_type": "markdown",
   "id": "205f0c7c-b5c8-4ed5-8f63-ea72d26ab63b",
   "metadata": {},
   "source": [
    "### Transcripts"
   ]
  },
  {
   "cell_type": "code",
   "execution_count": 66,
   "id": "1fb304b8-8708-470a-bf9f-1c4b795f4a32",
   "metadata": {},
   "outputs": [
    {
     "name": "stdout",
     "output_type": "stream",
     "text": [
      "CPU times: user 46.5 s, sys: 13.9 s, total: 1min\n",
      "Wall time: 59.7 s\n"
     ]
    }
   ],
   "source": [
    "%%time \n",
    "technology = 'Xenium'\n",
    "path_trx = base_path + 'transcripts.parquet'\n",
    "path_trx_tiles = path_landscape_files + 'transcript_tiles'\n",
    "tile_bounds = dega.pre.make_trx_tiles(\n",
    "    'Xenium', \n",
    "    path_trx, \n",
    "    path_transformation_matrix, \n",
    "    path_trx_tiles,\n",
    "    tile_size=100,\n",
    "    # verbose=True\n",
    ")"
   ]
  },
  {
   "cell_type": "markdown",
   "id": "d433c47a-246c-4157-a6ac-3297e07606ff",
   "metadata": {},
   "source": [
    "### Cell Boundaries"
   ]
  },
  {
   "cell_type": "code",
   "execution_count": 69,
   "id": "5dc9b6fa-0164-4656-a19b-cc4f277c2a23",
   "metadata": {},
   "outputs": [
    {
     "name": "stdout",
     "output_type": "stream",
     "text": [
      "CPU times: user 39.4 s, sys: 3.51 s, total: 42.9 s\n",
      "Wall time: 44.3 s\n"
     ]
    }
   ],
   "source": [
    "%%time\n",
    "path_cell_boundaries = base_path + 'cell_boundaries.parquet'\n",
    "path_output = path_landscape_files + 'cell_segmentation'\n",
    "dega.pre.make_cell_boundary_tiles(\n",
    "    'Xenium',\n",
    "    path_cell_boundaries, \n",
    "    path_meta_cell_micron, \n",
    "    path_transformation_matrix, \n",
    "    path_output,\n",
    "    tile_size=100,\n",
    "    tile_bounds=tile_bounds\n",
    ")"
   ]
  },
  {
   "cell_type": "markdown",
   "id": "20844304-6026-43c8-9696-5a3b406a7843",
   "metadata": {},
   "source": [
    "### Gene Metadata"
   ]
  },
  {
   "cell_type": "code",
   "execution_count": 71,
   "id": "fb0c8928-e98d-4d94-96f0-e0de04105cf2",
   "metadata": {},
   "outputs": [
    {
     "name": "stdout",
     "output_type": "stream",
     "text": [
      "read mtx file from  ../data/xenium_landscapes/Xenium_V1_hBoneMarrow_nondiseased_section_outs_landscape_files/cell_feature_matrix/\n",
      "calculating mean expression from sparse float data\n",
      "calculating variance by looping over rows\n"
     ]
    }
   ],
   "source": [
    "path_cbg = path_landscape_files + 'cell_feature_matrix/'\n",
    "path_output = path_landscape_files + 'gene_metadata.parquet'\n",
    "dega.pre.make_meta_gene('Xenium', path_cbg, path_output)"
   ]
  },
  {
   "cell_type": "markdown",
   "id": "1a4e5e1d-2159-47ef-a4e4-64870d495935",
   "metadata": {},
   "source": [
    "### Max Zoom"
   ]
  },
  {
   "cell_type": "code",
   "execution_count": 72,
   "id": "8d1843a2-7a55-4d9f-b428-d9a122b8707e",
   "metadata": {},
   "outputs": [
    {
     "name": "stdout",
     "output_type": "stream",
     "text": [
      "15\n"
     ]
    }
   ],
   "source": [
    "# Example usage:\n",
    "path_image_pyramid = path_landscape_files + 'pyramid_images/dapi_files/'  # Change this to your actual directory path\n",
    "max_pyramid_zoom = dega.pre.get_max_zoom_level(path_image_pyramid)\n",
    "\n",
    "print(max_pyramid_zoom)"
   ]
  },
  {
   "cell_type": "markdown",
   "id": "2bb4cdb9-25ca-4de9-a10f-99052e4d8ac4",
   "metadata": {},
   "source": [
    "### Cluster Gene Expression"
   ]
  },
  {
   "cell_type": "code",
   "execution_count": 73,
   "id": "f508a94e-5c32-4927-8eab-c82c25ae1214",
   "metadata": {},
   "outputs": [],
   "source": [
    "meta_cell['cluster'] = df_meta['cluster']"
   ]
  },
  {
   "cell_type": "code",
   "execution_count": 75,
   "id": "3df98031-5d3a-49dc-9517-b2cb7b18a2d0",
   "metadata": {},
   "outputs": [],
   "source": [
    "list_ser = []\n",
    "for inst_cat in meta_cell['cluster'].unique().tolist():\n",
    "    if inst_cat is not None:\n",
    "        inst_cells = meta_cell[meta_cell['cluster'] == inst_cat].index.tolist()\n",
    "        # print(inst_cat, len(inst_cells))\n",
    "\n",
    "        inst_ser = cbg.loc[inst_cells].sum()/len(inst_cells)\n",
    "        inst_ser.name = inst_cat\n",
    "\n",
    "        list_ser.append(inst_ser)\n",
    "\n",
    "df_sig = pd.concat(list_ser, axis=1)    \n"
   ]
  },
  {
   "cell_type": "code",
   "execution_count": 76,
   "id": "e27f560d-ad9a-44e6-8804-81cb26d0bec4",
   "metadata": {},
   "outputs": [],
   "source": [
    "df_sig = pd.concat(list_ser, axis=1)\n",
    "# handling weird behavior where there is a multiindex it appears\n",
    "df_sig.columns = df_sig.columns.tolist()\n",
    "df_sig.index = df_sig.index.tolist()"
   ]
  },
  {
   "cell_type": "code",
   "execution_count": 78,
   "id": "85271307-3858-4683-92cb-e56566a1be87",
   "metadata": {},
   "outputs": [
    {
     "data": {
      "text/plain": [
       "(477, 35)"
      ]
     },
     "execution_count": 78,
     "metadata": {},
     "output_type": "execute_result"
    }
   ],
   "source": [
    "keep_genes = df_sig.index.tolist()\n",
    "keep_genes = [x for x in keep_genes if 'Unassigned' not in x]\n",
    "keep_genes = [x for x in keep_genes if 'NegControl' not in x]\n",
    "len(keep_genes)\n",
    "\n",
    "df_sig = df_sig.loc[keep_genes, clusters]\n",
    "df_sig.shape"
   ]
  },
  {
   "cell_type": "code",
   "execution_count": 79,
   "id": "4b5a96d1-0b12-4242-ab0f-206fe4d435fb",
   "metadata": {},
   "outputs": [],
   "source": [
    "df_sig.sparse.to_dense().to_parquet(path_landscape_files + 'df_sig.parquet')"
   ]
  },
  {
   "cell_type": "markdown",
   "id": "5959d69b-63db-4cab-903d-450f05c814ca",
   "metadata": {},
   "source": [
    "### Save Landscape Parameters JSON"
   ]
  },
  {
   "cell_type": "code",
   "execution_count": 80,
   "id": "cc0cc889-2a7a-49d9-9698-6798db28c202",
   "metadata": {},
   "outputs": [],
   "source": [
    "image_info =  [\n",
    "        {\n",
    "            \"name\": \"dapi\",\n",
    "            \"button_name\": \"DAPI\",\n",
    "            \"color\": [\n",
    "                0,\n",
    "                0,\n",
    "                255\n",
    "            ]\n",
    "        }\n",
    " ]"
   ]
  },
  {
   "cell_type": "code",
   "execution_count": 82,
   "id": "aafef853-1a99-464c-b6c1-913e50f0a2e0",
   "metadata": {},
   "outputs": [
    {
     "name": "stdout",
     "output_type": "stream",
     "text": [
      "../data/xenium_landscapes/Xenium_V1_hBoneMarrow_nondiseased_section_outs_landscape_files/pyramid_images/dapi_files/\n"
     ]
    }
   ],
   "source": [
    "dega.pre.save_landscape_parameters(\n",
    "    'Xenium', \n",
    "    path_landscape_files,\n",
    "    'dapi_files',\n",
    "    tile_size=100,\n",
    "    image_info=image_info\n",
    ")"
   ]
  },
  {
   "cell_type": "code",
   "execution_count": null,
   "id": "f8b8f86b-831c-421c-886a-0163f7f44145",
   "metadata": {},
   "outputs": [],
   "source": []
  }
 ],
 "metadata": {
  "kernelspec": {
   "display_name": "Python 3 (ipykernel)",
   "language": "python",
   "name": "python3"
  },
  "language_info": {
   "codemirror_mode": {
    "name": "ipython",
    "version": 3
   },
   "file_extension": ".py",
   "mimetype": "text/x-python",
   "name": "python",
   "nbconvert_exporter": "python",
   "pygments_lexer": "ipython3",
   "version": "3.9.19"
  },
  "widgets": {
   "application/vnd.jupyter.widget-state+json": {
    "state": {},
    "version_major": 2,
    "version_minor": 0
   }
  }
 },
 "nbformat": 4,
 "nbformat_minor": 5
}
