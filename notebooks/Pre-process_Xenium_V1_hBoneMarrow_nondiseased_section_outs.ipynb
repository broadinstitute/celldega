{
 "cells": [
  {
   "cell_type": "markdown",
   "id": "60120245-91a9-4f50-88ef-356faf4687c3",
   "metadata": {},
   "source": [
    "# Pre-process_Xenium_V1_hBoneMarrow_nondiseased_section_outs"
   ]
  },
  {
   "cell_type": "code",
   "execution_count": 1,
   "id": "8aedda0a-f8a2-46cf-a5b5-371b444c917f",
   "metadata": {},
   "outputs": [
    {
     "name": "stdout",
     "output_type": "stream",
     "text": [
      "env: ANYWIDGET_HMR=1\n"
     ]
    }
   ],
   "source": [
    "%load_ext autoreload\n",
    "%autoreload 2\n",
    "%env ANYWIDGET_HMR=1"
   ]
  },
  {
   "cell_type": "code",
   "execution_count": 2,
   "id": "d220d081-49d8-44e5-a7af-7d0d08fe27af",
   "metadata": {},
   "outputs": [],
   "source": [
    "import numpy as np\n",
    "import pandas as pd\n",
    "\n",
    "# macOS requirement\n",
    "import os\n",
    "os.environ['DYLD_LIBRARY_PATH'] = '/opt/homebrew/lib:' + os.environ.get('DYLD_LIBRARY_PATH', '')\n",
    "\n",
    "import celldega as dega\n",
    "\n",
    "import tifffile\n",
    "import zarr\n",
    "\n",
    "import matplotlib.pyplot as plt\n",
    "from matplotlib.colors import to_hex\n",
    "\n",
    "import geopandas as gpd\n",
    "import shapely\n",
    "\n",
    "import tarfile"
   ]
  },
  {
   "cell_type": "code",
   "execution_count": 3,
   "id": "7eac0f6d-c047-4b95-9bc8-737514a08c22",
   "metadata": {},
   "outputs": [],
   "source": [
    "# ls /Volumes/STP_4TB/10X_Genomics_Public_Datasets/Xenium_Datasets/Xenium_V1_hBoneMarrow_acute_lymphoid_leukemia_section_outs/"
   ]
  },
  {
   "cell_type": "code",
   "execution_count": 4,
   "id": "5cad54fd-5eb5-4b5c-bbda-1cfcbf1a12d2",
   "metadata": {},
   "outputs": [
    {
     "name": "stdout",
     "output_type": "stream",
     "text": [
      "analysis.tar.gz               experiment.xenium\n",
      "analysis.zarr.zip             gene_panel.json\n",
      "analysis_summary.html         metrics_summary.csv\n",
      "aux_outputs.tar.gz            morphology.ome.tif\n",
      "cell_boundaries.csv.gz        morphology_focus.ome.tif\n",
      "cell_boundaries.parquet       morphology_mip.ome.tif\n",
      "cell_feature_matrix.h5        nucleus_boundaries.csv.gz\n",
      "cell_feature_matrix.tar.gz    nucleus_boundaries.parquet\n",
      "cell_feature_matrix.zarr.zip  transcripts.csv.gz\n",
      "cells.csv.gz                  transcripts.parquet\n",
      "cells.parquet                 transcripts.zarr.zip\n",
      "cells.zarr.zip\n"
     ]
    }
   ],
   "source": [
    "ls ../data/xenium_data/Xenium_V1_hBoneMarrow_nondiseased_section_outs/"
   ]
  },
  {
   "cell_type": "code",
   "execution_count": 6,
   "id": "e7f41415-36d8-48f9-bf82-b465871a9a66",
   "metadata": {},
   "outputs": [
    {
     "name": "stdout",
     "output_type": "stream",
     "text": [
      "\u001b[1m\u001b[36mXenium_V1_hBoneMarrow_acute_lymphoid_leukemia_section_outs_landscape_files\u001b[m\u001b[m/\n",
      "\u001b[1m\u001b[36mXenium_V1_hBoneMarrow_nondiseased_section_outs_landscape_files\u001b[m\u001b[m/\n"
     ]
    }
   ],
   "source": [
    "ls ../data/xenium_landscapes/"
   ]
  },
  {
   "cell_type": "code",
   "execution_count": 7,
   "id": "4c0b5695-ee4b-4b2b-b620-dfb1780d5d0e",
   "metadata": {},
   "outputs": [],
   "source": [
    "dataset_name = 'Xenium_V1_hBoneMarrow_nondiseased_section_outs'"
   ]
  },
  {
   "cell_type": "code",
   "execution_count": 8,
   "id": "58b5924d-5a8d-45e6-9d0b-1a846c506104",
   "metadata": {},
   "outputs": [],
   "source": [
    "# base_path = '/Volumes/STP_4TB/10X_Genomics_Public_Datasets/Xenium_datasets/' + dataset_name + '/'\n",
    "base_path = '../data/xenium_data/' + dataset_name + '/'"
   ]
  },
  {
   "cell_type": "code",
   "execution_count": 9,
   "id": "e62bc950-cc8c-4f16-8df2-f9818fd44ae9",
   "metadata": {},
   "outputs": [],
   "source": [
    "path_landscape_files = '../data/xenium_landscapes/' + dataset_name + '_landscape_files/'"
   ]
  },
  {
   "cell_type": "code",
   "execution_count": 10,
   "id": "c26ec3ba-b9c2-480d-bf2e-fe5f7469d531",
   "metadata": {},
   "outputs": [
    {
     "data": {
      "text/plain": [
       "'../data/xenium_data/Xenium_V1_hBoneMarrow_nondiseased_section_outs/'"
      ]
     },
     "execution_count": 10,
     "metadata": {},
     "output_type": "execute_result"
    }
   ],
   "source": [
    "base_path"
   ]
  },
  {
   "cell_type": "code",
   "execution_count": 11,
   "id": "ab8798a4-b3ca-4bba-bafb-b74acc2365c1",
   "metadata": {},
   "outputs": [
    {
     "data": {
      "text/plain": [
       "'../data/xenium_landscapes/Xenium_V1_hBoneMarrow_nondiseased_section_outs_landscape_files/'"
      ]
     },
     "execution_count": 11,
     "metadata": {},
     "output_type": "execute_result"
    }
   ],
   "source": [
    "path_landscape_files"
   ]
  },
  {
   "cell_type": "code",
   "execution_count": 12,
   "id": "d59a0077-444c-49f4-ab3a-fadca0cd6e61",
   "metadata": {},
   "outputs": [],
   "source": [
    "if not os.path.exists(path_landscape_files):\n",
    "    os.mkdir(path_landscape_files)"
   ]
  },
  {
   "cell_type": "markdown",
   "id": "a1f032ab-8cb3-4046-9768-eda31cfbd46b",
   "metadata": {},
   "source": [
    "## Unzip Xenium Data"
   ]
  },
  {
   "cell_type": "markdown",
   "id": "711efec8-3ffc-4df8-8e83-6d374b10e79d",
   "metadata": {},
   "source": [
    "#### Decompress Cell Feature Matrix MTX Files"
   ]
  },
  {
   "cell_type": "code",
   "execution_count": 13,
   "id": "1584517b-d2a7-4713-976b-fd0fc6b0d370",
   "metadata": {},
   "outputs": [
    {
     "name": "stdout",
     "output_type": "stream",
     "text": [
      "File ../data/xenium_data/Xenium_V1_hBoneMarrow_nondiseased_section_outs/cell_feature_matrix.tar.gz has been decompressed to ../data/xenium_landscapes/Xenium_V1_hBoneMarrow_nondiseased_section_outs_landscape_files/\n"
     ]
    }
   ],
   "source": [
    "# Path to the tar.gz file you want to decompress\n",
    "tar_file_path = base_path + 'cell_feature_matrix.tar.gz'\n",
    "# Path to the directory where you want to extract the contents\n",
    "output_directory = path_landscape_files\n",
    "\n",
    "# Open the tar.gz file\n",
    "with tarfile.open(tar_file_path, \"r:gz\") as tar:\n",
    "    # Extract all contents to the specified directory\n",
    "    tar.extractall(path=output_directory)\n",
    "\n",
    "print(f\"File {tar_file_path} has been decompressed to {output_directory}\")\n"
   ]
  },
  {
   "cell_type": "markdown",
   "id": "f1ab29ee-5168-4688-8644-cf8b9f5bf389",
   "metadata": {},
   "source": [
    "#### Decompress Xenium Analysis Files"
   ]
  },
  {
   "cell_type": "code",
   "execution_count": 35,
   "id": "f9c789fc-9c35-42e8-91f2-e30f16076015",
   "metadata": {},
   "outputs": [
    {
     "name": "stdout",
     "output_type": "stream",
     "text": [
      "File ../data/xenium_data/Xenium_V1_hBoneMarrow_nondiseased_section_outs/analysis.tar.gz has been decompressed to ../data/xenium_landscapes/Xenium_V1_hBoneMarrow_nondiseased_section_outs_landscape_files/\n"
     ]
    }
   ],
   "source": [
    "# Path to the tar.gz file you want to decompress\n",
    "tar_file_path = base_path + 'analysis.tar.gz'\n",
    "# Path to the directory where you want to extract the contents\n",
    "output_directory = path_landscape_files\n",
    "\n",
    "# Open the tar.gz file\n",
    "with tarfile.open(tar_file_path, \"r:gz\") as tar:\n",
    "    # Extract all contents to the specified directory\n",
    "    tar.extractall(path=output_directory)\n",
    "\n",
    "print(f\"File {tar_file_path} has been decompressed to {output_directory}\")\n"
   ]
  },
  {
   "cell_type": "markdown",
   "id": "fd672cd6-5d92-4dd8-8473-840e6e9538bd",
   "metadata": {},
   "source": [
    "# CBG"
   ]
  },
  {
   "cell_type": "code",
   "execution_count": 14,
   "id": "42a5bc73-6bbc-4bfe-8dba-6a905695d561",
   "metadata": {},
   "outputs": [
    {
     "name": "stdout",
     "output_type": "stream",
     "text": [
      "read mtx file from  ../data/xenium_landscapes/Xenium_V1_hBoneMarrow_nondiseased_section_outs_landscape_files/cell_feature_matrix/\n"
     ]
    },
    {
     "data": {
      "text/html": [
       "<div>\n",
       "<style scoped>\n",
       "    .dataframe tbody tr th:only-of-type {\n",
       "        vertical-align: middle;\n",
       "    }\n",
       "\n",
       "    .dataframe tbody tr th {\n",
       "        vertical-align: top;\n",
       "    }\n",
       "\n",
       "    .dataframe thead th {\n",
       "        text-align: right;\n",
       "    }\n",
       "</style>\n",
       "<table border=\"1\" class=\"dataframe\">\n",
       "  <thead>\n",
       "    <tr style=\"text-align: right;\">\n",
       "      <th>1</th>\n",
       "      <th>ABCC11</th>\n",
       "      <th>ACAN</th>\n",
       "      <th>ACE2</th>\n",
       "      <th>ACKR1</th>\n",
       "      <th>ACTA2</th>\n",
       "      <th>ACTG2</th>\n",
       "      <th>ADAM28</th>\n",
       "      <th>ADAMTS1</th>\n",
       "      <th>ADD2</th>\n",
       "      <th>ADGRE1</th>\n",
       "      <th>...</th>\n",
       "      <th>NegControlCodeword_0534</th>\n",
       "      <th>NegControlCodeword_0535</th>\n",
       "      <th>NegControlCodeword_0536</th>\n",
       "      <th>NegControlCodeword_0537</th>\n",
       "      <th>NegControlCodeword_0538</th>\n",
       "      <th>NegControlCodeword_0539</th>\n",
       "      <th>NegControlCodeword_0540</th>\n",
       "      <th>UnassignedCodeword_0006</th>\n",
       "      <th>UnassignedCodeword_0037</th>\n",
       "      <th>UnassignedCodeword_0069</th>\n",
       "    </tr>\n",
       "    <tr>\n",
       "      <th>0</th>\n",
       "      <th></th>\n",
       "      <th></th>\n",
       "      <th></th>\n",
       "      <th></th>\n",
       "      <th></th>\n",
       "      <th></th>\n",
       "      <th></th>\n",
       "      <th></th>\n",
       "      <th></th>\n",
       "      <th></th>\n",
       "      <th></th>\n",
       "      <th></th>\n",
       "      <th></th>\n",
       "      <th></th>\n",
       "      <th></th>\n",
       "      <th></th>\n",
       "      <th></th>\n",
       "      <th></th>\n",
       "      <th></th>\n",
       "      <th></th>\n",
       "      <th></th>\n",
       "    </tr>\n",
       "  </thead>\n",
       "  <tbody>\n",
       "    <tr>\n",
       "      <th>aaabckmo-1</th>\n",
       "      <td>0</td>\n",
       "      <td>0</td>\n",
       "      <td>0</td>\n",
       "      <td>0</td>\n",
       "      <td>0</td>\n",
       "      <td>0</td>\n",
       "      <td>0</td>\n",
       "      <td>0</td>\n",
       "      <td>0</td>\n",
       "      <td>0</td>\n",
       "      <td>...</td>\n",
       "      <td>0</td>\n",
       "      <td>0</td>\n",
       "      <td>0</td>\n",
       "      <td>0</td>\n",
       "      <td>0</td>\n",
       "      <td>0</td>\n",
       "      <td>0</td>\n",
       "      <td>0</td>\n",
       "      <td>0</td>\n",
       "      <td>0</td>\n",
       "    </tr>\n",
       "    <tr>\n",
       "      <th>aaabhbfn-1</th>\n",
       "      <td>0</td>\n",
       "      <td>0</td>\n",
       "      <td>0</td>\n",
       "      <td>0</td>\n",
       "      <td>0</td>\n",
       "      <td>0</td>\n",
       "      <td>0</td>\n",
       "      <td>0</td>\n",
       "      <td>0</td>\n",
       "      <td>0</td>\n",
       "      <td>...</td>\n",
       "      <td>0</td>\n",
       "      <td>0</td>\n",
       "      <td>0</td>\n",
       "      <td>0</td>\n",
       "      <td>0</td>\n",
       "      <td>0</td>\n",
       "      <td>0</td>\n",
       "      <td>0</td>\n",
       "      <td>0</td>\n",
       "      <td>0</td>\n",
       "    </tr>\n",
       "    <tr>\n",
       "      <th>aaabmaca-1</th>\n",
       "      <td>0</td>\n",
       "      <td>0</td>\n",
       "      <td>0</td>\n",
       "      <td>0</td>\n",
       "      <td>0</td>\n",
       "      <td>0</td>\n",
       "      <td>0</td>\n",
       "      <td>0</td>\n",
       "      <td>0</td>\n",
       "      <td>0</td>\n",
       "      <td>...</td>\n",
       "      <td>0</td>\n",
       "      <td>0</td>\n",
       "      <td>0</td>\n",
       "      <td>0</td>\n",
       "      <td>0</td>\n",
       "      <td>0</td>\n",
       "      <td>0</td>\n",
       "      <td>0</td>\n",
       "      <td>0</td>\n",
       "      <td>0</td>\n",
       "    </tr>\n",
       "    <tr>\n",
       "      <th>aaackgmh-1</th>\n",
       "      <td>0</td>\n",
       "      <td>0</td>\n",
       "      <td>0</td>\n",
       "      <td>0</td>\n",
       "      <td>0</td>\n",
       "      <td>0</td>\n",
       "      <td>0</td>\n",
       "      <td>0</td>\n",
       "      <td>0</td>\n",
       "      <td>0</td>\n",
       "      <td>...</td>\n",
       "      <td>0</td>\n",
       "      <td>0</td>\n",
       "      <td>0</td>\n",
       "      <td>0</td>\n",
       "      <td>0</td>\n",
       "      <td>0</td>\n",
       "      <td>0</td>\n",
       "      <td>0</td>\n",
       "      <td>0</td>\n",
       "      <td>0</td>\n",
       "    </tr>\n",
       "    <tr>\n",
       "      <th>aaadehho-1</th>\n",
       "      <td>0</td>\n",
       "      <td>0</td>\n",
       "      <td>0</td>\n",
       "      <td>0</td>\n",
       "      <td>0</td>\n",
       "      <td>1</td>\n",
       "      <td>0</td>\n",
       "      <td>0</td>\n",
       "      <td>0</td>\n",
       "      <td>0</td>\n",
       "      <td>...</td>\n",
       "      <td>0</td>\n",
       "      <td>0</td>\n",
       "      <td>0</td>\n",
       "      <td>0</td>\n",
       "      <td>0</td>\n",
       "      <td>0</td>\n",
       "      <td>0</td>\n",
       "      <td>0</td>\n",
       "      <td>0</td>\n",
       "      <td>0</td>\n",
       "    </tr>\n",
       "    <tr>\n",
       "      <th>...</th>\n",
       "      <td>...</td>\n",
       "      <td>...</td>\n",
       "      <td>...</td>\n",
       "      <td>...</td>\n",
       "      <td>...</td>\n",
       "      <td>...</td>\n",
       "      <td>...</td>\n",
       "      <td>...</td>\n",
       "      <td>...</td>\n",
       "      <td>...</td>\n",
       "      <td>...</td>\n",
       "      <td>...</td>\n",
       "      <td>...</td>\n",
       "      <td>...</td>\n",
       "      <td>...</td>\n",
       "      <td>...</td>\n",
       "      <td>...</td>\n",
       "      <td>...</td>\n",
       "      <td>...</td>\n",
       "      <td>...</td>\n",
       "      <td>...</td>\n",
       "    </tr>\n",
       "    <tr>\n",
       "      <th>ojcdjlla-1</th>\n",
       "      <td>0</td>\n",
       "      <td>0</td>\n",
       "      <td>0</td>\n",
       "      <td>0</td>\n",
       "      <td>0</td>\n",
       "      <td>0</td>\n",
       "      <td>0</td>\n",
       "      <td>0</td>\n",
       "      <td>0</td>\n",
       "      <td>0</td>\n",
       "      <td>...</td>\n",
       "      <td>0</td>\n",
       "      <td>0</td>\n",
       "      <td>0</td>\n",
       "      <td>0</td>\n",
       "      <td>0</td>\n",
       "      <td>0</td>\n",
       "      <td>0</td>\n",
       "      <td>0</td>\n",
       "      <td>0</td>\n",
       "      <td>0</td>\n",
       "    </tr>\n",
       "    <tr>\n",
       "      <th>ojceeaab-1</th>\n",
       "      <td>0</td>\n",
       "      <td>0</td>\n",
       "      <td>0</td>\n",
       "      <td>0</td>\n",
       "      <td>0</td>\n",
       "      <td>0</td>\n",
       "      <td>0</td>\n",
       "      <td>0</td>\n",
       "      <td>0</td>\n",
       "      <td>0</td>\n",
       "      <td>...</td>\n",
       "      <td>0</td>\n",
       "      <td>0</td>\n",
       "      <td>0</td>\n",
       "      <td>0</td>\n",
       "      <td>0</td>\n",
       "      <td>0</td>\n",
       "      <td>0</td>\n",
       "      <td>0</td>\n",
       "      <td>0</td>\n",
       "      <td>0</td>\n",
       "    </tr>\n",
       "    <tr>\n",
       "      <th>ojcfboee-1</th>\n",
       "      <td>0</td>\n",
       "      <td>0</td>\n",
       "      <td>0</td>\n",
       "      <td>0</td>\n",
       "      <td>0</td>\n",
       "      <td>0</td>\n",
       "      <td>0</td>\n",
       "      <td>0</td>\n",
       "      <td>0</td>\n",
       "      <td>0</td>\n",
       "      <td>...</td>\n",
       "      <td>0</td>\n",
       "      <td>0</td>\n",
       "      <td>0</td>\n",
       "      <td>0</td>\n",
       "      <td>0</td>\n",
       "      <td>0</td>\n",
       "      <td>0</td>\n",
       "      <td>0</td>\n",
       "      <td>0</td>\n",
       "      <td>0</td>\n",
       "    </tr>\n",
       "    <tr>\n",
       "      <th>ojchagna-1</th>\n",
       "      <td>0</td>\n",
       "      <td>0</td>\n",
       "      <td>0</td>\n",
       "      <td>0</td>\n",
       "      <td>0</td>\n",
       "      <td>0</td>\n",
       "      <td>0</td>\n",
       "      <td>0</td>\n",
       "      <td>0</td>\n",
       "      <td>0</td>\n",
       "      <td>...</td>\n",
       "      <td>0</td>\n",
       "      <td>0</td>\n",
       "      <td>0</td>\n",
       "      <td>0</td>\n",
       "      <td>0</td>\n",
       "      <td>0</td>\n",
       "      <td>0</td>\n",
       "      <td>0</td>\n",
       "      <td>0</td>\n",
       "      <td>0</td>\n",
       "    </tr>\n",
       "    <tr>\n",
       "      <th>ojchahbd-1</th>\n",
       "      <td>0</td>\n",
       "      <td>0</td>\n",
       "      <td>0</td>\n",
       "      <td>0</td>\n",
       "      <td>0</td>\n",
       "      <td>0</td>\n",
       "      <td>0</td>\n",
       "      <td>0</td>\n",
       "      <td>1</td>\n",
       "      <td>0</td>\n",
       "      <td>...</td>\n",
       "      <td>0</td>\n",
       "      <td>0</td>\n",
       "      <td>0</td>\n",
       "      <td>0</td>\n",
       "      <td>0</td>\n",
       "      <td>0</td>\n",
       "      <td>0</td>\n",
       "      <td>0</td>\n",
       "      <td>0</td>\n",
       "      <td>0</td>\n",
       "    </tr>\n",
       "  </tbody>\n",
       "</table>\n",
       "<p>84518 rows × 541 columns</p>\n",
       "</div>"
      ],
      "text/plain": [
       "1           ABCC11  ACAN  ACE2  ACKR1  ACTA2  ACTG2  ADAM28  ADAMTS1  ADD2  \\\n",
       "0                                                                            \n",
       "aaabckmo-1       0     0     0      0      0      0       0        0     0   \n",
       "aaabhbfn-1       0     0     0      0      0      0       0        0     0   \n",
       "aaabmaca-1       0     0     0      0      0      0       0        0     0   \n",
       "aaackgmh-1       0     0     0      0      0      0       0        0     0   \n",
       "aaadehho-1       0     0     0      0      0      1       0        0     0   \n",
       "...            ...   ...   ...    ...    ...    ...     ...      ...   ...   \n",
       "ojcdjlla-1       0     0     0      0      0      0       0        0     0   \n",
       "ojceeaab-1       0     0     0      0      0      0       0        0     0   \n",
       "ojcfboee-1       0     0     0      0      0      0       0        0     0   \n",
       "ojchagna-1       0     0     0      0      0      0       0        0     0   \n",
       "ojchahbd-1       0     0     0      0      0      0       0        0     1   \n",
       "\n",
       "1           ADGRE1  ...  NegControlCodeword_0534  NegControlCodeword_0535  \\\n",
       "0                   ...                                                     \n",
       "aaabckmo-1       0  ...                        0                        0   \n",
       "aaabhbfn-1       0  ...                        0                        0   \n",
       "aaabmaca-1       0  ...                        0                        0   \n",
       "aaackgmh-1       0  ...                        0                        0   \n",
       "aaadehho-1       0  ...                        0                        0   \n",
       "...            ...  ...                      ...                      ...   \n",
       "ojcdjlla-1       0  ...                        0                        0   \n",
       "ojceeaab-1       0  ...                        0                        0   \n",
       "ojcfboee-1       0  ...                        0                        0   \n",
       "ojchagna-1       0  ...                        0                        0   \n",
       "ojchahbd-1       0  ...                        0                        0   \n",
       "\n",
       "1           NegControlCodeword_0536  NegControlCodeword_0537  \\\n",
       "0                                                              \n",
       "aaabckmo-1                        0                        0   \n",
       "aaabhbfn-1                        0                        0   \n",
       "aaabmaca-1                        0                        0   \n",
       "aaackgmh-1                        0                        0   \n",
       "aaadehho-1                        0                        0   \n",
       "...                             ...                      ...   \n",
       "ojcdjlla-1                        0                        0   \n",
       "ojceeaab-1                        0                        0   \n",
       "ojcfboee-1                        0                        0   \n",
       "ojchagna-1                        0                        0   \n",
       "ojchahbd-1                        0                        0   \n",
       "\n",
       "1           NegControlCodeword_0538  NegControlCodeword_0539  \\\n",
       "0                                                              \n",
       "aaabckmo-1                        0                        0   \n",
       "aaabhbfn-1                        0                        0   \n",
       "aaabmaca-1                        0                        0   \n",
       "aaackgmh-1                        0                        0   \n",
       "aaadehho-1                        0                        0   \n",
       "...                             ...                      ...   \n",
       "ojcdjlla-1                        0                        0   \n",
       "ojceeaab-1                        0                        0   \n",
       "ojcfboee-1                        0                        0   \n",
       "ojchagna-1                        0                        0   \n",
       "ojchahbd-1                        0                        0   \n",
       "\n",
       "1           NegControlCodeword_0540  UnassignedCodeword_0006  \\\n",
       "0                                                              \n",
       "aaabckmo-1                        0                        0   \n",
       "aaabhbfn-1                        0                        0   \n",
       "aaabmaca-1                        0                        0   \n",
       "aaackgmh-1                        0                        0   \n",
       "aaadehho-1                        0                        0   \n",
       "...                             ...                      ...   \n",
       "ojcdjlla-1                        0                        0   \n",
       "ojceeaab-1                        0                        0   \n",
       "ojcfboee-1                        0                        0   \n",
       "ojchagna-1                        0                        0   \n",
       "ojchahbd-1                        0                        0   \n",
       "\n",
       "1           UnassignedCodeword_0037  UnassignedCodeword_0069  \n",
       "0                                                             \n",
       "aaabckmo-1                        0                        0  \n",
       "aaabhbfn-1                        0                        0  \n",
       "aaabmaca-1                        0                        0  \n",
       "aaackgmh-1                        0                        0  \n",
       "aaadehho-1                        0                        0  \n",
       "...                             ...                      ...  \n",
       "ojcdjlla-1                        0                        0  \n",
       "ojceeaab-1                        0                        0  \n",
       "ojcfboee-1                        0                        0  \n",
       "ojchagna-1                        0                        0  \n",
       "ojchahbd-1                        0                        0  \n",
       "\n",
       "[84518 rows x 541 columns]"
      ]
     },
     "execution_count": 14,
     "metadata": {},
     "output_type": "execute_result"
    }
   ],
   "source": [
    "cbg = dega.pre.read_cbg_mtx(path_landscape_files + 'cell_feature_matrix/')\n",
    "cbg"
   ]
  },
  {
   "cell_type": "code",
   "execution_count": 15,
   "id": "98afda8e-27d5-40d1-9d04-3cb94f31f0a1",
   "metadata": {},
   "outputs": [
    {
     "name": "stdout",
     "output_type": "stream",
     "text": [
      "calculating mean expression from sparse float data\n",
      "calculating variance by looping over rows\n"
     ]
    }
   ],
   "source": [
    "meta_gene_exp = dega.pre.calc_meta_gene_data(cbg)"
   ]
  },
  {
   "cell_type": "markdown",
   "id": "02e389f7-4b45-4b9c-a671-0a0a8d095f0e",
   "metadata": {},
   "source": [
    "### Gene Metadata"
   ]
  },
  {
   "cell_type": "code",
   "execution_count": 18,
   "id": "ba4177f0-cde5-44fa-acf9-70a492d58771",
   "metadata": {},
   "outputs": [
    {
     "name": "stdout",
     "output_type": "stream",
     "text": [
      "read mtx file from  ../data/xenium_landscapes/Xenium_V1_hBoneMarrow_nondiseased_section_outs_landscape_files/cell_feature_matrix/\n",
      "calculating mean expression from sparse float data\n",
      "calculating variance by looping over rows\n"
     ]
    }
   ],
   "source": [
    "path_cbg = path_landscape_files + 'cell_feature_matrix/'\n",
    "path_output = path_landscape_files + 'meta_gene.parquet'\n",
    "dega.pre.make_meta_gene('Xenium', path_cbg, path_output)"
   ]
  },
  {
   "cell_type": "markdown",
   "id": "fdd13ecc-dbc9-4fca-8e45-4318e6831784",
   "metadata": {},
   "source": [
    "### Cell-by-gene Files"
   ]
  },
  {
   "cell_type": "code",
   "execution_count": 19,
   "id": "804d645f-6bf4-4ef3-9972-6d9b9df56afe",
   "metadata": {},
   "outputs": [
    {
     "name": "stdout",
     "output_type": "stream",
     "text": [
      "0\n",
      "100\n",
      "200\n",
      "300\n",
      "400\n",
      "500\n"
     ]
    }
   ],
   "source": [
    "dega.pre.save_cbg_gene_parquets(path_landscape_files, cbg, verbose=True)"
   ]
  },
  {
   "cell_type": "markdown",
   "id": "95f1c52d-8ac3-4d97-88a7-4752fee554fb",
   "metadata": {},
   "source": [
    "### Image Tiles"
   ]
  },
  {
   "cell_type": "code",
   "execution_count": 20,
   "id": "6bc3160b-8c6a-424e-8db6-fb755b0a60c7",
   "metadata": {},
   "outputs": [],
   "source": [
    "import tifffile\n",
    "\n",
    "# Path to your OME-TIFF file\n",
    "file_path = base_path + 'morphology_focus.ome.tif'\n",
    "\n",
    "# Open the OME-TIFF file and read the image data\n",
    "with tifffile.TiffFile(file_path) as tif:\n",
    "    series = tif.series[0]  # Assuming you are interested in the first series\n",
    "    image_data = series.asarray()\n"
   ]
  },
  {
   "cell_type": "code",
   "execution_count": 21,
   "id": "0e0a1a57-e614-4f0b-b2eb-f8ee462d9520",
   "metadata": {},
   "outputs": [
    {
     "data": {
      "text/plain": [
       "(17142, 48268)"
      ]
     },
     "execution_count": 21,
     "metadata": {},
     "output_type": "execute_result"
    }
   ],
   "source": [
    "image_data.shape"
   ]
  },
  {
   "cell_type": "code",
   "execution_count": 22,
   "id": "2aa7e765-4494-4172-b9a6-992bcbabe86a",
   "metadata": {},
   "outputs": [],
   "source": [
    "# Save the image data to a regular TIFF file without compression\n",
    "tifffile.imwrite(path_landscape_files + 'output_regular.tif', image_data, compression=None)"
   ]
  },
  {
   "cell_type": "code",
   "execution_count": 23,
   "id": "c2a68fc1-28c4-4feb-a058-fb71f8241c4f",
   "metadata": {},
   "outputs": [],
   "source": [
    "image_ds = dega.pre.reduce_image_size(\n",
    "    path_landscape_files + 'output_regular.tif', \n",
    "    0.5, \n",
    "    path_landscape_files\n",
    ")"
   ]
  },
  {
   "cell_type": "code",
   "execution_count": 24,
   "id": "500431f0-46ba-4945-985b-c6ce67122bc0",
   "metadata": {},
   "outputs": [],
   "source": [
    "image_jpeg = dega.pre.convert_to_jpeg(\n",
    "    image_ds, \n",
    "    quality=100\n",
    ")"
   ]
  },
  {
   "cell_type": "code",
   "execution_count": 25,
   "id": "a59516aa-761e-4031-83bd-f11f78064128",
   "metadata": {},
   "outputs": [],
   "source": [
    "dega.pre.make_deepzoom_pyramid(\n",
    "    image_jpeg, \n",
    "    path_landscape_files + 'pyramid_images/', \n",
    "    'dapi'\n",
    ")"
   ]
  },
  {
   "cell_type": "markdown",
   "id": "76719566-51da-48da-92e8-1edd6ef0bba3",
   "metadata": {},
   "source": [
    "### Cell Metadata"
   ]
  },
  {
   "cell_type": "code",
   "execution_count": 26,
   "id": "eaa2a440-accc-4538-acb7-6963d173c71e",
   "metadata": {},
   "outputs": [],
   "source": [
    "# Function to open a Zarr file\n",
    "def open_zarr(path: str) -> zarr.Group:\n",
    "    store = (zarr.ZipStore(path, mode=\"r\")\n",
    "    if path.endswith(\".zip\")\n",
    "    else zarr.DirectoryStore(path)\n",
    "    )\n",
    "    return zarr.group(store=store)\n",
    "\n",
    "# For example, use the above function to open the cells Zarr file, which contains segmentation mask Zarr arrays\n",
    "root = open_zarr(base_path + \"cells.zarr.zip\")\n",
    "\n",
    "# # Look at group array info and structure\n",
    "# root.info\n",
    "# root.tree() # shows structure, array dimensions, data types\n"
   ]
  },
  {
   "cell_type": "code",
   "execution_count": 27,
   "id": "e9bcd108-14d2-4d1a-9fa9-2650d8cb9f7c",
   "metadata": {},
   "outputs": [
    {
     "data": {
      "text/plain": [
       "array([[4.705882, 0.      , 0.      , 0.      ],\n",
       "       [0.      , 4.705882, 0.      , 0.      ],\n",
       "       [0.      , 0.      , 1.      , 0.      ],\n",
       "       [0.      , 0.      , 0.      , 1.      ]], dtype=float32)"
      ]
     },
     "execution_count": 27,
     "metadata": {},
     "output_type": "execute_result"
    }
   ],
   "source": [
    "transformation_matrix = root['masks']['homogeneous_transform'][:]\n",
    "transformation_matrix"
   ]
  },
  {
   "cell_type": "code",
   "execution_count": 28,
   "id": "3805253f-43ac-4c45-9dcb-c2ed3e530cdb",
   "metadata": {},
   "outputs": [],
   "source": [
    "pd.DataFrame(transformation_matrix[:3,:3]).to_csv(\n",
    "    path_landscape_files + 'xenium_transform.csv', \n",
    "    sep=' ', \n",
    "    header=False, \n",
    "    index=False\n",
    ")"
   ]
  },
  {
   "cell_type": "code",
   "execution_count": 31,
   "id": "fb49a050-522b-4472-89ff-74388997e11c",
   "metadata": {},
   "outputs": [],
   "source": [
    "# usecols = ['cell_id', 'x_centroid', 'y_centroid']\n",
    "# meta_cell = pd.read_csv(base_path + 'cells.csv.gz', index_col=0, usecols=usecols)\n",
    "# meta_cell.columns = ['center_x', 'center_y']\n",
    "# meta_cell"
   ]
  },
  {
   "cell_type": "code",
   "execution_count": 38,
   "id": "e60bfec5-bb5e-467b-a39f-d9c41f228f37",
   "metadata": {},
   "outputs": [],
   "source": [
    "path_transformation_matrix = path_landscape_files + 'xenium_transform.csv'\n",
    "path_meta_cell_micron = base_path + 'cells.csv.gz'\n",
    "path_meta_cell_image = path_landscape_files + 'landscape_files/cell_metadata.parquet'"
   ]
  },
  {
   "cell_type": "code",
   "execution_count": 39,
   "id": "bcf9a4bb-3d31-47c4-9900-a6546c737a45",
   "metadata": {},
   "outputs": [],
   "source": [
    "df_meta = pd.read_csv(path_landscape_files + 'analysis/clustering/gene_expression_graphclust/clusters.csv', index_col=0)\n",
    "df_meta['Cluster'] = df_meta['Cluster'].astype('string')\n",
    "df_meta.columns = ['cluster']"
   ]
  },
  {
   "cell_type": "code",
   "execution_count": null,
   "id": "7dce3079-1251-410d-b918-dad467581421",
   "metadata": {},
   "outputs": [],
   "source": [
    "dega.pre.make_meta_cell_image_coord(\n",
    "    'Xenium', \n",
    "    path_transformation_matrix, \n",
    "    path_meta_cell_micron, \n",
    "    path_meta_cell_image, \n",
    "    df_meta=df_meta\n",
    ")"
   ]
  },
  {
   "cell_type": "code",
   "execution_count": null,
   "id": "38aa55c3-b45b-4fc9-b8d1-303990ea6e7d",
   "metadata": {},
   "outputs": [],
   "source": []
  }
 ],
 "metadata": {
  "kernelspec": {
   "display_name": "Python 3 (ipykernel)",
   "language": "python",
   "name": "python3"
  },
  "language_info": {
   "codemirror_mode": {
    "name": "ipython",
    "version": 3
   },
   "file_extension": ".py",
   "mimetype": "text/x-python",
   "name": "python",
   "nbconvert_exporter": "python",
   "pygments_lexer": "ipython3",
   "version": "3.9.19"
  },
  "widgets": {
   "application/vnd.jupyter.widget-state+json": {
    "state": {},
    "version_major": 2,
    "version_minor": 0
   }
  }
 },
 "nbformat": 4,
 "nbformat_minor": 5
}
