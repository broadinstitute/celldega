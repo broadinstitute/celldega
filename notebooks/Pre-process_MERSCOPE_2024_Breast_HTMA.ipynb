{
 "cells": [
  {
   "cell_type": "markdown",
   "id": "8ce6b74e-54af-48ba-abf2-7ce2caa573bf",
   "metadata": {},
   "source": [
    "# Secret Pre-Landscape Notebook MERSCOPE"
   ]
  },
  {
   "cell_type": "code",
   "execution_count": 1,
   "id": "b81ab32e",
   "metadata": {},
   "outputs": [
    {
     "name": "stdout",
     "output_type": "stream",
     "text": [
      "env: ANYWIDGET_HMR=1\n"
     ]
    }
   ],
   "source": [
    "%load_ext autoreload\n",
    "%autoreload 2\n",
    "%env ANYWIDGET_HMR=1"
   ]
  },
  {
   "cell_type": "code",
   "execution_count": 1,
   "id": "7feac363",
   "metadata": {},
   "outputs": [],
   "source": [
    "\n",
    "import numpy as np\n",
    "import pandas as pd\n",
    "import tifffile\n",
    "import os\n",
    "import celldega as dega\n",
    "\n",
    "technology = 'MERSCOPE'"
   ]
  },
  {
   "cell_type": "code",
   "execution_count": 3,
   "id": "04b18115",
   "metadata": {},
   "outputs": [],
   "source": [
    "sample = '2024_merscope_breast_htma'\n",
    "region = 0\n",
    "\n",
    "DATA_DIR = f'/Users/whuan/dev/ist_benchmarking/data'\n",
    "\n",
    "data_dir = f'{DATA_DIR}/{sample}'\n",
    "data_dir_region = f'{DATA_DIR}/{sample}/region_{region}'\n",
    "path_landscape_files = f'{DATA_DIR}/landscapes/{sample}'\n",
    "path_landscape_files_region = f'{DATA_DIR}/landscapes/{sample}/region_{region}'\n",
    "\n",
    "\n",
    "for folder in [data_dir, data_dir_region, path_landscape_files, path_landscape_files_region]:\n",
    "    if not os.path.exists(folder):\n",
    "        os.mkdir(folder)\n",
    "        print (folder)"
   ]
  },
  {
   "cell_type": "markdown",
   "id": "313cbe24",
   "metadata": {},
   "source": [
    "# Copy data from Google bucket"
   ]
  },
  {
   "cell_type": "code",
   "execution_count": 4,
   "id": "6817b8f6-76d0-40a8-aeee-b03bf60ac499",
   "metadata": {},
   "outputs": [
    {
     "name": "stdout",
     "output_type": "stream",
     "text": [
      "images/mosaic_DAPI_z1.tif is previously downloaded\n",
      "images/mosaic_Cellbound1_z1.tif is previously downloaded\n",
      "images/micron_to_mosaic_pixel_transform.csv is previously downloaded\n",
      "cell_metadata.csv is previously downloaded\n",
      "detected_transcripts.csv is previously downloaded\n",
      "cell_boundaries.parquet is previously downloaded\n",
      "cell_by_gene.csv is previously downloaded\n"
     ]
    }
   ],
   "source": [
    "raw_data_bucket = 'fc-b8e703d3-de2d-4532-94cc-efe864b4feea/SPARC/Revisions/202405032008_SPARCRevisionsHTMAJN3May24_VMSC11302'\n",
    "\n",
    "for file in [\n",
    "    'images/mosaic_DAPI_z1.tif',\n",
    "    'images/mosaic_Cellbound1_z1.tif',\n",
    "    'images/micron_to_mosaic_pixel_transform.csv',\n",
    "    'cell_metadata.csv',\n",
    "    'detected_transcripts.csv',\n",
    "    'cell_boundaries.parquet',\n",
    "    'cell_by_gene.csv'\n",
    "    ]:\n",
    "\n",
    "    if os.path.exists(f\"{data_dir_region}/{file.split('/')[-1]}\"):\n",
    "        print (f'{file} is previously downloaded')\n",
    "    else:\n",
    "        cmd = f'gsutil cp gs://{raw_data_bucket}/region_{region}/{file} {data_dir_region}/'\n",
    "        print (cmd)\n",
    "        ! {cmd}"
   ]
  },
  {
   "cell_type": "markdown",
   "id": "af75475c-ab68-4606-9539-cb56e5d3db33",
   "metadata": {},
   "source": [
    "## Make Pyramidal Image"
   ]
  },
  {
   "cell_type": "code",
   "execution_count": 5,
   "id": "7507827f",
   "metadata": {},
   "outputs": [],
   "source": [
    "image_scale = 1"
   ]
  },
  {
   "cell_type": "code",
   "execution_count": 7,
   "id": "1d80ceb7",
   "metadata": {},
   "outputs": [],
   "source": [
    "\n",
    "channel = 'dapi'\n",
    "\n",
    "# Open the OME-TIFF file and read the image data\n",
    "with tifffile.TiffFile(f'{data_dir_region}/mosaic_DAPI_z1.tif') as tif:\n",
    "    series = tif.series[0]  # Assuming you are interested in the first series\n",
    "    image_data = series.asarray()\n",
    "\n",
    "if image_data.ndim==2:\n",
    "    image_data_scaled = image_data[:,:] * 2\n",
    "elif image_data.ndim==3:\n",
    "    image_data_scaled = image_data[0,:,:] * 2\n",
    "\n",
    "\n",
    "# Save the image data to a regular TIFF file without compression\n",
    "tifffile.imwrite(f'{path_landscape_files_region}/output_regular.tif', image_data_scaled, compression=None)\n",
    "image_ds = dega.pre.reduce_image_size(f'{path_landscape_files_region}/output_regular.tif', image_scale, path_landscape_files_region)\n",
    "image_png = dega.pre.convert_to_png(image_ds)\n",
    "dega.pre.make_deepzoom_pyramid(image_png, f\"{path_landscape_files_region}/pyramid_images\", channel, suffix=\".webp[Q=100]\")"
   ]
  },
  {
   "cell_type": "markdown",
   "id": "3a31126a-6889-4c8b-b36c-2033a2e18a95",
   "metadata": {},
   "source": [
    "## Cell Metadata"
   ]
  },
  {
   "cell_type": "code",
   "execution_count": 6,
   "id": "9af24a54-3091-4079-ba5d-1b59a4221fe9",
   "metadata": {},
   "outputs": [],
   "source": [
    "path_transformation_matrix = f'{data_dir_region}/micron_to_mosaic_pixel_transform.csv'\n",
    "path_meta_cell_micron = f'{data_dir_region}/cell_metadata.csv'\n",
    "path_meta_cell_image = f'{path_landscape_files_region}/cell_metadata.parquet'"
   ]
  },
  {
   "cell_type": "code",
   "execution_count": 7,
   "id": "49889d92-db9e-43f9-a10f-9ad26d26919a",
   "metadata": {},
   "outputs": [],
   "source": [
    "dega.pre.make_meta_cell_image_coord(\n",
    "    'MERSCOPE', \n",
    "    path_transformation_matrix, \n",
    "    path_meta_cell_micron, \n",
    "    path_meta_cell_image, \n",
    "    image_scale=image_scale\n",
    ")"
   ]
  },
  {
   "cell_type": "markdown",
   "id": "a3ff1e07-cdfa-4010-a6c0-913d75286557",
   "metadata": {},
   "source": [
    "## Transcripts"
   ]
  },
  {
   "cell_type": "code",
   "execution_count": 11,
   "id": "205741d0-ab73-442a-a476-9090c3f7a3ef",
   "metadata": {},
   "outputs": [
    {
     "name": "stdout",
     "output_type": "stream",
     "text": [
      "CPU times: user 10min 31s, sys: 20.8 s, total: 10min 52s\n",
      "Wall time: 10min 59s\n"
     ]
    }
   ],
   "source": [
    "%%time\n",
    "tile_size = 250 #\n",
    "path_trx = f'{data_dir_region}/detected_transcripts.csv'\n",
    "path_trx_tiles = f'{path_landscape_files_region}/transcript_tiles'\n",
    "\n",
    "tile_bounds = dega.pre.make_trx_tiles(\n",
    "    technology, \n",
    "    path_trx, \n",
    "    path_transformation_matrix, \n",
    "    path_trx_tiles,\n",
    "    tile_size=tile_size,\n",
    "    # verbose=True\n",
    "    image_scale=image_scale\n",
    ")"
   ]
  },
  {
   "cell_type": "markdown",
   "id": "02c1b11b-0c8d-4dce-a265-6b9a1b623e99",
   "metadata": {},
   "source": [
    "## Cell Boundaries"
   ]
  },
  {
   "cell_type": "code",
   "execution_count": 13,
   "id": "43d99bf8-550f-480a-91ee-a59815adda5c",
   "metadata": {},
   "outputs": [
    {
     "name": "stdout",
     "output_type": "stream",
     "text": [
      "row 0\n",
      "row 2\n",
      "row 4\n",
      "row 6\n",
      "row 8\n",
      "row 10\n",
      "row 12\n",
      "row 14\n",
      "row 16\n",
      "row 18\n",
      "row 20\n",
      "row 22\n",
      "row 24\n",
      "row 26\n",
      "row 28\n",
      "row 30\n",
      "row 32\n",
      "row 34\n",
      "row 36\n",
      "row 38\n",
      "row 40\n",
      "row 42\n",
      "row 44\n",
      "row 46\n",
      "row 48\n",
      "row 50\n",
      "row 52\n",
      "row 54\n",
      "row 56\n",
      "row 58\n",
      "row 60\n",
      "row 62\n",
      "row 64\n",
      "row 66\n",
      "row 68\n",
      "row 70\n",
      "row 72\n",
      "row 74\n",
      "row 76\n",
      "row 78\n",
      "row 80\n",
      "row 82\n",
      "row 84\n",
      "row 86\n",
      "row 88\n",
      "row 90\n",
      "row 92\n",
      "row 94\n",
      "row 96\n",
      "row 98\n",
      "row 100\n",
      "row 102\n",
      "row 104\n",
      "row 106\n",
      "row 108\n",
      "row 110\n",
      "row 112\n",
      "row 114\n",
      "row 116\n",
      "row 118\n",
      "row 120\n",
      "row 122\n",
      "row 124\n",
      "row 126\n",
      "row 128\n",
      "row 130\n",
      "row 132\n",
      "row 134\n",
      "row 136\n",
      "row 138\n",
      "row 140\n",
      "row 142\n",
      "row 144\n",
      "row 146\n",
      "row 148\n",
      "row 150\n",
      "row 152\n",
      "row 154\n",
      "row 156\n",
      "row 158\n",
      "row 160\n",
      "row 162\n",
      "row 164\n",
      "row 166\n",
      "row 168\n",
      "row 170\n",
      "row 172\n",
      "row 174\n",
      "row 176\n",
      "row 178\n",
      "row 180\n",
      "row 182\n",
      "row 184\n",
      "row 186\n",
      "row 188\n",
      "row 190\n",
      "row 192\n",
      "row 194\n",
      "row 196\n",
      "row 198\n",
      "row 200\n",
      "row 202\n",
      "row 204\n",
      "row 206\n",
      "row 208\n",
      "row 210\n",
      "row 212\n",
      "row 214\n",
      "CPU times: user 25min 44s, sys: 33 s, total: 26min 17s\n",
      "Wall time: 26min 35s\n"
     ]
    }
   ],
   "source": [
    "%%time\n",
    "\n",
    "path_cell_boundaries = f'{data_dir_region}/cell_boundaries.parquet'\n",
    "path_meta_cell_micron = f'{data_dir_region}/cell_metadata.csv'\n",
    "path_transformation_matrix = f'{data_dir_region}/micron_to_mosaic_pixel_transform.csv'\n",
    "path_output = f'{path_landscape_files_region}/cell_segmentation'\n",
    "\n",
    "dega.pre.make_cell_boundary_tiles(\n",
    "    technology,\n",
    "    path_cell_boundaries, \n",
    "    path_meta_cell_micron, \n",
    "    path_transformation_matrix, \n",
    "    path_output,\n",
    "    tile_size=tile_size,\n",
    "    tile_bounds=tile_bounds,\n",
    "    image_scale=image_scale\n",
    ")"
   ]
  },
  {
   "cell_type": "markdown",
   "id": "70b029b4-0c12-41ff-a120-bbffee2693a3",
   "metadata": {},
   "source": [
    "## Gene Metadata"
   ]
  },
  {
   "cell_type": "code",
   "execution_count": 14,
   "id": "b69f28a4-6187-47f4-bf0e-afdfbe502fd0",
   "metadata": {},
   "outputs": [
    {
     "name": "stdout",
     "output_type": "stream",
     "text": [
      "cbg is a dense DataFrame. Proceeding with dense operations.\n",
      "Calculating mean expression\n",
      "Calculating variance\n",
      "Calculating maximum expression\n",
      "Calculating proportion of non-zero expression\n"
     ]
    }
   ],
   "source": [
    "path_cbg = f'{data_dir_region}/cell_by_gene.csv'\n",
    "path_output = f'{path_landscape_files_region}/meta_gene.parquet'\n",
    "dega.pre.make_meta_gene(technology, path_cbg, path_output)\n"
   ]
  },
  {
   "cell_type": "markdown",
   "id": "744becff-ce8d-4ae6-a24a-3b63bc3fd5cf",
   "metadata": {},
   "source": [
    "## Get Max Zoom\n",
    "Save this to a file in the landscape files, read it on the front-end, and use it in the code. "
   ]
  },
  {
   "cell_type": "code",
   "execution_count": 15,
   "id": "db351b05-adc0-4195-8b54-5fa032bb00e6",
   "metadata": {},
   "outputs": [
    {
     "name": "stdout",
     "output_type": "stream",
     "text": [
      "17\n"
     ]
    }
   ],
   "source": [
    "# Example usage:\n",
    "path_image_pyramid = f\"{path_landscape_files_region}/pyramid_images/dapi_files\"  # Change this to your actual directory path\n",
    "max_pyramid_zoom = dega.pre.get_max_zoom_level(path_image_pyramid)\n",
    "\n",
    "print(max_pyramid_zoom)"
   ]
  },
  {
   "cell_type": "markdown",
   "id": "27927351",
   "metadata": {},
   "source": [
    "## Save Landscape Parameters JSON"
   ]
  },
  {
   "cell_type": "code",
   "execution_count": 16,
   "id": "781cc33b",
   "metadata": {},
   "outputs": [],
   "source": [
    "image_info =  [\n",
    "        {\n",
    "            \"name\": \"dapi\",\n",
    "            \"button_name\": \"DAPI\",\n",
    "            \"color\": [\n",
    "                0,\n",
    "                0,\n",
    "                255\n",
    "            ]\n",
    "        }\n",
    "    ]"
   ]
  },
  {
   "cell_type": "code",
   "execution_count": 17,
   "id": "2d3d3c3a-8cbb-44a8-9d56-8317bd8dd70f",
   "metadata": {},
   "outputs": [
    {
     "name": "stdout",
     "output_type": "stream",
     "text": [
      "/Users/whuan/dev/ist_benchmarking/data/landscapes/2024_merscope_breast_htma/region_0/pyramid_images/dapi_files\n"
     ]
    }
   ],
   "source": [
    "\n",
    "\n",
    "dega.pre.save_landscape_parameters(\n",
    "    technology, \n",
    "    path_landscape_files_region,\n",
    "    'dapi_files',\n",
    "    tile_size=tile_size,\n",
    "    image_info=image_info,\n",
    "    image_format='.webp'\n",
    ")"
   ]
  },
  {
   "cell_type": "code",
   "execution_count": 16,
   "id": "9c963e92-9e79-4dff-8349-2b357297f270",
   "metadata": {},
   "outputs": [
    {
     "name": "stdout",
     "output_type": "stream",
     "text": [
      "gsutil -m cp -r /Users/whuan/dev/ist_benchmarking/data/landscapes/2024_merscope_breast_htma gs://fc-secure-cbb15268-8969-436a-818b-ae40f52e3b41/ist_data/landscape_files/\n"
     ]
    }
   ],
   "source": [
    "des_bucket_name = \"fc-secure-cbb15268-8969-436a-818b-ae40f52e3b41/ist_data/landscape_files/\"\n",
    "cmd = f\"gsutil -m cp -r {path_landscape_files} gs://{des_bucket_name}\"\n",
    "print (cmd)"
   ]
  }
 ],
 "metadata": {
  "kernelspec": {
   "display_name": "Python 3 (ipykernel)",
   "language": "python",
   "name": "python3"
  },
  "language_info": {
   "codemirror_mode": {
    "name": "ipython",
    "version": 3
   },
   "file_extension": ".py",
   "mimetype": "text/x-python",
   "name": "python",
   "nbconvert_exporter": "python",
   "pygments_lexer": "ipython3",
   "version": "3.10.15"
  },
  "toc": {
   "base_numbering": 1,
   "nav_menu": {},
   "number_sections": true,
   "sideBar": true,
   "skip_h1_title": false,
   "title_cell": "Table of Contents",
   "title_sidebar": "Contents",
   "toc_cell": false,
   "toc_position": {},
   "toc_section_display": true,
   "toc_window_display": false
  },
  "widgets": {
   "application/vnd.jupyter.widget-state+json": {
    "state": {},
    "version_major": 2,
    "version_minor": 0
   }
  }
 },
 "nbformat": 4,
 "nbformat_minor": 5
}
