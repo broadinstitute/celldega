{
 "cells": [
  {
   "cell_type": "markdown",
   "id": "9982cfeb-b8da-46d9-b620-ed7fd9142578",
   "metadata": {},
   "source": [
    "# Landscape-Heatmap Xenium"
   ]
  },
  {
   "cell_type": "code",
   "execution_count": 1,
   "id": "230d8170-b7aa-42ff-a72d-e9e9a3697b18",
   "metadata": {},
   "outputs": [
    {
     "name": "stdout",
     "output_type": "stream",
     "text": [
      "env: ANYWIDGET_HMR=1\n"
     ]
    }
   ],
   "source": [
    "%load_ext autoreload\n",
    "%autoreload 2\n",
    "%env ANYWIDGET_HMR=1"
   ]
  },
  {
   "cell_type": "code",
   "execution_count": 2,
   "id": "c0a55949-0de8-4a26-beab-8d3b3731ac65",
   "metadata": {},
   "outputs": [],
   "source": [
    "# macOS requirement\n",
    "import os\n",
    "os.environ['DYLD_LIBRARY_PATH'] = '/opt/homebrew/lib:' + os.environ.get('DYLD_LIBRARY_PATH', '')"
   ]
  },
  {
   "cell_type": "code",
   "execution_count": 3,
   "id": "265b5a73-0add-4dc4-81e9-2f7a48eb62c3",
   "metadata": {},
   "outputs": [
    {
     "name": "stdout",
     "output_type": "stream",
     "text": [
      ">> clustergrammer2 backend version 0.18.0\n"
     ]
    }
   ],
   "source": [
    "from http.server import HTTPServer, SimpleHTTPRequestHandler\n",
    "import pandas as pd\n",
    "import threading as thr\n",
    "import requests as rq\n",
    "import scanpy as sc\n",
    "import celldega as dega\n",
    "import scanpy as sc\n",
    "from clustergrammer2 import Network, CGM2\n",
    "from ipywidgets import Widget, HBox, Layout, GridBox\n",
    "from ipywidgets import jslink, HBox, Layout"
   ]
  },
  {
   "cell_type": "markdown",
   "id": "9e2c611e-e8ab-4fbb-b48d-3ec34bce5df2",
   "metadata": {},
   "source": [
    "# iST Landscape View"
   ]
  },
  {
   "cell_type": "code",
   "execution_count": 4,
   "id": "cf1e518d-0503-4a1f-89d8-97508a0b9857",
   "metadata": {},
   "outputs": [],
   "source": [
    "base_url = 'https://raw.githubusercontent.com/broadinstitute/celldega_Xenium_Prime_Human_Skin_FFPE_outs/main/Xenium_Prime_Human_Skin_FFPE_outs'"
   ]
  },
  {
   "cell_type": "code",
   "execution_count": 5,
   "id": "99d71d7f-5987-4363-8676-9e5d58547680",
   "metadata": {},
   "outputs": [],
   "source": [
    "Widget.close_all()\n",
    "landscape_ist = dega.viz.Landscape(\n",
    "    technology='Xenium',\n",
    "    ini_zoom = -4.5,\n",
    "    ini_x=6000,\n",
    "    ini_y=8000,\n",
    "    base_url = base_url,\n",
    "    width=500,\n",
    "    # height=400\n",
    ")"
   ]
  },
  {
   "cell_type": "code",
   "execution_count": 6,
   "id": "3dc40489-d814-48ef-a11c-167cef80bcd3",
   "metadata": {},
   "outputs": [],
   "source": [
    "# file_path = 'data/xenium_landscapes/Xenium_Prime_Human_Skin_FFPE_outs/df_sig.parquet'\n",
    "file_path = 'https://raw.githubusercontent.com/broadinstitute/celldega_Xenium_Prime_Human_Skin_FFPE_outs/main/Xenium_Prime_Human_Skin_FFPE_outs/df_sig.parquet'\n",
    "df_sig = pd.read_parquet(file_path)\n",
    "net = Network(CGM2)\n",
    "net.load_df(df_sig)\n",
    "net.normalize(axis='col', norm_type='umi')\n",
    "net.normalize(axis='row', norm_type='zscore')\n",
    "net.cluster()"
   ]
  },
  {
   "cell_type": "code",
   "execution_count": 7,
   "id": "327e868a-0db0-4678-bfb8-9d6d5fbefcc5",
   "metadata": {},
   "outputs": [
    {
     "data": {
      "application/vnd.jupyter.widget-view+json": {
       "model_id": "ed8136dc6b1c4b31be25f325bb4bdcf1",
       "version_major": 2,
       "version_minor": 0
      },
      "text/plain": [
       "HBox(children=(Landscape(base_url='https://raw.githubusercontent.com/broadinstitute/celldega_Xenium_Prime_Huma…"
      ]
     },
     "metadata": {},
     "output_type": "display_data"
    }
   ],
   "source": [
    "mat = dega.viz.Matrix(network=net.viz, width=500, height=500)\n",
    "\n",
    "landscape_ist = dega.viz.Landscape(\n",
    "    technology='Xenium',\n",
    "    ini_zoom = -4.5,\n",
    "    ini_x=6000,\n",
    "    ini_y=8000,\n",
    "    base_url = base_url,\n",
    "    height = 500,\n",
    "    width= 600\n",
    ")\n",
    "\n",
    "# Use `jslink` to directly link `click_info` from `mat` to `trigger_value` in `landscape_ist`\n",
    "jslink((mat, 'click_info'), (landscape_ist, 'update_trigger'))\n",
    "\n",
    "# Set layouts for the widgets\n",
    "mat.layout = Layout(width='600px')  # Adjust as needed\n",
    "landscape_ist.layout = Layout(width='600px', height='600px')  # Adjust as needed\n",
    "\n",
    "# Display widgets side by side\n",
    "widgets_side_by_side = HBox([landscape_ist, mat])\n",
    "display(widgets_side_by_side)"
   ]
  },
  {
   "cell_type": "code",
   "execution_count": null,
   "id": "6c045549-6756-43d9-852b-1c47f6490220",
   "metadata": {},
   "outputs": [],
   "source": []
  },
  {
   "cell_type": "code",
   "execution_count": null,
   "id": "27a65585-4953-491a-bb5d-cff67ff95215",
   "metadata": {},
   "outputs": [],
   "source": []
  },
  {
   "cell_type": "code",
   "execution_count": null,
   "id": "dcbfddd5-e165-4335-bae7-1c4c9708d48a",
   "metadata": {},
   "outputs": [],
   "source": []
  },
  {
   "cell_type": "code",
   "execution_count": null,
   "id": "0fc30f96-323b-41d7-8c23-44a1da9426e0",
   "metadata": {},
   "outputs": [],
   "source": []
  },
  {
   "cell_type": "code",
   "execution_count": null,
   "id": "22769c7f-4a60-45b3-8970-416d683ffb68",
   "metadata": {},
   "outputs": [],
   "source": []
  },
  {
   "cell_type": "code",
   "execution_count": null,
   "id": "50a1a978-448f-474b-beea-52bc9968e040",
   "metadata": {},
   "outputs": [],
   "source": []
  }
 ],
 "metadata": {
  "kernelspec": {
   "display_name": "Python 3 (ipykernel)",
   "language": "python",
   "name": "python3"
  },
  "language_info": {
   "codemirror_mode": {
    "name": "ipython",
    "version": 3
   },
   "file_extension": ".py",
   "mimetype": "text/x-python",
   "name": "python",
   "nbconvert_exporter": "python",
   "pygments_lexer": "ipython3",
   "version": "3.9.19"
  },
  "widgets": {
   "application/vnd.jupyter.widget-state+json": {
    "state": {},
    "version_major": 2,
    "version_minor": 0
   }
  }
 },
 "nbformat": 4,
 "nbformat_minor": 5
}
