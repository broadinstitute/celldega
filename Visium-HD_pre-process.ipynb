{
 "cells": [
  {
   "cell_type": "markdown",
   "id": "c485faf4-8173-49d0-b711-fe7d5e061e2a",
   "metadata": {},
   "source": [
    "# Secret Visium-HD Pre-process"
   ]
  },
  {
   "cell_type": "code",
   "execution_count": null,
   "id": "4ee57844-be1a-4cfb-913d-ccc8ed9bad4c",
   "metadata": {},
   "outputs": [],
   "source": [
    "%load_ext autoreload\n",
    "%autoreload 2\n",
    "%env ANYWIDGET_HMR=1"
   ]
  },
  {
   "cell_type": "code",
   "execution_count": null,
   "id": "7b91464f-8d4a-4c7c-9f3d-e5bc83e8f49d",
   "metadata": {},
   "outputs": [],
   "source": [
    "import pandas as pd\n",
    "import matplotlib.pyplot as plt\n",
    "import celldega as dega"
   ]
  },
  {
   "cell_type": "code",
   "execution_count": null,
   "id": "72934e9c-0972-4f4e-923c-138157adf287",
   "metadata": {},
   "outputs": [],
   "source": [
    "import os\n",
    "import json"
   ]
  },
  {
   "cell_type": "code",
   "execution_count": null,
   "id": "a9bb4e30-a5ba-4ff1-ade7-aa308d4ccb43",
   "metadata": {},
   "outputs": [],
   "source": [
    "from http.server import HTTPServer, SimpleHTTPRequestHandler\n",
    "import threading as thr\n",
    "import requests as rq"
   ]
  },
  {
   "cell_type": "code",
   "execution_count": null,
   "id": "f9ba3e79-a031-494e-af2a-6293ec277b34",
   "metadata": {},
   "outputs": [],
   "source": [
    "# class CORSHTTPRequestHandler(SimpleHTTPRequestHandler):\n",
    "#     def end_headers(self):\n",
    "#         self.send_header('Access-Control-Allow-Origin', '*')\n",
    "#         self.send_header('Access-Control-Allow-Methods', 'GET, OPTIONS')\n",
    "#         self.send_header('Access-Control-Allow-Headers', 'X-Requested-With, content-type, Authorization')  # Added Authorization\n",
    "#         self.send_header('Access-Control-Allow-Credentials', 'true')\n",
    "#         super().end_headers()\n",
    "\n",
    "#     def do_OPTIONS(self):\n",
    "#         self.send_response(200)\n",
    "#         self.end_headers()\n",
    "\n",
    "#     def log_message(self, format, *args):\n",
    "#         # Override log_message to prevent logging to the console.\n",
    "#         pass\n",
    "\n",
    "\n",
    "# server = HTTPServer((\"\", 0), CORSHTTPRequestHandler)\n",
    "# print(f\"Server running on port {server.server_address[1]}\")\n",
    "\n",
    "# service = thr.Thread(target=server.serve_forever)\n",
    "# service.start()\n",
    "\n",
    "# server_address = server.server_address[1]\n",
    "# server_address"
   ]
  },
  {
   "cell_type": "code",
   "execution_count": null,
   "id": "a412aa5a-71bc-48dd-80d1-784a389a3615",
   "metadata": {},
   "outputs": [],
   "source": [
    "# base_path = 'secret_Visium-HD/Visium_HD_Human_Lung_Cancer/square_016um/'\n",
    "base_path = 'secret_Visium-HD/Visium_HD_Human_Lung_Cancer/square_008um/'"
   ]
  },
  {
   "cell_type": "code",
   "execution_count": null,
   "id": "22635a06-004b-4aee-8d0c-dd66a3b4bbf3",
   "metadata": {},
   "outputs": [],
   "source": [
    "\n",
    "\n",
    "# # there is no analysis directory at 2um resolution\n",
    "# base_path = 'secret_Visium-HD/Visium_HD_Human_Lung_Cancer/square_002um/'\n",
    "\n",
    "df_pos = pd.read_parquet(base_path + 'spatial/tissue_positions.parquet')\n",
    "# df_pos.head(50)"
   ]
  },
  {
   "cell_type": "code",
   "execution_count": null,
   "id": "c55df8d3-3748-4fcd-aa8c-994831d04b00",
   "metadata": {},
   "outputs": [],
   "source": [
    "# # Determine average row and column spacing (if not known)\n",
    "# average_row_spacing = df_pos['pxl_row_in_fullres'].diff().median()\n",
    "# average_col_spacing = df_pos['pxl_col_in_fullres'].diff().median()\n",
    "\n",
    "# # Clean up the coordinates by rounding to the nearest grid position\n",
    "# df_pos['pxl_row_in_fullres_rounded'] = (df_pos['pxl_row_in_fullres'] / average_row_spacing).round() * average_row_spacing\n",
    "# df_pos['pxl_col_in_fullres_rounded'] = (df_pos['pxl_col_in_fullres'] / average_col_spacing).round() * average_col_spacing\n",
    "\n",
    "# # # Save the cleaned data if needed\n",
    "# # df.to_csv('cleaned_positions.csv', index=False)"
   ]
  },
  {
   "cell_type": "code",
   "execution_count": null,
   "id": "a7a9d75b-e19f-4845-bdf9-e838e6ebf9fd",
   "metadata": {},
   "outputs": [],
   "source": [
    "# # Calculate the dimensions of the grid\n",
    "# max_row = df_pos['array_row'].max() + 1\n",
    "# max_col = df_pos['array_col'].max() + 1\n",
    "\n",
    "# # Assuming uniform dimensions for each tile\n",
    "# tile_width = 25.0  # Width of each tile, determine as needed\n",
    "# tile_height = 25.0  # Height of each tile, determine as needed\n",
    "\n",
    "# # Calculate the starting point (top left)\n",
    "# start_x = df_pos['pxl_col_in_fullres'].min()\n",
    "# start_y = df_pos['pxl_row_in_fullres'].min()\n",
    "\n",
    "# # Assign new coordinates based on a perfect grid layout\n",
    "# df_pos['pxl_row_in_fullres_aligned'] = start_y + df['array_row'] * tile_height\n",
    "# df_pos['pxl_col_in_fullres_aligned'] = start_x + df['array_col'] * tile_width"
   ]
  },
  {
   "cell_type": "code",
   "execution_count": null,
   "id": "718a8442-4148-4a1e-bcd4-8ec27194e99f",
   "metadata": {},
   "outputs": [],
   "source": [
    "df_pos = df_pos[df_pos['in_tissue'] == 1]"
   ]
  },
  {
   "cell_type": "code",
   "execution_count": null,
   "id": "7594dee7-9061-4c30-bd63-d596027fd0b8",
   "metadata": {},
   "outputs": [],
   "source": [
    "df_pos['in_tissue'].value_counts()"
   ]
  },
  {
   "cell_type": "code",
   "execution_count": null,
   "id": "f5aaa232-5243-4270-8a2d-a5343aed0ca7",
   "metadata": {},
   "outputs": [],
   "source": [
    "df_pos.head()"
   ]
  },
  {
   "cell_type": "code",
   "execution_count": null,
   "id": "47215053-6d50-429f-8999-f64bf01a786f",
   "metadata": {},
   "outputs": [],
   "source": [
    "df_pos.shape[0]/1e6"
   ]
  },
  {
   "cell_type": "code",
   "execution_count": null,
   "id": "67c37525-9a1b-4977-8656-ad0179e6cc11",
   "metadata": {},
   "outputs": [],
   "source": [
    "# Plotting\n",
    "plt.figure(figsize=(10, 8))\n",
    "plt.scatter(df_pos['pxl_col_in_fullres'], df_pos['pxl_row_in_fullres'], c='blue', alpha=0.6, edgecolors='w', s=2)\n",
    "plt.title('Tile Positions in Spatial Transcriptomics Assay')\n",
    "plt.xlabel('Pixel Column in Full Resolution')\n",
    "plt.ylabel('Pixel Row in Full Resolution')\n",
    "plt.gca().invert_yaxis()  # Invert y-axis to match the image coordinates\n",
    "plt.grid(True)\n",
    "plt.show()"
   ]
  },
  {
   "cell_type": "code",
   "execution_count": null,
   "id": "3cf133c3-c5ba-474d-b8be-c754630a632a",
   "metadata": {},
   "outputs": [],
   "source": [
    "import json"
   ]
  },
  {
   "cell_type": "code",
   "execution_count": null,
   "id": "8e169ace-f2d3-45ff-8517-57a2f87afdb4",
   "metadata": {},
   "outputs": [],
   "source": [
    "filepath_scalefactors = base_path + 'spatial/scalefactors_json.json'\n",
    "with open(filepath_scalefactors) as file:\n",
    "    data = json.load(file)\n",
    "\n",
    "print(data)"
   ]
  },
  {
   "cell_type": "code",
   "execution_count": null,
   "id": "7e111041-eab6-4d54-aabf-0c479379fa99",
   "metadata": {},
   "outputs": [],
   "source": [
    "scale_factor = data['tissue_hires_scalef']"
   ]
  },
  {
   "cell_type": "code",
   "execution_count": null,
   "id": "276093f7-330e-48fb-a84d-28e03543d672",
   "metadata": {},
   "outputs": [],
   "source": [
    "df_pos['x_scaled'] = df_pos['pxl_col_in_fullres'] * scale_factor\n",
    "df_pos['y_scaled'] = df_pos['pxl_row_in_fullres'] * scale_factor"
   ]
  },
  {
   "cell_type": "code",
   "execution_count": null,
   "id": "3c4edef9-d68b-46c8-8d43-d6a57ced71ef",
   "metadata": {},
   "outputs": [],
   "source": [
    "print(df_pos.x_scaled.min(), df_pos.x_scaled.max())\n",
    "print(df_pos.y_scaled.min(), df_pos.y_scaled.max())"
   ]
  },
  {
   "cell_type": "code",
   "execution_count": null,
   "id": "27431881-4993-49ba-a31e-0ebb65c8e631",
   "metadata": {},
   "outputs": [],
   "source": [
    "df_pos.shape"
   ]
  },
  {
   "cell_type": "code",
   "execution_count": null,
   "id": "7c8f0531-722e-4fd8-9569-f99efe68ee1e",
   "metadata": {},
   "outputs": [],
   "source": [
    "# Sample 10% of the rows randomly\n",
    "df_sample = df_pos.sample(frac=0.01)"
   ]
  },
  {
   "cell_type": "code",
   "execution_count": null,
   "id": "17aaf1b9-4c25-4eee-8407-8eb31e7fdd81",
   "metadata": {},
   "outputs": [],
   "source": [
    "df_sample.shape"
   ]
  },
  {
   "cell_type": "code",
   "execution_count": null,
   "id": "652f9262-2675-46af-aa0e-49878b62d066",
   "metadata": {},
   "outputs": [],
   "source": [
    "import matplotlib.pyplot as plt"
   ]
  },
  {
   "cell_type": "code",
   "execution_count": null,
   "id": "fb2f2569-f70a-49dd-bd61-509d745d54fa",
   "metadata": {},
   "outputs": [],
   "source": [
    "from PIL import Image"
   ]
  },
  {
   "cell_type": "code",
   "execution_count": null,
   "id": "d4011ef6-0a8f-4faf-91a0-b97d75a1f42a",
   "metadata": {},
   "outputs": [],
   "source": [
    "image_path = base_path + 'spatial/tissue_hires_image.png'\n",
    "img = Image.open(image_path)"
   ]
  },
  {
   "cell_type": "code",
   "execution_count": null,
   "id": "6c6775c7-55c1-4150-8f85-ffd5aad07796",
   "metadata": {},
   "outputs": [],
   "source": [
    "# Create a plot with the image\n",
    "fig, ax = plt.subplots(figsize=(10, 12))\n",
    "ax.imshow(img)\n",
    "\n",
    "# Scatter plot of the sampled data points\n",
    "ax.scatter(df_sample['x_scaled'], df_sample['y_scaled'], color='red', s=0.1, alpha=1)\n",
    "\n",
    "# Display the plot\n",
    "plt.show()\n"
   ]
  },
  {
   "cell_type": "code",
   "execution_count": null,
   "id": "be373677-dd01-4b70-833c-f4d7aebb9881",
   "metadata": {},
   "outputs": [],
   "source": []
  },
  {
   "cell_type": "code",
   "execution_count": null,
   "id": "78b2c413-a2fb-4753-bf17-5e4184d36d6b",
   "metadata": {},
   "outputs": [],
   "source": [
    "meta_tile = pd.read_csv(base_path + 'analysis/clustering/gene_expression_graphclust/clusters.csv')\n",
    "meta_tile"
   ]
  },
  {
   "cell_type": "code",
   "execution_count": null,
   "id": "e1b6766f-f8ee-499d-a12f-990fc2316b6b",
   "metadata": {},
   "outputs": [],
   "source": [
    "from matplotlib.colors import to_hex\n",
    "# Get all categorical color palettes from Matplotlib and flatten them into a single list of colors\n",
    "palettes = [plt.get_cmap(name).colors for name in plt.colormaps() if \"tab\" in name]\n",
    "flat_colors = [color for palette in palettes for color in palette]\n",
    "\n",
    "# Convert RGB tuples to hex codes\n",
    "flat_colors_hex = [to_hex(color) for color in flat_colors]"
   ]
  },
  {
   "cell_type": "code",
   "execution_count": null,
   "id": "e5765127-f06d-4832-8a89-62f6ac3d3aee",
   "metadata": {},
   "outputs": [],
   "source": [
    "meta_tile['Cluster'].value_counts()"
   ]
  },
  {
   "cell_type": "code",
   "execution_count": null,
   "id": "c9751963-14d2-492a-9be0-0993d3e07206",
   "metadata": {},
   "outputs": [],
   "source": [
    "clusters = [str(x) for x in meta_tile['Cluster'].unique().tolist()]\n",
    "\n",
    "# Use modular arithmetic to assign a color to each gene, white for genes with \"Blank\"\n",
    "colors = [flat_colors_hex[i % len(flat_colors_hex)] if \"Blank\" not in cluster else \"#FFFFFF\" for i, cluster in enumerate(clusters)]\n",
    "\n",
    "# Create a DataFrame with genes and their assigned colors\n",
    "df_colors = pd.DataFrame({'color': colors}, index=clusters)\n",
    "\n",
    "df_colors.to_parquet(base_path + 'landscape_files/df_colors.parquet')"
   ]
  },
  {
   "cell_type": "code",
   "execution_count": null,
   "id": "cfc21464-0dc4-4061-aee6-080d54665a2b",
   "metadata": {},
   "outputs": [],
   "source": [
    "df_colors.head()"
   ]
  },
  {
   "cell_type": "code",
   "execution_count": null,
   "id": "010237b9-773a-47d0-a8cb-f15a0c733e61",
   "metadata": {},
   "outputs": [],
   "source": [
    "# meta_tile_json = meta_tile.to_json(orient='records')\n",
    "meta_tile_json = dict(zip(meta_tile['Barcode'], meta_tile['Cluster']))\n",
    "\n",
    "json_output = json.dumps(meta_tile_json)\n",
    "\n",
    "with open(base_path + 'landscape_files/meta_tile.json', 'w') as file:\n",
    "    file.write(json_output)"
   ]
  },
  {
   "cell_type": "code",
   "execution_count": null,
   "id": "2a839710-98d0-43e4-ad84-1cda87e5fbf0",
   "metadata": {},
   "outputs": [],
   "source": [
    "path_output = base_path + 'landscape_files'\n",
    "if not os.path.exists(path_output):\n",
    "    os.mkdir(path_output)"
   ]
  },
  {
   "cell_type": "code",
   "execution_count": null,
   "id": "a4c3ea2e-6552-4f8d-94d5-453d9f6613ce",
   "metadata": {},
   "outputs": [],
   "source": [
    "tile = pd.DataFrame()\n",
    "tile['name'] = df_pos['barcode']\n",
    "\n",
    "# tile['center_x'] = df_pos['pxl_col_in_fullres'].round(1)\n",
    "# tile['center_y'] = df_pos['pxl_row_in_fullres'].round(1)\n",
    "\n",
    "tile['center_x'] = df_pos['x_scaled'] # .round(1)\n",
    "tile['center_y'] = df_pos['y_scaled'] # .round(1)\n",
    "\n",
    "tile['center_x'] = tile['center_x'].astype(float)\n",
    "tile['center_y'] = tile['center_y'].astype(float)"
   ]
  },
  {
   "cell_type": "code",
   "execution_count": null,
   "id": "38dbbd48-068b-467c-849e-8d68071d361f",
   "metadata": {},
   "outputs": [],
   "source": [
    "path_tile_geo = base_path + 'landscape_files/tile_geometries.parquet'"
   ]
  },
  {
   "cell_type": "code",
   "execution_count": null,
   "id": "45c46652-b2f3-4fd3-82c6-33700f7dad7d",
   "metadata": {},
   "outputs": [],
   "source": [
    "from copy import deepcopy"
   ]
  },
  {
   "cell_type": "code",
   "execution_count": null,
   "id": "c9ca703e-1798-4804-9e15-bbb5edc1c2dd",
   "metadata": {},
   "outputs": [],
   "source": [
    "tile_merge = deepcopy(tile)\n",
    "tile_merge.index = tile['name'].values.tolist()"
   ]
  },
  {
   "cell_type": "code",
   "execution_count": null,
   "id": "f759d845-bb6b-40cd-9be1-0ed05c162643",
   "metadata": {},
   "outputs": [],
   "source": [
    "tile_merge.head()"
   ]
  },
  {
   "cell_type": "code",
   "execution_count": null,
   "id": "3866da5d-e3b2-45b3-be2b-c1d5adc92f7f",
   "metadata": {},
   "outputs": [],
   "source": [
    "meta_tile_merge = deepcopy(meta_tile)"
   ]
  },
  {
   "cell_type": "code",
   "execution_count": null,
   "id": "c8f2f86d-cd62-4a3a-9e93-e4386e8fe22b",
   "metadata": {},
   "outputs": [],
   "source": [
    "meta_tile_merge.index = meta_tile['Barcode'].values.tolist()\n",
    "meta_tile_merge.head()"
   ]
  },
  {
   "cell_type": "code",
   "execution_count": null,
   "id": "c2c350b2-e3e2-4e34-9742-da75091dc197",
   "metadata": {},
   "outputs": [],
   "source": [
    "cats = [str(x) for x in meta_tile_merge['Cluster'].values.tolist()]"
   ]
  },
  {
   "cell_type": "code",
   "execution_count": null,
   "id": "d4b06847-72dd-48b6-834a-b3d1a9bed430",
   "metadata": {},
   "outputs": [],
   "source": [
    "keep_tiles = meta_tile_merge.index.tolist()\n",
    "tile_merge.loc[keep_tiles, 'cluster'] = pd.Series(cats, index=keep_tiles)"
   ]
  },
  {
   "cell_type": "code",
   "execution_count": null,
   "id": "3e453197-046e-4ece-bf96-1496b46758fb",
   "metadata": {},
   "outputs": [],
   "source": [
    "tile_merge"
   ]
  },
  {
   "cell_type": "code",
   "execution_count": null,
   "id": "dbe1e66b-3d7f-4513-b33b-ddc52b21d955",
   "metadata": {},
   "outputs": [],
   "source": [
    "tile_merge.to_parquet(base_path + 'landscape_files/meta_tile.parquet')"
   ]
  },
  {
   "cell_type": "code",
   "execution_count": null,
   "id": "45ef1030-28fd-4717-9eb2-7935e79c2da5",
   "metadata": {},
   "outputs": [],
   "source": [
    "tile_merge.center_x.mean()"
   ]
  },
  {
   "cell_type": "code",
   "execution_count": null,
   "id": "0e34eca4-add7-459d-8ddd-56a1a492adf9",
   "metadata": {},
   "outputs": [],
   "source": [
    "tile_merge.center_y.mean()"
   ]
  },
  {
   "cell_type": "code",
   "execution_count": null,
   "id": "3cd74cde-d4e5-4f0b-a888-7b339ceffcb2",
   "metadata": {},
   "outputs": [],
   "source": [
    "tile_merge['geometry'] = tile_merge.apply(lambda row: [row['center_x'], row['center_y']], axis=1)\n",
    "tile_merge.loc[keep_tiles, ['name', 'geometry', 'cluster']].to_parquet(path_tile_geo) "
   ]
  },
  {
   "cell_type": "code",
   "execution_count": null,
   "id": "caf1bcca-3d3c-42af-89ff-4e133f311828",
   "metadata": {},
   "outputs": [],
   "source": [
    "tile_merge"
   ]
  },
  {
   "cell_type": "code",
   "execution_count": null,
   "id": "cc2674e0-5070-4394-b1f5-ee2250d33caa",
   "metadata": {},
   "outputs": [],
   "source": [
    "pd.read_parquet(path_tile_geo).head()"
   ]
  },
  {
   "cell_type": "code",
   "execution_count": null,
   "id": "2346ba1d-2ea8-40e1-9045-1e1c3b791122",
   "metadata": {},
   "outputs": [],
   "source": [
    "!pip install h5py"
   ]
  },
  {
   "cell_type": "code",
   "execution_count": null,
   "id": "5ccb03de-fd2e-4685-be7e-3b9536808f14",
   "metadata": {},
   "outputs": [],
   "source": [
    "import h5py"
   ]
  },
  {
   "cell_type": "code",
   "execution_count": null,
   "id": "867f33f0-b437-4d25-91d4-09d7267aed8b",
   "metadata": {},
   "outputs": [],
   "source": [
    "file_path = 'secret_Visium-HD/Visium_HD_Human_Lung_Cancer/square_008um/filtered_feature_bc_matrix.h5'"
   ]
  },
  {
   "cell_type": "code",
   "execution_count": null,
   "id": "dd089554-72da-42e8-acb7-501eae613f0a",
   "metadata": {},
   "outputs": [],
   "source": [
    "def print_structure(file, indent = ' '):\n",
    "    \"\"\"Recursively prints the groups and datasets in an HDF5 file.\"\"\"\n",
    "    for key in file.keys():\n",
    "        item = file[key]\n",
    "        print(indent, key)\n",
    "        if isinstance(item, h5py.Dataset):\n",
    "            print(indent + ' ', \"Dataset\")\n",
    "        elif isinstance(item, h5py.Group):\n",
    "            print_structure(item, indent + ' ')\n",
    "            \n",
    "with h5py.File(file_path, 'r') as file:\n",
    "    print_structure(file)\n"
   ]
  },
  {
   "cell_type": "code",
   "execution_count": null,
   "id": "d18993fd-6724-4fb2-896a-a698608bfb9b",
   "metadata": {},
   "outputs": [],
   "source": [
    "# import h5py\n",
    "\n",
    "# # Function to load an HDF5 file\n",
    "# def load_hdf5_file(file_path):\n",
    "#     return h5py.File(file_path, 'r')\n",
    "\n",
    "# # Usage\n",
    "# file_path = 'secret_Visium-HD/Visium_HD_Human_Lung_Cancer/square_008um/filtered_feature_bc_matrix.h5'\n",
    "# hdf5_file = load_hdf5_file(file_path)\n"
   ]
  },
  {
   "cell_type": "code",
   "execution_count": null,
   "id": "24943274-2328-4ac9-a98b-67121ddc8e42",
   "metadata": {},
   "outputs": [],
   "source": [
    "# !pip install scipy"
   ]
  },
  {
   "cell_type": "code",
   "execution_count": null,
   "id": "dc366db5-179b-43fd-84b5-d61fcb71e202",
   "metadata": {},
   "outputs": [],
   "source": [
    "# import h5py\n",
    "# import pandas as pd\n",
    "# from scipy.sparse import csr_matrix\n",
    "\n",
    "# def load_expression_data(file_path):\n",
    "#     with h5py.File(file_path, 'r') as file:\n",
    "#         # Access the dataset components of the sparse matrix\n",
    "#         data = file['matrix/data'][:]\n",
    "#         indices = file['matrix/indices'][:]\n",
    "#         indptr = file['matrix/indptr'][:]\n",
    "#         shape = file['matrix/shape'][:]\n",
    "\n",
    "#         # Construct the CSR matrix\n",
    "#         expression_matrix = csr_matrix((data, indices, indptr), shape=tuple(shape))\n",
    "\n",
    "#         # Optional: Convert to DataFrame for easier handling, assuming gene names are loaded similarly\n",
    "#         genes = file['matrix/features/name'][:]\n",
    "#         genes = [gene.decode('utf-8') for gene in genes]  # Decode byte strings\n",
    "#         gene_expression_df = pd.DataFrame(expression_matrix.toarray(), columns=genes)\n",
    "\n",
    "#     return gene_expression_df\n",
    "\n",
    "# # Use the function\n",
    "# file_path = 'secret_Visium-HD/Visium_HD_Human_Lung_Cancer/square_008um/filtered_feature_bc_matrix.h5'\n",
    "# gene_expression_df = load_expression_data(file_path)\n",
    "# print(gene_expression_df.head())  # Preview the first few rows of the DataFrame\n"
   ]
  },
  {
   "cell_type": "code",
   "execution_count": null,
   "id": "03a604d5-1545-4115-ae91-8c7361f09dac",
   "metadata": {},
   "outputs": [],
   "source": [
    "# with h5py.File(file_path, 'r') as file:\n",
    "#     shape = file['matrix/shape'][:]  # Ensure this is correct\n",
    "#     print(\"Matrix shape from file:\", shape)\n"
   ]
  },
  {
   "cell_type": "code",
   "execution_count": null,
   "id": "f1f8c8bd-5b2b-46dd-9f49-85f0c3f29612",
   "metadata": {},
   "outputs": [],
   "source": [
    "# def load_expression_data(file_path):\n",
    "#     with h5py.File(file_path, 'r') as file:\n",
    "#         data = file['matrix/data'][:]\n",
    "#         indices = file['matrix/indices'][:]\n",
    "#         indptr = file['matrix/indptr'][:]\n",
    "#         shape = file['matrix/shape'][:]\n",
    "        \n",
    "#         print(\"Data loaded, constructing matrix with shape:\", shape)\n",
    "        \n",
    "#         # Assuming shape is stored as [cols, rows] and needs to be reversed\n",
    "#         if len(shape) == 2:\n",
    "#             shape = tuple(reversed(shape))  # Correct shape if necessary\n",
    "        \n",
    "#         expression_matrix = csr_matrix((data, indices, indptr), shape=shape)\n",
    "\n",
    "#         genes = file['matrix/features/name'][:]\n",
    "#         genes = [gene.decode('utf-8') for gene in genes]\n",
    "\n",
    "#         barcodes = file['matrix/barcodes'][:]\n",
    "#         barcodes = [barcode.decode('utf-8') for barcode in barcodes]\n",
    "        \n",
    "#         gene_expression_df = pd.DataFrame(expression_matrix.toarray(), columns=genes, index=barcodes)\n",
    "\n",
    "#     return gene_expression_df"
   ]
  },
  {
   "cell_type": "code",
   "execution_count": null,
   "id": "ffee5465-dd03-4702-b169-17fc14b5b442",
   "metadata": {},
   "outputs": [],
   "source": [
    "# # Use the function\n",
    "# file_path = 'secret_Visium-HD/Visium_HD_Human_Lung_Cancer/square_008um/filtered_feature_bc_matrix.h5'\n",
    "# gene_expression_df = load_expression_data(file_path)\n",
    "# print(gene_expression_df.head())  "
   ]
  },
  {
   "cell_type": "markdown",
   "id": "06472082-b233-42ca-8468-74bb1fe3c58a",
   "metadata": {},
   "source": [
    "# Read Tile-by-Gene Sparse Matrix"
   ]
  },
  {
   "cell_type": "code",
   "execution_count": null,
   "id": "01ff8131-1f39-43bd-a01d-9ef125d3c207",
   "metadata": {},
   "outputs": [],
   "source": [
    "import pandas as pd\n",
    "from scipy.io import mmread\n",
    "from scipy.sparse import csr_matrix"
   ]
  },
  {
   "cell_type": "code",
   "execution_count": null,
   "id": "d250dcc7-6eb8-490e-a18e-b83b1e9c7bb8",
   "metadata": {},
   "outputs": [],
   "source": [
    "def make_unique(names):\n",
    "    from collections import Counter\n",
    "    counts = Counter(names)\n",
    "    new_names = []\n",
    "    used_names = {}\n",
    "    \n",
    "    for name in names:\n",
    "        if counts[name] > 1:  # If this name is a duplicate\n",
    "            if name in used_names:\n",
    "                used_names[name] += 1\n",
    "            else:\n",
    "                used_names[name] = 1\n",
    "            new_name = f\"{name}-{used_names[name]}\"\n",
    "        else:\n",
    "            new_name = name\n",
    "        new_names.append(new_name)\n",
    "    \n",
    "    return new_names"
   ]
  },
  {
   "cell_type": "code",
   "execution_count": null,
   "id": "a933a1ef-67e4-45ab-b660-adf8d9d360a0",
   "metadata": {},
   "outputs": [],
   "source": [
    "%%time\n",
    "# File paths\n",
    "barcodes_path = 'secret_Visium-HD/Visium_HD_Human_Lung_Cancer/square_008um/filtered_feature_bc_matrix/barcodes.tsv.gz'\n",
    "features_path = 'secret_Visium-HD/Visium_HD_Human_Lung_Cancer/square_008um/filtered_feature_bc_matrix/features.tsv.gz'\n",
    "matrix_path = 'secret_Visium-HD/Visium_HD_Human_Lung_Cancer/square_008um/filtered_feature_bc_matrix/matrix.mtx.gz'\n",
    "\n",
    "# Read barcodes and features\n",
    "barcodes = pd.read_csv(barcodes_path, header=None, compression='gzip')\n",
    "features = pd.read_csv(features_path, header=None, compression='gzip', sep='\\t')\n",
    "\n",
    "# Read the gene expression matrix and transpose it\n",
    "matrix = mmread(matrix_path).transpose().tocsc()  # Transpose and convert to CSC\n",
    "\n",
    "# Create a sparse DataFrame with genes as columns and barcodes as rows\n",
    "tbg = pd.DataFrame.sparse.from_spmatrix(matrix, index=barcodes[0], columns=features[1])\n",
    "\n",
    "tbg.columns = make_unique(tbg.columns.tolist())\n",
    "\n",
    "print(tbg.shape)"
   ]
  },
  {
   "cell_type": "code",
   "execution_count": null,
   "id": "37726bb7-21b7-4540-8701-8e3b5fc0115e",
   "metadata": {},
   "outputs": [],
   "source": [
    "meta_tile = pd.read_parquet(base_path + 'landscape_files/meta_tile.parquet')\n",
    "meta_tile.head()"
   ]
  },
  {
   "cell_type": "code",
   "execution_count": null,
   "id": "c6f760fe-98df-4209-b5c4-52b7606b4750",
   "metadata": {},
   "outputs": [],
   "source": [
    "tbg.head()"
   ]
  },
  {
   "cell_type": "code",
   "execution_count": null,
   "id": "ce1caa8d-1371-4fac-b2f3-5b6de7f296d3",
   "metadata": {},
   "outputs": [],
   "source": [
    "gene_exp = tbg.sum()"
   ]
  },
  {
   "cell_type": "code",
   "execution_count": null,
   "id": "b03bbc56-72b6-4494-9951-956baad96262",
   "metadata": {},
   "outputs": [],
   "source": [
    "# expressed_tiles = (tbg > 0).astype(int).sum()"
   ]
  },
  {
   "cell_type": "code",
   "execution_count": null,
   "id": "c7104922-86d4-44f9-b230-400563abd59f",
   "metadata": {},
   "outputs": [],
   "source": [
    "expressed_tiles"
   ]
  },
  {
   "cell_type": "code",
   "execution_count": null,
   "id": "5f7d2b99-e517-4bc2-b921-ea004bd32b5f",
   "metadata": {},
   "outputs": [],
   "source": []
  },
  {
   "cell_type": "code",
   "execution_count": null,
   "id": "66710bb7-631f-4947-ab35-017531e2bfc9",
   "metadata": {},
   "outputs": [],
   "source": []
  },
  {
   "cell_type": "code",
   "execution_count": null,
   "id": "fcab105c-7411-4e39-943f-1d73ea604f7f",
   "metadata": {},
   "outputs": [],
   "source": []
  },
  {
   "cell_type": "code",
   "execution_count": null,
   "id": "fa65bc51-fbab-4ff9-9e4f-dc3651e77f47",
   "metadata": {},
   "outputs": [],
   "source": [
    "import numpy as np"
   ]
  },
  {
   "cell_type": "code",
   "execution_count": null,
   "id": "68ac9d36-f877-4b18-b325-0d3ac854b767",
   "metadata": {},
   "outputs": [],
   "source": [
    "%%time\n",
    "# Calculate mean expression across tiles with float precision\n",
    "print('calculating mean expression from sparse float data')\n",
    "mean_expression = tbg.astype(pd.SparseDtype(\"float\", 0)).mean(axis=0)\n",
    "\n",
    "# Calculate the variance as the average of the squared deviations\n",
    "print('calculating variance by looping over rows')\n",
    "num_tiles = tbg.shape[1]\n",
    "variance = tbg.apply(lambda x: ((x - mean_expression[x.name]) ** 2).sum() / num_tiles, axis=0)\n",
    "std_deviation = np.sqrt(variance)\n",
    "\n",
    "# # Assuming mean_expression is aligned with columns\n",
    "# print('calculating variance using vectorized approach')\n",
    "# squared_deviations = (tbg - mean_expression) ** 2\n",
    "# variance = squared_deviations.mean(axis=0)\n",
    "\n",
    "# Calculate maximum expression\n",
    "max_expression = tbg.max(axis=0)\n",
    "\n",
    "# Calculate proportion of tiles with non-zero expression\n",
    "proportion_nonzero = (tbg != 0).sum(axis=0) / len(tbg)\n",
    "\n",
    "# Create a DataFrame to hold all these metrics\n",
    "meta_gene = pd.DataFrame({\n",
    "    'mean': mean_expression,\n",
    "    'std': std_deviation,\n",
    "    'max': max_expression,\n",
    "    'non-zero': proportion_nonzero\n",
    "})"
   ]
  },
  {
   "cell_type": "code",
   "execution_count": null,
   "id": "229bca51-e68b-4705-9653-71444e6f31bf",
   "metadata": {},
   "outputs": [],
   "source": [
    "meta_gene.head()"
   ]
  },
  {
   "cell_type": "code",
   "execution_count": null,
   "id": "70863a7a-afb6-4d73-894f-833adc53c6da",
   "metadata": {},
   "outputs": [],
   "source": [
    "meta_gene['max'].sort_values(ascending=False).head(10)"
   ]
  },
  {
   "cell_type": "code",
   "execution_count": null,
   "id": "2025190f-d1b0-4dda-8b6e-393ae1e8e3f8",
   "metadata": {},
   "outputs": [],
   "source": [
    "# Convert only the sparse columns to dense\n",
    "for column in meta_gene.columns:\n",
    "    # Check if the column dtype is an instance of pd.SparseDtype\n",
    "    if isinstance(meta_gene[column].dtype, pd.SparseDtype):\n",
    "        meta_gene[column] = meta_gene[column].sparse.to_dense()"
   ]
  },
  {
   "cell_type": "code",
   "execution_count": null,
   "id": "856dd695-a4db-4cfb-837a-e5d445b151e2",
   "metadata": {},
   "outputs": [],
   "source": [
    "# # Convert only the sparse columns to dense\n",
    "# for column in meta_gene.columns:\n",
    "#     if pd.api.types.is_sparse(meta_gene[column].dtype):\n",
    "#         meta_gene[column] = meta_gene[column].sparse.to_dense()\n"
   ]
  },
  {
   "cell_type": "code",
   "execution_count": null,
   "id": "7c677c62-aa23-42ab-ab51-64252c620fe0",
   "metadata": {},
   "outputs": [],
   "source": [
    "meta_gene.to_parquet(base_path + 'landscape_files/meta_gene.parquet')"
   ]
  },
  {
   "cell_type": "code",
   "execution_count": null,
   "id": "3246c21e-67dd-459e-8f0a-c79b6c8b6754",
   "metadata": {},
   "outputs": [],
   "source": [
    "%%time\n",
    "mean_expression = tbg.astype(pd.SparseDtype(\"float\", 0)).mean(axis=0)\n",
    "mean_expression"
   ]
  },
  {
   "cell_type": "code",
   "execution_count": null,
   "id": "eac85439-098d-4ac5-838b-e7cb0bb6a8ba",
   "metadata": {},
   "outputs": [],
   "source": [
    "mean_expression.sort_values(ascending=False).head(5)"
   ]
  },
  {
   "cell_type": "code",
   "execution_count": null,
   "id": "cf25d0c1-585a-4f33-a6cf-11b0f0d77ae3",
   "metadata": {},
   "outputs": [],
   "source": [
    "# tbg.shape"
   ]
  },
  {
   "cell_type": "code",
   "execution_count": null,
   "id": "ba470e32-b513-4730-9e95-fc2aafec6f20",
   "metadata": {},
   "outputs": [],
   "source": [
    "# tbg.head()"
   ]
  },
  {
   "cell_type": "code",
   "execution_count": null,
   "id": "01fa6544-a8d0-4a77-b3dc-dc5bda0c806e",
   "metadata": {},
   "outputs": [],
   "source": [
    "# pd.Series(tbg.columns.tolist()).value_counts()"
   ]
  },
  {
   "cell_type": "code",
   "execution_count": null,
   "id": "93fd6913-b7ab-4ae4-92dc-3b5a33bb3e45",
   "metadata": {},
   "outputs": [],
   "source": [
    "# gene_exp = tbg.sum()"
   ]
  },
  {
   "cell_type": "code",
   "execution_count": null,
   "id": "9a489d27-0fbd-47d7-93aa-c94b22f8aa70",
   "metadata": {},
   "outputs": [],
   "source": [
    "# gene_exp.sort_values(ascending=False)"
   ]
  },
  {
   "cell_type": "code",
   "execution_count": null,
   "id": "2c808558-e91b-4e1c-aa8c-dbedd38b0cf4",
   "metadata": {},
   "outputs": [],
   "source": [
    "# tbg.loc[keep_tiles, 'IGKC'].hist(bins=100)"
   ]
  },
  {
   "cell_type": "code",
   "execution_count": null,
   "id": "1c12c700-b6dc-4ac7-b4a9-ba24d805460e",
   "metadata": {},
   "outputs": [],
   "source": [
    "base_path"
   ]
  },
  {
   "cell_type": "markdown",
   "id": "66605680-c771-4937-a117-81fdbf2f561a",
   "metadata": {},
   "source": [
    "# save parquet files"
   ]
  },
  {
   "cell_type": "code",
   "execution_count": null,
   "id": "a156037b-d340-48b1-88d5-1f2235b9ab62",
   "metadata": {},
   "outputs": [],
   "source": [
    "# import os\n",
    "\n",
    "# output_dir = base_path + 'landscape_files/tbg/'\n",
    "# os.makedirs(output_dir, exist_ok=True)  \n",
    "\n",
    "# for index, gene in enumerate(cbg.columns):\n",
    "#     if index % 100 == 0:\n",
    "#         print(index)\n",
    "#     # Extract the column as a DataFrame\n",
    "#     col_df = tbg[[gene]].copy()\n",
    "\n",
    "#     col_df = col_df.sparse.to_dense()\n",
    "#     # col_df.fillna(0, inplace=True)    \n",
    "#     col_df = col_df.astype(int)\n",
    "\n",
    "#     inst_df = pd.DataFrame(col_df.values, columns=[gene], index=col_df.index.tolist())    \n",
    "\n",
    "#     inst_df = inst_df.loc[keep_tiles]\n",
    "#     inst_df.replace(0, pd.NA, inplace=True)\n",
    "#     inst_df.dropna(how='all', inplace=True)    \n",
    "    \n",
    "#     # Save to Parquet\n",
    "#     inst_df.to_parquet(os.path.join(output_dir, f'{gene}.parquet'))\n"
   ]
  },
  {
   "cell_type": "code",
   "execution_count": null,
   "id": "0f563f03-79c3-4aac-aefa-d5670bcdd860",
   "metadata": {},
   "outputs": [],
   "source": [
    "# hdf5_file.keys()"
   ]
  },
  {
   "cell_type": "code",
   "execution_count": null,
   "id": "4ce7147d-21ca-4632-887e-723f8270a44a",
   "metadata": {},
   "outputs": [],
   "source": [
    "# hdf5_file['matrix'].keys()"
   ]
  },
  {
   "cell_type": "code",
   "execution_count": null,
   "id": "8e95d696-fccc-42c4-9e29-382e1838e9e9",
   "metadata": {},
   "outputs": [],
   "source": [
    "# hdf5_file['matrix']['data']"
   ]
  },
  {
   "cell_type": "code",
   "execution_count": null,
   "id": "a9e3edfa-f717-4ae4-87cc-8d3f705dc0fe",
   "metadata": {},
   "outputs": [],
   "source": [
    "# hdf5_file['matrix']['features'].keys()"
   ]
  },
  {
   "cell_type": "code",
   "execution_count": null,
   "id": "f3f846f1-a2ba-4633-a610-25124e2dbee1",
   "metadata": {},
   "outputs": [],
   "source": [
    "# # genes = [x.decode('utf-8') for x in hdf5_file['matrix']['features']['name'][:].tolist()]\n",
    "# genes[:5]"
   ]
  },
  {
   "cell_type": "code",
   "execution_count": null,
   "id": "7028332a-1bcb-4ec9-9c3a-237e559a8982",
   "metadata": {},
   "outputs": [],
   "source": [
    "# h5py.File(file_path, 'r')"
   ]
  },
  {
   "cell_type": "code",
   "execution_count": null,
   "id": "e0a37220-f53a-4c25-bcba-39c3c8905eb9",
   "metadata": {},
   "outputs": [],
   "source": [
    "base_url = f'http://localhost:{server_address}/{base_path}landscape_files/'\n",
    "base_url"
   ]
  },
  {
   "cell_type": "code",
   "execution_count": null,
   "id": "43d68887-aca5-4397-8359-092006023fd2",
   "metadata": {},
   "outputs": [],
   "source": [
    "pd.read_parquet(base_path + 'landscape_files/tbg/SRC.parquet')"
   ]
  },
  {
   "cell_type": "code",
   "execution_count": null,
   "id": "e82b3653-91a1-4021-b9e7-4ae04c1b6197",
   "metadata": {},
   "outputs": [],
   "source": [
    "# dega.viz.Toy(base_url=base_url)"
   ]
  },
  {
   "cell_type": "code",
   "execution_count": null,
   "id": "9ba94a93-74c8-4d89-b47c-7ae69793d430",
   "metadata": {},
   "outputs": [],
   "source": [
    "# tbg"
   ]
  },
  {
   "cell_type": "code",
   "execution_count": null,
   "id": "7c14ec3c-fc5c-4195-9521-c09420f86c4a",
   "metadata": {},
   "outputs": [],
   "source": [
    "# # base_path = 'secret_Visium-HD/Visium_HD_Human_Lung_Cancer/square_016um/'\n",
    "# base_path = 'secret_Visium-HD/Visium_HD_Human_Lung_Cancer/square_008um/'\n",
    "\n",
    "# # # there is no analysis directory at 2um resolution\n",
    "# # base_path = 'secret_Visium-HD/Visium_HD_Human_Lung_Cancer/square_002um/'\n",
    "\n",
    "# df_pos = pd.read_parquet(base_path + 'spatial/tissue_positions.parquet')\n",
    "# # df_pos.head(50)"
   ]
  },
  {
   "cell_type": "code",
   "execution_count": null,
   "id": "09115db5-d9d1-4a77-99cc-27d9931de5bf",
   "metadata": {},
   "outputs": [],
   "source": [
    "# tile_merge"
   ]
  },
  {
   "cell_type": "markdown",
   "id": "b5b0adbb-7a59-4520-86db-9d3519e0bb13",
   "metadata": {},
   "source": [
    "### Make Image Pyramid"
   ]
  },
  {
   "cell_type": "code",
   "execution_count": null,
   "id": "468528ed-57fa-4823-85d7-71ace1987bcf",
   "metadata": {},
   "outputs": [],
   "source": [
    "# image_data_scaled = image_data[:,:] * 5\n",
    "\n",
    "# # Save the image data to a regular TIFF file without compression\n",
    "# tifffile.imwrite(base_path + 'output_regular.tif', image_data_scaled, compression=None)\n",
    "# image_ds = dega.pre.reduce_image_size(base_path + 'output_regular.tif', 0.5, path_landscape_files)\n",
    "# image_jpeg = dega.pre.convert_to_jpeg(image_ds, quality=80)\n",
    "# dega.pre.make_deepzoom_pyramid(image_jpeg, base_path + 'landscape_files/pyramid_images/', 'cellbound')"
   ]
  },
  {
   "cell_type": "code",
   "execution_count": null,
   "id": "6e89b230-2ad2-4b06-afa0-b81b696cb2b4",
   "metadata": {},
   "outputs": [],
   "source": [
    "base_path"
   ]
  },
  {
   "cell_type": "code",
   "execution_count": null,
   "id": "ac6da5a5-34db-4ae1-8a14-ebcb0367800f",
   "metadata": {},
   "outputs": [],
   "source": [
    "dega.pre.make_deepzoom_pyramid(base_path + 'spatial/tissue_hires_image.png', base_path + 'landscape_files/pyramid_images/', 'cells', suffix=\".jpeg[Q=95]\")"
   ]
  },
  {
   "cell_type": "code",
   "execution_count": null,
   "id": "ee03fbb3-9bdf-49ed-9177-ba063a5ff61b",
   "metadata": {},
   "outputs": [],
   "source": [
    "# Example usage:\n",
    "path_image_pyramid = base_path + 'landscape_files/pyramid_images/cells_files/'  # Change this to your actual directory path\n",
    "max_pyramid_zoom = dega.pre.get_max_zoom_level(path_image_pyramid)\n",
    "\n",
    "print(max_pyramid_zoom)"
   ]
  },
  {
   "cell_type": "code",
   "execution_count": null,
   "id": "41640c95-2c38-4525-a8c4-ab7139d58968",
   "metadata": {},
   "outputs": [],
   "source": [
    "dega.pre.save_landscape_parameters(\n",
    "    'Visium-HD', \n",
    "    base_path + '/landscape_files/',\n",
    "    'cells_files',\n",
    "    tile_size=100    \n",
    ")"
   ]
  },
  {
   "cell_type": "code",
   "execution_count": null,
   "id": "3e341796-8d8b-401e-81bc-7a07e78eef49",
   "metadata": {},
   "outputs": [],
   "source": []
  }
 ],
 "metadata": {
  "kernelspec": {
   "display_name": "Python 3 (ipykernel)",
   "language": "python",
   "name": "python3"
  },
  "language_info": {
   "codemirror_mode": {
    "name": "ipython",
    "version": 3
   },
   "file_extension": ".py",
   "mimetype": "text/x-python",
   "name": "python",
   "nbconvert_exporter": "python",
   "pygments_lexer": "ipython3",
   "version": "3.9.19"
  },
  "widgets": {
   "application/vnd.jupyter.widget-state+json": {
    "state": {},
    "version_major": 2,
    "version_minor": 0
   }
  }
 },
 "nbformat": 4,
 "nbformat_minor": 5
}
