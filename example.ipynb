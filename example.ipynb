{
 "cells": [
  {
   "cell_type": "code",
   "execution_count": 5,
   "metadata": {},
   "outputs": [
    {
     "name": "stdout",
     "output_type": "stream",
     "text": [
      "The autoreload extension is already loaded. To reload it, use:\n",
      "  %reload_ext autoreload\n",
      "env: ANYWIDGET_HMR=1\n"
     ]
    }
   ],
   "source": [
    "%load_ext autoreload\n",
    "%autoreload 2\n",
    "%env ANYWIDGET_HMR=1"
   ]
  },
  {
   "cell_type": "code",
   "execution_count": 6,
   "metadata": {},
   "outputs": [
    {
     "data": {
      "application/vnd.jupyter.widget-view+json": {
       "model_id": "c2ac060340ae426a9ab097c758bb56b0",
       "version_major": 2,
       "version_minor": 0
      },
      "text/plain": [
       "Counter()"
      ]
     },
     "execution_count": 6,
     "metadata": {},
     "output_type": "execute_result"
    }
   ],
   "source": [
    "from celldega import Counter\n",
    "Counter()"
   ]
  },
  {
   "cell_type": "code",
   "execution_count": null,
   "metadata": {},
   "outputs": [],
   "source": []
  }
 ],
 "metadata": {
  "kernelspec": {
   "display_name": "Python 3 (ipykernel)",
   "language": "python",
   "name": "python3"
  },
  "language_info": {
   "codemirror_mode": {
    "name": "ipython",
    "version": 3
   },
   "file_extension": ".py",
   "mimetype": "text/x-python",
   "name": "python",
   "nbconvert_exporter": "python",
   "pygments_lexer": "ipython3",
   "version": "3.9.19"
  },
  "widgets": {
   "application/vnd.jupyter.widget-state+json": {
    "state": {
     "34d719e8eff5471eb5733a9f70b3f740": {
      "model_module": "@jupyter-widgets/base",
      "model_module_version": "2.0.0",
      "model_name": "LayoutModel",
      "state": {}
     },
     "491203caac96413d8762efe64ce78650": {
      "model_module": "@jupyter-widgets/base",
      "model_module_version": "2.0.0",
      "model_name": "LayoutModel",
      "state": {}
     },
     "551e5506f250462198c06f0947ec8a29": {
      "model_module": "anywidget",
      "model_module_version": "0.9.6",
      "model_name": "AnyModel",
      "state": {
       "_anywidget_id": "celldega.Counter",
       "_css": ".celldega-counter-button{background:linear-gradient(300deg,#93f 33.26%,#f66,#faca30,#00cd99,#0cf 86.29%);border-radius:10px;border:0;color:#fff;cursor:pointer;font-family:Roboto,sans-serif;font-size:2em;margin:10px;padding:10px 20px;transition:transform .25s ease-in-out}.celldega-counter-button:hover{transform:scale(1.05)}\n",
       "_esm": "function a({model:e,el:n}){let t=document.createElement(\"button\");t.classList.add(\"celldega-counter-button\"),t.innerHTML=`count is ${e.get(\"value\")}`,t.addEventListener(\"click\",()=>{e.set(\"value\",e.get(\"value\")+1),e.save_changes()}),e.on(\"change:value\",()=>{t.innerHTML=`count is ${e.get(\"value\")}`}),n.appendChild(t)}var i={render:a};export{i as default};\n",
       "_model_module": "anywidget",
       "_model_module_version": "0.9.6",
       "_model_name": "AnyModel",
       "_view_module": "anywidget",
       "_view_module_version": "0.9.6",
       "_view_name": "AnyView",
       "layout": "IPY_MODEL_a531ec7e176d45f2b748f182faba7137",
       "value": 40
      }
     },
     "6b6d7718eb1e4b33a027196e8598cd73": {
      "model_module": "@jupyter-widgets/base",
      "model_module_version": "2.0.0",
      "model_name": "LayoutModel",
      "state": {}
     },
     "a531ec7e176d45f2b748f182faba7137": {
      "model_module": "@jupyter-widgets/base",
      "model_module_version": "2.0.0",
      "model_name": "LayoutModel",
      "state": {}
     },
     "aff42edd3d1c4380a159e9ae4cd27815": {
      "model_module": "anywidget",
      "model_module_version": "0.9.6",
      "model_name": "AnyModel",
      "state": {
       "_anywidget_id": "celldega.Counter",
       "_css": ".celldega-counter-button{background:linear-gradient(300deg,#93f 33.26%,#f66,#faca30,#00cd99,#0cf 86.29%);border-radius:10px;border:0;color:#fff;cursor:pointer;font-family:Roboto,sans-serif;font-size:2em;margin:10px;padding:10px 20px;transition:transform .25s ease-in-out}.celldega-counter-button:hover{transform:scale(1.05)}\n",
       "_esm": "function a({model:e,el:n}){let t=document.createElement(\"button\");t.classList.add(\"celldega-counter-button\"),t.innerHTML=`count is ${e.get(\"value\")}`,t.addEventListener(\"click\",()=>{e.set(\"value\",e.get(\"value\")+1),e.save_changes()}),e.on(\"change:value\",()=>{t.innerHTML=`count is ${e.get(\"value\")}`}),n.appendChild(t)}var i={render:a};export{i as default};\n",
       "_model_module": "anywidget",
       "_model_module_version": "0.9.6",
       "_model_name": "AnyModel",
       "_view_module": "anywidget",
       "_view_module_version": "0.9.6",
       "_view_name": "AnyView",
       "layout": "IPY_MODEL_34d719e8eff5471eb5733a9f70b3f740",
       "value": 0
      }
     },
     "c2ac060340ae426a9ab097c758bb56b0": {
      "model_module": "anywidget",
      "model_module_version": "0.9.6",
      "model_name": "AnyModel",
      "state": {
       "_anywidget_id": "celldega.Counter",
       "_css": ".celldega-counter-button{background:linear-gradient(300deg,#93f 33.26%,#f66,#faca30,#00cd99,#0cf 86.29%);border-radius:10px;border:0;color:#fff;cursor:pointer;font-family:Roboto,sans-serif;font-size:2em;margin:10px;padding:10px 20px;transition:transform .25s ease-in-out}.celldega-counter-button:hover{transform:scale(1.05)}\n",
       "_esm": "function a({model:e,el:n}){let t=document.createElement(\"button\");t.classList.add(\"celldega-counter-button\"),t.innerHTML=`count is ${e.get(\"value\")}`,t.addEventListener(\"click\",()=>{e.set(\"value\",e.get(\"value\")+1),e.save_changes()}),e.on(\"change:value\",()=>{t.innerHTML=`count is ${e.get(\"value\")}`}),n.appendChild(t)}var i={render:a};export{i as default};\n",
       "_model_module": "anywidget",
       "_model_module_version": "0.9.6",
       "_model_name": "AnyModel",
       "_view_module": "anywidget",
       "_view_module_version": "0.9.6",
       "_view_name": "AnyView",
       "layout": "IPY_MODEL_491203caac96413d8762efe64ce78650",
       "value": 0
      }
     },
     "d9774c69433742a292ff83620583f6c1": {
      "model_module": "anywidget",
      "model_module_version": "0.9.6",
      "model_name": "AnyModel",
      "state": {
       "_anywidget_id": "celldega.Counter",
       "_css": ".celldega-counter-button{background:linear-gradient(300deg,#93f 33.26%,#f66,#faca30,#00cd99,#0cf 86.29%);border-radius:10px;border:0;color:#fff;cursor:pointer;font-family:Roboto,sans-serif;font-size:2em;margin:10px;padding:10px 20px;transition:transform .25s ease-in-out}.celldega-counter-button:hover{transform:scale(1.05)}\n",
       "_esm": "function a({model:e,el:n}){let t=document.createElement(\"button\");t.classList.add(\"celldega-counter-button\"),t.innerHTML=`count is ${e.get(\"value\")}`,t.addEventListener(\"click\",()=>{e.set(\"value\",e.get(\"value\")+1),e.save_changes()}),e.on(\"change:value\",()=>{t.innerHTML=`count is ${e.get(\"value\")}`}),n.appendChild(t)}var i={render:a};export{i as default};\n",
       "_model_module": "anywidget",
       "_model_module_version": "0.9.6",
       "_model_name": "AnyModel",
       "_view_module": "anywidget",
       "_view_module_version": "0.9.6",
       "_view_name": "AnyView",
       "layout": "IPY_MODEL_6b6d7718eb1e4b33a027196e8598cd73",
       "value": 0
      }
     }
    },
    "version_major": 2,
    "version_minor": 0
   }
  }
 },
 "nbformat": 4,
 "nbformat_minor": 4
}
