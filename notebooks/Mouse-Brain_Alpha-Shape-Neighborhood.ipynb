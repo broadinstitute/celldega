{
 "cells": [
  {
   "cell_type": "markdown",
   "id": "f3b592ae-5752-4401-bd79-bc603cc42065",
   "metadata": {},
   "source": [
    "# Mouse Brain Alpha Shape Neighborhoods"
   ]
  },
  {
   "cell_type": "code",
   "execution_count": null,
   "id": "ae5c650c-8161-4af5-b3e7-279d1efb465e",
   "metadata": {},
   "outputs": [],
   "source": [
    "%load_ext autoreload\n",
    "%autoreload 2\n",
    "%env ANYWIDGET_HMR=1"
   ]
  },
  {
   "cell_type": "code",
   "execution_count": null,
   "id": "27b0ec8f-db08-468a-92fb-2033ae7e0109",
   "metadata": {},
   "outputs": [],
   "source": [
    "# macOS requirement\n",
    "import os\n",
    "os.environ['DYLD_LIBRARY_PATH'] = '/opt/homebrew/lib:' + os.environ.get('DYLD_LIBRARY_PATH', '')"
   ]
  },
  {
   "cell_type": "code",
   "execution_count": null,
   "id": "717bf99c-ea8f-48ad-989e-850e19b29246",
   "metadata": {},
   "outputs": [],
   "source": [
    "from shapely import Point, MultiPoint, MultiPolygon\n",
    "import geopandas as gpd\n",
    "import numpy as np\n",
    "import pandas as pd\n",
    "import geopandas as gpd\n",
    "from libpysal.cg import alpha_shape\n",
    "import matplotlib.pyplot as plt\n",
    "import json\n",
    "from ipywidgets import Widget\n",
    "import celldega as dega"
   ]
  },
  {
   "cell_type": "markdown",
   "id": "e64046b6-bced-42a5-b445-6010761e8168",
   "metadata": {},
   "source": [
    "### Load Data"
   ]
  },
  {
   "cell_type": "code",
   "execution_count": null,
   "id": "388899db-eae4-4a30-ac69-dd6a6e2a19e7",
   "metadata": {},
   "outputs": [],
   "source": [
    "base_path = 'https://raw.githubusercontent.com/broadinstitute/celldega_Xenium_Prime_Mouse_Brain_Coronal_FF_outs/main/Xenium_Prime_Mouse_Brain_Coronal_FF_outs/'"
   ]
  },
  {
   "cell_type": "code",
   "execution_count": null,
   "id": "3e307e0b-4110-4233-943e-1d1b27d970c8",
   "metadata": {},
   "outputs": [],
   "source": [
    "meta_cell_ini = pd.read_parquet(base_path + 'cell_metadata.parquet')\n",
    "cluster = pd.read_parquet(base_path + 'cell_clusters/cluster.parquet')\n",
    "meta_cluster = pd.read_parquet(base_path + 'cell_clusters/meta_cluster.parquet')\n",
    "meta_cell = pd.concat([meta_cell_ini, cluster], axis=1)"
   ]
  },
  {
   "cell_type": "markdown",
   "id": "3ecd558e-8459-472e-a6db-c79e43bda339",
   "metadata": {},
   "source": [
    "### Calculate Alpha Shape Neighborhoods"
   ]
  },
  {
   "cell_type": "code",
   "execution_count": null,
   "id": "9fc35708-0bba-4297-a459-dc01d34f40af",
   "metadata": {},
   "outputs": [],
   "source": [
    "gdf_alpha = dega.nbhd.alpha_shape_cell_clusters(meta_cell, cat='cluster', alphas=[100, 150, 200, 250, 300, 350])\n",
    "geojson_alpha = dega.nbhd.alpha_shape_geojson(gdf_alpha, meta_cluster, inst_alpha=250)"
   ]
  },
  {
   "cell_type": "code",
   "execution_count": null,
   "id": "2343fdd2-694f-420c-8690-bcb6fcef0cb2",
   "metadata": {},
   "outputs": [],
   "source": [
    "Widget.close_all()\n",
    "base_url = base_path.rstrip('/')\n",
    "landscape_ist = dega.viz.Landscape(\n",
    "    technology='Xenium',\n",
    "    ini_zoom = -4.5,\n",
    "    ini_x=6000,\n",
    "    ini_y=8000,\n",
    "    base_url = base_url,\n",
    "    nbhd=geojson_alpha\n",
    ")\n",
    "\n",
    "landscape_ist"
   ]
  }
 ],
 "metadata": {
  "kernelspec": {
   "display_name": "Python 3 (ipykernel)",
   "language": "python",
   "name": "python3"
  },
  "language_info": {
   "codemirror_mode": {
    "name": "ipython",
    "version": 3
   },
   "file_extension": ".py",
   "mimetype": "text/x-python",
   "name": "python",
   "nbconvert_exporter": "python",
   "pygments_lexer": "ipython3",
   "version": "3.9.19"
  },
  "widgets": {
   "application/vnd.jupyter.widget-state+json": {
    "state": {},
    "version_major": 2,
    "version_minor": 0
   }
  }
 },
 "nbformat": 4,
 "nbformat_minor": 5
}
