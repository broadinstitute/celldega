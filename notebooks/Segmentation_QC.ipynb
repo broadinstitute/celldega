{
 "cells": [
  {
   "cell_type": "markdown",
   "id": "8af40919-471f-489c-b99f-925dcee30c87",
   "metadata": {},
   "source": [
    "# Segmentation QC"
   ]
  },
  {
   "cell_type": "code",
   "execution_count": 1,
   "id": "d28ad6c4-ac99-4494-ad7d-6376a0b3cd18",
   "metadata": {},
   "outputs": [
    {
     "name": "stdout",
     "output_type": "stream",
     "text": [
      "env: ANYWIDGET_HMR=1\n"
     ]
    }
   ],
   "source": [
    "%load_ext autoreload\n",
    "%autoreload 2\n",
    "%env ANYWIDGET_HMR=1"
   ]
  },
  {
   "cell_type": "code",
   "execution_count": 10,
   "id": "1ba4053d-2df3-4f14-9bd1-5950514306da",
   "metadata": {},
   "outputs": [],
   "source": [
    "# macOS requirement\n",
    "import os\n",
    "import numpy as np\n",
    "import pandas as pd\n",
    "import geopandas as gpd\n",
    "import celldega as dega\n",
    "os.environ['DYLD_LIBRARY_PATH'] = '/opt/homebrew/lib:' + os.environ.get('DYLD_LIBRARY_PATH', '')"
   ]
  },
  {
   "cell_type": "code",
   "execution_count": null,
   "id": "3a38fd38-59fe-427c-bd97-d3e68b184d9f",
   "metadata": {},
   "outputs": [],
   "source": []
  },
  {
   "cell_type": "code",
   "execution_count": null,
   "id": "4c03b2f2-a2de-4c92-8cb5-f7c911720404",
   "metadata": {},
   "outputs": [
    {
     "name": "stdout",
     "output_type": "stream",
     "text": [
      "segmentation metrics calculation completed\n"
     ]
    }
   ],
   "source": [
    "metrics_df, gene_specific_metrics_df = dega.qc.qc_segmentation(transcript_metadata_file=\"data/segmentation_metrics_data/submissions_b41b6b90-1a22-4e63-9fa8-6a80bbeacfc9_MAIN_WORKFLOW_8d99fba5-76b7-466f-afa0-d33105c75de0_call-partitioning_transcript_cell_by_gene_partitioned_transcripts_metadata.parquet\", \n",
    "                                                          transcript_data_file=\"data/segmentation_metrics_data/submissions_b41b6b90-1a22-4e63-9fa8-6a80bbeacfc9_MAIN_WORKFLOW_8d99fba5-76b7-466f-afa0-d33105c75de0_call-create_subset_subset_coordinates.csv\", \n",
    "                                                          cell_polygon_metadata_file=\"data/segmentation_metrics_data/submissions_b41b6b90-1a22-4e63-9fa8-6a80bbeacfc9_MAIN_WORKFLOW_8d99fba5-76b7-466f-afa0-d33105c75de0_call-partitioning_transcript_cell_by_gene_cell_metadata.parquet\", \n",
    "                                                          cell_polygon_data_file=\"data/segmentation_metrics_data/submissions_b41b6b90-1a22-4e63-9fa8-6a80bbeacfc9_MAIN_WORKFLOW_8d99fba5-76b7-466f-afa0-d33105c75de0_call-partitioning_transcript_cell_by_gene_cell_polygons.parquet\", \n",
    "                                                          subset_interval_y_x=[0,20294,0,42748],\n",
    "                                                          pixel_size=0.2125, \n",
    "                                                          dataset_name=\"Xenium-Prostate\", \n",
    "                                                          segmentation_approach=\"Cellpose2\", \n",
    "                                                          from_stp = True)"
   ]
  },
  {
   "cell_type": "code",
   "execution_count": 7,
   "id": "d9b5cd7c-27bf-4430-b87a-1f8ac451896d",
   "metadata": {},
   "outputs": [
    {
     "data": {
      "text/html": [
       "<div>\n",
       "<style scoped>\n",
       "    .dataframe tbody tr th:only-of-type {\n",
       "        vertical-align: middle;\n",
       "    }\n",
       "\n",
       "    .dataframe tbody tr th {\n",
       "        vertical-align: top;\n",
       "    }\n",
       "\n",
       "    .dataframe thead th {\n",
       "        text-align: right;\n",
       "    }\n",
       "</style>\n",
       "<table border=\"1\" class=\"dataframe\">\n",
       "  <thead>\n",
       "    <tr style=\"text-align: right;\">\n",
       "      <th></th>\n",
       "      <th>proportion_transcripts_assigned_to_cells</th>\n",
       "      <th>total_number_of_cells</th>\n",
       "      <th>average_cell_area</th>\n",
       "      <th>average_cell_volume</th>\n",
       "      <th>average_transcripts_per_cell</th>\n",
       "      <th>median_transcripts_per_cell</th>\n",
       "      <th>average_genes_per_cell</th>\n",
       "      <th>median_genes_per_cell</th>\n",
       "      <th>cells_per_100_um^2</th>\n",
       "      <th>percent_empty_cells</th>\n",
       "    </tr>\n",
       "  </thead>\n",
       "  <tbody>\n",
       "    <tr>\n",
       "      <th>Xenium-Prostate-Cellpose2</th>\n",
       "      <td>91.175765</td>\n",
       "      <td>222902.0</td>\n",
       "      <td>2326.244272</td>\n",
       "      <td>2326.244272</td>\n",
       "      <td>244.308589</td>\n",
       "      <td>175.0</td>\n",
       "      <td>179.442647</td>\n",
       "      <td>143.0</td>\n",
       "      <td>0.569</td>\n",
       "      <td>5.702634</td>\n",
       "    </tr>\n",
       "  </tbody>\n",
       "</table>\n",
       "</div>"
      ],
      "text/plain": [
       "                           proportion_transcripts_assigned_to_cells  \\\n",
       "Xenium-Prostate-Cellpose2                                 91.175765   \n",
       "\n",
       "                           total_number_of_cells  average_cell_area  \\\n",
       "Xenium-Prostate-Cellpose2               222902.0        2326.244272   \n",
       "\n",
       "                           average_cell_volume  average_transcripts_per_cell  \\\n",
       "Xenium-Prostate-Cellpose2          2326.244272                    244.308589   \n",
       "\n",
       "                           median_transcripts_per_cell  \\\n",
       "Xenium-Prostate-Cellpose2                        175.0   \n",
       "\n",
       "                           average_genes_per_cell  median_genes_per_cell  \\\n",
       "Xenium-Prostate-Cellpose2              179.442647                  143.0   \n",
       "\n",
       "                           cells_per_100_um^2  percent_empty_cells  \n",
       "Xenium-Prostate-Cellpose2               0.569             5.702634  "
      ]
     },
     "execution_count": 7,
     "metadata": {},
     "output_type": "execute_result"
    }
   ],
   "source": [
    "metrics_df"
   ]
  },
  {
   "cell_type": "code",
   "execution_count": 8,
   "id": "3a64db49-d295-4df6-8197-87186f2b592c",
   "metadata": {},
   "outputs": [
    {
     "data": {
      "text/html": [
       "<div>\n",
       "<style scoped>\n",
       "    .dataframe tbody tr th:only-of-type {\n",
       "        vertical-align: middle;\n",
       "    }\n",
       "\n",
       "    .dataframe tbody tr th {\n",
       "        vertical-align: top;\n",
       "    }\n",
       "\n",
       "    .dataframe thead th {\n",
       "        text-align: right;\n",
       "    }\n",
       "</style>\n",
       "<table border=\"1\" class=\"dataframe\">\n",
       "  <thead>\n",
       "    <tr style=\"text-align: right;\">\n",
       "      <th></th>\n",
       "      <th>A2ML1</th>\n",
       "      <th>AAMP</th>\n",
       "      <th>AAR2</th>\n",
       "      <th>AARSD1</th>\n",
       "      <th>ABAT</th>\n",
       "      <th>ABCA1</th>\n",
       "      <th>ABCA3</th>\n",
       "      <th>ABCA4</th>\n",
       "      <th>ABCA7</th>\n",
       "      <th>ABCB1</th>\n",
       "      <th>...</th>\n",
       "      <th>ZPR1</th>\n",
       "      <th>ZSCAN1</th>\n",
       "      <th>ZSCAN12</th>\n",
       "      <th>ZSCAN16</th>\n",
       "      <th>ZSCAN20</th>\n",
       "      <th>ZSCAN26</th>\n",
       "      <th>ZSWIM6</th>\n",
       "      <th>ZUP1</th>\n",
       "      <th>ZYG11B</th>\n",
       "      <th>ZYX</th>\n",
       "    </tr>\n",
       "    <tr>\n",
       "      <th>metric_name</th>\n",
       "      <th></th>\n",
       "      <th></th>\n",
       "      <th></th>\n",
       "      <th></th>\n",
       "      <th></th>\n",
       "      <th></th>\n",
       "      <th></th>\n",
       "      <th></th>\n",
       "      <th></th>\n",
       "      <th></th>\n",
       "      <th></th>\n",
       "      <th></th>\n",
       "      <th></th>\n",
       "      <th></th>\n",
       "      <th></th>\n",
       "      <th></th>\n",
       "      <th></th>\n",
       "      <th></th>\n",
       "      <th></th>\n",
       "      <th></th>\n",
       "      <th></th>\n",
       "    </tr>\n",
       "  </thead>\n",
       "  <tbody>\n",
       "    <tr>\n",
       "      <th>proportion_of_cells_expressing_gene</th>\n",
       "      <td>0.002481</td>\n",
       "      <td>0.080183</td>\n",
       "      <td>0.023656</td>\n",
       "      <td>0.026509</td>\n",
       "      <td>0.065536</td>\n",
       "      <td>0.040614</td>\n",
       "      <td>0.010561</td>\n",
       "      <td>0.003037</td>\n",
       "      <td>0.007707</td>\n",
       "      <td>0.013199</td>\n",
       "      <td>...</td>\n",
       "      <td>0.044284</td>\n",
       "      <td>0.001243</td>\n",
       "      <td>0.006272</td>\n",
       "      <td>0.013804</td>\n",
       "      <td>0.003468</td>\n",
       "      <td>0.020296</td>\n",
       "      <td>0.012956</td>\n",
       "      <td>0.018461</td>\n",
       "      <td>0.023239</td>\n",
       "      <td>0.082045</td>\n",
       "    </tr>\n",
       "    <tr>\n",
       "      <th>average_expression_of_gene</th>\n",
       "      <td>123057.208754</td>\n",
       "      <td>121548.253464</td>\n",
       "      <td>121304.050548</td>\n",
       "      <td>121298.324476</td>\n",
       "      <td>120963.472938</td>\n",
       "      <td>123923.963961</td>\n",
       "      <td>122071.672635</td>\n",
       "      <td>124475.617479</td>\n",
       "      <td>124972.854767</td>\n",
       "      <td>127129.511957</td>\n",
       "      <td>...</td>\n",
       "      <td>122189.691219</td>\n",
       "      <td>122167.853242</td>\n",
       "      <td>123799.095175</td>\n",
       "      <td>123909.465307</td>\n",
       "      <td>123688.196341</td>\n",
       "      <td>122751.211645</td>\n",
       "      <td>124136.573004</td>\n",
       "      <td>124365.246235</td>\n",
       "      <td>121100.706963</td>\n",
       "      <td>123282.481808</td>\n",
       "    </tr>\n",
       "    <tr>\n",
       "      <th>assigned_transcripts_per_gene</th>\n",
       "      <td>0.950400</td>\n",
       "      <td>0.922834</td>\n",
       "      <td>0.922300</td>\n",
       "      <td>0.935246</td>\n",
       "      <td>0.929936</td>\n",
       "      <td>0.941423</td>\n",
       "      <td>0.936224</td>\n",
       "      <td>0.966759</td>\n",
       "      <td>0.943515</td>\n",
       "      <td>0.932544</td>\n",
       "      <td>...</td>\n",
       "      <td>0.906876</td>\n",
       "      <td>0.966997</td>\n",
       "      <td>0.877610</td>\n",
       "      <td>0.934869</td>\n",
       "      <td>0.925508</td>\n",
       "      <td>0.908332</td>\n",
       "      <td>0.946553</td>\n",
       "      <td>0.925840</td>\n",
       "      <td>0.890543</td>\n",
       "      <td>0.882710</td>\n",
       "    </tr>\n",
       "  </tbody>\n",
       "</table>\n",
       "<p>3 rows × 10006 columns</p>\n",
       "</div>"
      ],
      "text/plain": [
       "                                             A2ML1           AAMP  \\\n",
       "metric_name                                                         \n",
       "proportion_of_cells_expressing_gene       0.002481       0.080183   \n",
       "average_expression_of_gene           123057.208754  121548.253464   \n",
       "assigned_transcripts_per_gene             0.950400       0.922834   \n",
       "\n",
       "                                              AAR2         AARSD1  \\\n",
       "metric_name                                                         \n",
       "proportion_of_cells_expressing_gene       0.023656       0.026509   \n",
       "average_expression_of_gene           121304.050548  121298.324476   \n",
       "assigned_transcripts_per_gene             0.922300       0.935246   \n",
       "\n",
       "                                              ABAT          ABCA1  \\\n",
       "metric_name                                                         \n",
       "proportion_of_cells_expressing_gene       0.065536       0.040614   \n",
       "average_expression_of_gene           120963.472938  123923.963961   \n",
       "assigned_transcripts_per_gene             0.929936       0.941423   \n",
       "\n",
       "                                             ABCA3          ABCA4  \\\n",
       "metric_name                                                         \n",
       "proportion_of_cells_expressing_gene       0.010561       0.003037   \n",
       "average_expression_of_gene           122071.672635  124475.617479   \n",
       "assigned_transcripts_per_gene             0.936224       0.966759   \n",
       "\n",
       "                                             ABCA7          ABCB1  ...  \\\n",
       "metric_name                                                        ...   \n",
       "proportion_of_cells_expressing_gene       0.007707       0.013199  ...   \n",
       "average_expression_of_gene           124972.854767  127129.511957  ...   \n",
       "assigned_transcripts_per_gene             0.943515       0.932544  ...   \n",
       "\n",
       "                                              ZPR1         ZSCAN1  \\\n",
       "metric_name                                                         \n",
       "proportion_of_cells_expressing_gene       0.044284       0.001243   \n",
       "average_expression_of_gene           122189.691219  122167.853242   \n",
       "assigned_transcripts_per_gene             0.906876       0.966997   \n",
       "\n",
       "                                           ZSCAN12        ZSCAN16  \\\n",
       "metric_name                                                         \n",
       "proportion_of_cells_expressing_gene       0.006272       0.013804   \n",
       "average_expression_of_gene           123799.095175  123909.465307   \n",
       "assigned_transcripts_per_gene             0.877610       0.934869   \n",
       "\n",
       "                                           ZSCAN20        ZSCAN26  \\\n",
       "metric_name                                                         \n",
       "proportion_of_cells_expressing_gene       0.003468       0.020296   \n",
       "average_expression_of_gene           123688.196341  122751.211645   \n",
       "assigned_transcripts_per_gene             0.925508       0.908332   \n",
       "\n",
       "                                            ZSWIM6           ZUP1  \\\n",
       "metric_name                                                         \n",
       "proportion_of_cells_expressing_gene       0.012956       0.018461   \n",
       "average_expression_of_gene           124136.573004  124365.246235   \n",
       "assigned_transcripts_per_gene             0.946553       0.925840   \n",
       "\n",
       "                                            ZYG11B            ZYX  \n",
       "metric_name                                                        \n",
       "proportion_of_cells_expressing_gene       0.023239       0.082045  \n",
       "average_expression_of_gene           121100.706963  123282.481808  \n",
       "assigned_transcripts_per_gene             0.890543       0.882710  \n",
       "\n",
       "[3 rows x 10006 columns]"
      ]
     },
     "execution_count": 8,
     "metadata": {},
     "output_type": "execute_result"
    }
   ],
   "source": [
    "gene_specific_metrics_df"
   ]
  },
  {
   "cell_type": "code",
   "execution_count": 9,
   "id": "acf9661a-c46c-44c6-8a0a-2a37c68ff3ae",
   "metadata": {},
   "outputs": [],
   "source": [
    "cells_per_um2 should be calculated in the tissue region only (use alphashape)\n",
    "add tissue alphashape in the metrics df as a column"
   ]
  },
  {
   "cell_type": "code",
   "execution_count": null,
   "id": "bb67b60d-90e0-4a52-8ddd-795980a0877b",
   "metadata": {},
   "outputs": [],
   "source": []
  },
  {
   "cell_type": "code",
   "execution_count": 4,
   "id": "ee3ed930-d608-47fa-90af-61d8d8af9242",
   "metadata": {},
   "outputs": [],
   "source": [
    "import alphashape"
   ]
  },
  {
   "cell_type": "code",
   "execution_count": 5,
   "id": "a18dc011-6d3c-4d76-85f2-515cf3714f50",
   "metadata": {},
   "outputs": [],
   "source": [
    "import matplotlib.pyplot as plt\n",
    "from shapely.geometry import Point, Polygon, MultiPoint, LineString\n",
    "from shapely.affinity import translate"
   ]
  },
  {
   "cell_type": "code",
   "execution_count": null,
   "id": "bc828f00-ba92-4408-bdd1-929588f4a18c",
   "metadata": {},
   "outputs": [],
   "source": []
  },
  {
   "cell_type": "code",
   "execution_count": null,
   "id": "839b3d73-5c75-470c-91de-1bf8ccc700ec",
   "metadata": {},
   "outputs": [],
   "source": [
    "\n",
    "\n",
    "#geoms = alpha_shape.geoms  \n",
    "largest_polygon = max(alpha_shape.geoms, key=lambda p: p.area)\n",
    "\n",
    "#geoms_with_area = [(geom, geom.area) for geom in geoms if isinstance(geom, Polygon)]\n",
    "#sorted_geoms = sorted(geoms_with_area, key=lambda x: x[1], reverse=True)\n",
    "#if len(sorted_geoms) > 1:\n",
    "#    second_largest_geom = sorted_geoms[1][0]\n",
    "#else:\n",
    "#    second_largest_geom = None\n",
    "    \n",
    "fig, ax = plt.subplots(figsize=(40, 40))\n",
    "ax.scatter(points[:, 0], points[:, 1], color='blue', label='Vertices', s=50)\n",
    "\n",
    "x, y = largest_polygon.exterior.xy\n",
    "ax.plot(x, y, color='red', label='Alpha Shape', linewidth=20)\n",
    "\n",
    "ax.legend(fontsize=30)\n",
    "plt.show()\n",
    "\n",
    "gdf = gpd.GeoDataFrame(geometry=[largest_polygon])\n",
    "gdf.to_parquet('../../../Downloads/alphashape_epidermis_skin.parquet', index=False)"
   ]
  },
  {
   "cell_type": "code",
   "execution_count": 8,
   "id": "26455716-8105-47e3-88aa-753aae75e650",
   "metadata": {},
   "outputs": [],
   "source": [
    "trx_xen_def = pd.read_parquet(\"/Users/jishar/Documents/cell_segmentation/segmentation_data/original_data/Xenium_Prime_Human_Skin_FFPE_outs/transcripts.parquet\")"
   ]
  },
  {
   "cell_type": "code",
   "execution_count": 11,
   "id": "a89ed422-5887-4950-ba92-0a2e7ff5d8c9",
   "metadata": {},
   "outputs": [],
   "source": [
    "tuple_list = list(zip(trx_xen_def['x_location'], trx_xen_def['y_location']))\n",
    "points = np.array(tuple_list)"
   ]
  },
  {
   "cell_type": "code",
   "execution_count": null,
   "id": "db3bad23-455c-4efa-87c1-58ab1ba20a9b",
   "metadata": {},
   "outputs": [],
   "source": [
    "alpha_value = 0.008\n",
    "alpha_shape = alphashape.alphashape(points, alpha_value)\n",
    "alpha_shape"
   ]
  },
  {
   "cell_type": "code",
   "execution_count": null,
   "id": "77df0ca4-4edf-4bb8-bdb1-8adf49f6bf50",
   "metadata": {},
   "outputs": [],
   "source": [
    "alpha_value = 1\n",
    "alpha_shape = alphashape.alphashape(points, alpha_value)\n",
    "alpha_shape"
   ]
  },
  {
   "cell_type": "code",
   "execution_count": null,
   "id": "e7903721-1a55-4fa7-91b6-8f0a6e12877c",
   "metadata": {},
   "outputs": [],
   "source": []
  }
 ],
 "metadata": {
  "kernelspec": {
   "display_name": "Python 3 (ipykernel)",
   "language": "python",
   "name": "python3"
  },
  "language_info": {
   "codemirror_mode": {
    "name": "ipython",
    "version": 3
   },
   "file_extension": ".py",
   "mimetype": "text/x-python",
   "name": "python",
   "nbconvert_exporter": "python",
   "pygments_lexer": "ipython3",
   "version": "3.9.20"
  },
  "widgets": {
   "application/vnd.jupyter.widget-state+json": {
    "state": {},
    "version_major": 2,
    "version_minor": 0
   }
  }
 },
 "nbformat": 4,
 "nbformat_minor": 5
}
