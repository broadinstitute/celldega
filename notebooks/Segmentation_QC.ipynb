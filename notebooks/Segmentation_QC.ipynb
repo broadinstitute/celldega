{
 "cells": [
  {
   "cell_type": "markdown",
   "id": "8af40919-471f-489c-b99f-925dcee30c87",
   "metadata": {},
   "source": [
    "# Segmentation QC"
   ]
  },
  {
   "cell_type": "code",
   "execution_count": 55,
   "id": "d28ad6c4-ac99-4494-ad7d-6376a0b3cd18",
   "metadata": {},
   "outputs": [
    {
     "name": "stdout",
     "output_type": "stream",
     "text": [
      "The autoreload extension is already loaded. To reload it, use:\n",
      "  %reload_ext autoreload\n",
      "env: ANYWIDGET_HMR=1\n"
     ]
    }
   ],
   "source": [
    "%load_ext autoreload\n",
    "%autoreload 2\n",
    "%env ANYWIDGET_HMR=1"
   ]
  },
  {
   "cell_type": "code",
   "execution_count": null,
   "id": "1ba4053d-2df3-4f14-9bd1-5950514306da",
   "metadata": {},
   "outputs": [],
   "source": [
    "# macOS requirement\n",
    "import os\n",
    "import pandas as pd\n",
    "import geopandas as gpd\n",
    "import celldega as dega\n",
    "os.environ['DYLD_LIBRARY_PATH'] = '/opt/homebrew/lib:' + os.environ.get('DYLD_LIBRARY_PATH', '')"
   ]
  },
  {
   "cell_type": "code",
   "execution_count": null,
   "id": "4c03b2f2-a2de-4c92-8cb5-f7c911720404",
   "metadata": {},
   "outputs": [],
   "source": [
    "metrics_df, gene_specific_metrics_df = dega.qc.processing(transcript_metadata_file, transcript_data_file, cell_polygon_metadata_file, cell_polygon_data_file, thickness, subset_interval_y_x, pixel_size, tech_name)"
   ]
  }
 ],
 "metadata": {
  "kernelspec": {
   "display_name": "Python 3 (ipykernel)",
   "language": "python",
   "name": "python3"
  },
  "language_info": {
   "codemirror_mode": {
    "name": "ipython",
    "version": 3
   },
   "file_extension": ".py",
   "mimetype": "text/x-python",
   "name": "python",
   "nbconvert_exporter": "python",
   "pygments_lexer": "ipython3",
   "version": "3.9.20"
  },
  "widgets": {
   "application/vnd.jupyter.widget-state+json": {
    "state": {},
    "version_major": 2,
    "version_minor": 0
   }
  }
 },
 "nbformat": 4,
 "nbformat_minor": 5
}
