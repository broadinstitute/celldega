{
 "cells": [
  {
   "cell_type": "code",
   "execution_count": 1,
   "metadata": {},
   "outputs": [
    {
     "name": "stdout",
     "output_type": "stream",
     "text": [
      "env: ANYWIDGET_HMR=1\n"
     ]
    }
   ],
   "source": [
    "%load_ext autoreload\n",
    "%autoreload 2\n",
    "%env ANYWIDGET_HMR=1"
   ]
  },
  {
   "cell_type": "code",
   "execution_count": 2,
   "metadata": {},
   "outputs": [
    {
     "data": {
      "application/vnd.jupyter.widget-view+json": {
       "model_id": "8261cd63d30c464bbc46e89ad28268d8",
       "version_major": 2,
       "version_minor": 0
      },
      "text/plain": [
       "Counter()"
      ]
     },
     "execution_count": 2,
     "metadata": {},
     "output_type": "execute_result"
    }
   ],
   "source": [
    "from celldega import Counter\n",
    "Counter()"
   ]
  },
  {
   "cell_type": "code",
   "execution_count": null,
   "metadata": {},
   "outputs": [],
   "source": []
  }
 ],
 "metadata": {
  "kernelspec": {
   "display_name": "Python 3 (ipykernel)",
   "language": "python",
   "name": "python3"
  },
  "language_info": {
   "codemirror_mode": {
    "name": "ipython",
    "version": 3
   },
   "file_extension": ".py",
   "mimetype": "text/x-python",
   "name": "python",
   "nbconvert_exporter": "python",
   "pygments_lexer": "ipython3",
   "version": "3.9.19"
  },
  "widgets": {
   "application/vnd.jupyter.widget-state+json": {
    "state": {
     "8261cd63d30c464bbc46e89ad28268d8": {
      "model_module": "anywidget",
      "model_module_version": "0.9.6",
      "model_name": "AnyModel",
      "state": {
       "_anywidget_id": "celldega.Counter",
       "_css": ".celldega-counter-button{background:linear-gradient(300deg,#93f 33.26%,#f66,#faca30,#00cd99,#0cf 86.29%);border-radius:10px;border:0;color:#fff;cursor:pointer;font-family:Roboto,sans-serif;font-size:2em;margin:10px;padding:10px 20px;transition:transform .25s ease-in-out}.celldega-counter-button:hover{transform:scale(1.05)}\n",
       "_esm": "function a({model:e,el:n}){let t=document.createElement(\"button\");t.classList.add(\"celldega-counter-button\"),t.innerHTML=`count is ${e.get(\"value\")}`,t.addEventListener(\"click\",()=>{e.set(\"value\",e.get(\"value\")+1),e.save_changes()}),e.on(\"change:value\",()=>{t.innerHTML=`count is ${e.get(\"value\")}`}),n.appendChild(t)}var i={render:a};export{i as default};\n",
       "_model_module": "anywidget",
       "_model_module_version": "0.9.6",
       "_model_name": "AnyModel",
       "_view_module": "anywidget",
       "_view_module_version": "0.9.6",
       "_view_name": "AnyView",
       "layout": "IPY_MODEL_ecfcd224dda04f7296499897c4e3a483",
       "value": 4
      }
     },
     "ecfcd224dda04f7296499897c4e3a483": {
      "model_module": "@jupyter-widgets/base",
      "model_module_version": "2.0.0",
      "model_name": "LayoutModel",
      "state": {}
     }
    },
    "version_major": 2,
    "version_minor": 0
   }
  }
 },
 "nbformat": 4,
 "nbformat_minor": 4
}
