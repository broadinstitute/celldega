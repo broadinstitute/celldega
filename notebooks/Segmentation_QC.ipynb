{
 "cells": [
  {
   "cell_type": "markdown",
   "id": "8af40919-471f-489c-b99f-925dcee30c87",
   "metadata": {},
   "source": [
    "# Segmentation QC"
   ]
  },
  {
   "cell_type": "code",
   "execution_count": 1,
   "id": "d28ad6c4-ac99-4494-ad7d-6376a0b3cd18",
   "metadata": {},
   "outputs": [
    {
     "name": "stdout",
     "output_type": "stream",
     "text": [
      "env: ANYWIDGET_HMR=1\n"
     ]
    }
   ],
   "source": [
    "%load_ext autoreload\n",
    "%autoreload 2\n",
    "%env ANYWIDGET_HMR=1"
   ]
  },
  {
   "cell_type": "code",
   "execution_count": 2,
   "id": "1ba4053d-2df3-4f14-9bd1-5950514306da",
   "metadata": {},
   "outputs": [],
   "source": [
    "# macOS requirement\n",
    "import os\n",
    "os.environ['DYLD_LIBRARY_PATH'] = '/opt/homebrew/lib:' + os.environ.get('DYLD_LIBRARY_PATH', '')"
   ]
  },
  {
   "cell_type": "code",
   "execution_count": 3,
   "id": "43b0ac01-58f7-479b-9dcf-43eaeb908be4",
   "metadata": {},
   "outputs": [],
   "source": [
    "import celldega as dega"
   ]
  },
  {
   "cell_type": "code",
   "execution_count": 4,
   "id": "01883a96-7c34-456d-b0fe-32c0f6fcda51",
   "metadata": {},
   "outputs": [
    {
     "data": {
      "text/plain": [
       "['Landscape',\n",
       " 'Matrix',\n",
       " '__all__',\n",
       " '__builtins__',\n",
       " '__cached__',\n",
       " '__doc__',\n",
       " '__file__',\n",
       " '__loader__',\n",
       " '__name__',\n",
       " '__package__',\n",
       " '__path__',\n",
       " '__spec__',\n",
       " '__version__',\n",
       " 'importlib',\n",
       " 'ist_segmentation_metrics',\n",
       " 'landscape',\n",
       " 'pre',\n",
       " 'qc',\n",
       " 'viz']"
      ]
     },
     "execution_count": 4,
     "metadata": {},
     "output_type": "execute_result"
    }
   ],
   "source": [
    "dir(dega)"
   ]
  },
  {
   "cell_type": "code",
   "execution_count": 5,
   "id": "19c3c2ac-0b38-42ea-87b1-d98e3be40d65",
   "metadata": {},
   "outputs": [
    {
     "name": "stdout",
     "output_type": "stream",
     "text": [
      "testing: MERSCOPE\n"
     ]
    }
   ],
   "source": [
    "dega.qc.ist_segmentation_metrics('MERSCOPE')"
   ]
  },
  {
   "cell_type": "code",
   "execution_count": 6,
   "id": "b38d7b59-d3c4-496e-b087-b2b218fa94f9",
   "metadata": {},
   "outputs": [
    {
     "data": {
      "text/plain": [
       "<function celldega.qc.ist_segmentation_metrics(technology='Xenium')>"
      ]
     },
     "execution_count": 6,
     "metadata": {},
     "output_type": "execute_result"
    }
   ],
   "source": [
    "dega.ist_segmentation_metrics"
   ]
  },
  {
   "cell_type": "code",
   "execution_count": null,
   "id": "ce7677fd-8f00-4712-ab6c-e5eaa18f74d3",
   "metadata": {},
   "outputs": [],
   "source": []
  }
 ],
 "metadata": {
  "kernelspec": {
   "display_name": "Python 3 (ipykernel)",
   "language": "python",
   "name": "python3"
  },
  "language_info": {
   "codemirror_mode": {
    "name": "ipython",
    "version": 3
   },
   "file_extension": ".py",
   "mimetype": "text/x-python",
   "name": "python",
   "nbconvert_exporter": "python",
   "pygments_lexer": "ipython3",
   "version": "3.9.19"
  },
  "widgets": {
   "application/vnd.jupyter.widget-state+json": {
    "state": {},
    "version_major": 2,
    "version_minor": 0
   }
  }
 },
 "nbformat": 4,
 "nbformat_minor": 5
}
